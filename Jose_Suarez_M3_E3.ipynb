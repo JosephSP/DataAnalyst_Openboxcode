{
 "cells": [
  {
   "cell_type": "markdown",
   "id": "4006e445",
   "metadata": {},
   "source": [
    "# Modulo 3: Ejercicio 3\n",
    "## Alumno: Jose Suarez"
   ]
  },
  {
   "cell_type": "markdown",
   "id": "0ed1402a",
   "metadata": {},
   "source": [
    "### 1. En esta oportunidad vamos a utilizar los datos que ocupamos en el módulo 1, nuestros datos de compra en supermercado.\n",
    "    a. Junto a este archivo, se encuentran los archivos csv para clientes, productos, boletas y detalle. Cargue, los datos de los archivos en sus respectivas variables.\n",
    "    \n",
    "    b. Ahora que tenemos los datos, podemos trabajar con ellos. Lo primero que haremos será calcular las edades. Para esto, agregue una nueva columna a los datos de los clientes, que calcule la edad a partir de su fecha de nacimiento.\n",
    "    \n",
    "    c. Calcular el promedio de edad.\n",
    "    \n",
    "    d. ¿Cuál es el cliente con la edad mayor?\n",
    "    \n",
    "    e. ¿Cuál es el menor?\n",
    "    \n",
    "    f. Buscar cuantas boletas tiene cada cliente, fusionar clientes con boletas a través del rut.\n",
    "    \n",
    "    g. Ahora, queremos hacer algo parecido con los productos. Calcular cuánto se ha vendido (en dinero) de cada producto.\n",
    "    \n",
    "    h. Agregar los productos que nunca se han vendido con un 0.\n",
    "    "
   ]
  },
  {
   "cell_type": "code",
   "execution_count": 156,
   "id": "6767c0f0",
   "metadata": {},
   "outputs": [
    {
     "name": "stdout",
     "output_type": "stream",
     "text": [
      "           rut             nombre                direccion        comuna  \\\n",
      "0   11223344-4      Tomás Ramírez                      NaN         Arica   \n",
      "1   11223344-5        Laura Rojas        Calle Virtual 567   Antofagasta   \n",
      "2   12345678-9         Juan Perez          Calle Falsa 123      Santiago   \n",
      "3   23456789-1    Pedro Rodríguez                      NaN    Valparaíso   \n",
      "4   33445566-5      Camila Torres    Calle Cibernética 456           NaN   \n",
      "5   33445566-7         Mateo Diaz                      NaN  Viña del Mar   \n",
      "6   34567890-2     Carla González      Calle Inventada 789           NaN   \n",
      "7   45678901-3     Diego Martínez       Avenida Irreal 987     La Serena   \n",
      "8   55667788-6      Matias Castro   Avenida Innovación 321           NaN   \n",
      "9   55667788-9  Valentina Herrera  Avenida Tecnológica 123           NaN   \n",
      "10  56789012-4          Ana Lopez                      NaN           NaN   \n",
      "11  67890123-5    Luisa Fernández       Calle Ficticia 321      Rancagua   \n",
      "12  77889900-1       Martin Gómez                      NaN       Iquique   \n",
      "13  77889900-7      Renata Flores                      NaN       Copiapó   \n",
      "14  78901234-6      Javier Torres   Avenida de Ensueño 654        Temuco   \n",
      "15  87654321-0      Maria Sánchez   Avenida Imaginaria 456    Concepción   \n",
      "16  89012345-7      Marta Ramírez         Calle Soñada 210           NaN   \n",
      "17  90123456-8       Daniel Silva                      NaN  Puerto Montt   \n",
      "18  99001122-3        Sofía Pérez        Calle Digital 789           NaN   \n",
      "19  99001122-8       Nicolás Ruiz   Calle Programación 210           NaN   \n",
      "\n",
      "   fecha_nacimiento     telefono                  email  \n",
      "0        1994-12-31          NaN      tomas@example.com  \n",
      "1        1998-07-12  945678321.0      laura@example.com  \n",
      "2        2000-05-15  912345678.0       juan@example.com  \n",
      "3        1988-03-10  912345678.0      pedro@example.com  \n",
      "4        1993-02-14  977894512.0     camila@example.com  \n",
      "5        2002-02-28  967894512.0      mateo@example.com  \n",
      "6        1999-12-05  934567890.0      carla@example.com  \n",
      "7               NaN          NaN      diego@example.com  \n",
      "8        1992-06-08  923478965.0                    NaN  \n",
      "9        1997-04-05  923478965.0  valentina@example.com  \n",
      "10       1990-08-18  978901234.0        ana@example.com  \n",
      "11       2005-04-25          NaN      luisa@example.com  \n",
      "12       1996-10-17  955678902.0     martin@example.com  \n",
      "13              NaN          NaN     renata@example.com  \n",
      "14       1985-11-30  923456789.0                    NaN  \n",
      "15       1995-10-20  987654321.0      maria@example.com  \n",
      "16              NaN          NaN                    NaN  \n",
      "17              NaN          NaN                    NaN  \n",
      "18       2001-09-22  912345672.0      sofia@example.com  \n",
      "19       2003-11-03  955678902.0    nicolas@example.com  \n",
      "------------------------------------------------------------\n",
      "    codigo            nombre  precio\n",
      "0      101             Arroz    1500\n",
      "1      102            Fideos    1200\n",
      "2      103  Aceite de cocina   18000\n",
      "3      104            Harina    2000\n",
      "4      105             Leche    3000\n",
      "5      106            Azúcar    2500\n",
      "6      107              Café    5000\n",
      "7      108               Pan    1500\n",
      "8      109          Galletas    3500\n",
      "9      110       Mantequilla    2800\n",
      "10     111             Queso    6000\n",
      "11     112             Yogur    2000\n",
      "12     113      Agua mineral    1200\n",
      "13     114             Jugos    4000\n",
      "14     115    Frutas frescas    7000\n",
      "15     116          Verduras    5500\n",
      "16     117    Carne de pollo    4800\n",
      "17     118      Carne de res   10000\n",
      "18     119           Pescado    9000\n",
      "19     120            Helado    2500\n",
      "------------------------------------------------------------\n",
      "    numero       fecha rut_cliente\n",
      "0        1  2023-11-05  12345678-9\n",
      "1        2  2023-11-07  87654321-0\n",
      "2        3  2023-11-09  23456789-1\n",
      "3        4  2023-11-12  34567890-2\n",
      "4        5  2023-11-15  45678901-3\n",
      "5        6  2023-11-18  56789012-4\n",
      "6        7  2023-11-21  67890123-5\n",
      "7        8  2023-11-24  78901234-6\n",
      "8        9  2023-11-27  89012345-7\n",
      "9       10  2023-11-29  90123456-8\n",
      "10      11  2023-11-02  11223344-5\n",
      "11      12  2023-11-04  33445566-7\n",
      "12      13  2023-11-06  55667788-9\n",
      "13      14  2023-11-08  77889900-1\n",
      "14      15  2023-11-11  99001122-3\n",
      "15      16  2023-11-14  11223344-5\n",
      "16      17  2023-11-17  33445566-7\n",
      "17      18  2023-11-20  55667788-9\n",
      "18      19  2023-11-23  77889900-1\n",
      "19      20  2023-11-26  99001122-3\n",
      "20      21  2023-11-02  11223344-5\n",
      "21      22  2023-11-14  11223344-5\n",
      "22      23  2023-11-05  12345678-9\n",
      "23      24  2023-11-09  23456789-1\n",
      "------------------------------------------------------------\n",
      "    numero_boleta  codigo_producto  cantidad\n",
      "0               1              101         3\n",
      "1               1              103         6\n",
      "2               1              106         2\n",
      "3               2              102         5\n",
      "4               2              104         1\n",
      "5               3              107         8\n",
      "6               3              110         4\n",
      "7               4              112         7\n",
      "8               5              113         3\n",
      "9               6              115         2\n",
      "10              7              116         5\n",
      "11              7              119         9\n",
      "12              8              120         4\n",
      "13              9              101         6\n",
      "14              9              104         2\n",
      "15             10              105         1\n",
      "16             10              106         3\n",
      "17             11              107         4\n",
      "18             11              109         7\n",
      "19             12              111         5\n",
      "20             13              112         8\n",
      "21             14              113         3\n",
      "22             14              116         1\n",
      "23             15              117         6\n",
      "24             16              119         4\n",
      "25             17              120         2\n",
      "26             18              101         9\n",
      "27             18              102         2\n",
      "28             18              103         5\n",
      "29             19              104         3\n",
      "30             19              106         7\n",
      "31             20              107         1\n",
      "32             21              120         4\n",
      "33             21              102         5\n",
      "34             22              104         1\n",
      "35             23              101         6\n",
      "36             23              104         2\n",
      "37             23              105         1\n",
      "38             24              116        10\n",
      "39             24              119        20\n",
      "------------------------------------------------------------\n"
     ]
    }
   ],
   "source": [
    "import pandas as pd\n",
    "import numpy as np\n",
    "from datetime import  datetime, date\n",
    "\n",
    "delimitador = \"\\n\" + \"-\" * 60 + \"\\n\"\n",
    "\n",
    "# a) Cargar archivos:\n",
    "#  encoding= \"latin-1\"\n",
    "\n",
    "clientes = pd.read_csv(\"clientes.csv\", encoding='latin-1')\n",
    "productos = pd.read_csv(\"productos.csv\", encoding='latin-1')\n",
    "boletas = pd.read_csv(\"boletas.csv\", encoding='latin-1')\n",
    "detalle = pd.read_csv(\"detalle.csv\", encoding='latin-1')\n",
    "\n",
    "print(clientes, end= delimitador)\n",
    "print(productos, end= delimitador)\n",
    "print(boletas, end= delimitador)\n",
    "print(detalle, end= delimitador)"
   ]
  },
  {
   "cell_type": "code",
   "execution_count": 157,
   "id": "34ac7c20",
   "metadata": {},
   "outputs": [
    {
     "name": "stdout",
     "output_type": "stream",
     "text": [
      "           rut             nombre                direccion        comuna  \\\n",
      "0   11223344-4      Tomás Ramírez                      NaN         Arica   \n",
      "1   11223344-5        Laura Rojas        Calle Virtual 567   Antofagasta   \n",
      "2   12345678-9         Juan Perez          Calle Falsa 123      Santiago   \n",
      "3   23456789-1    Pedro Rodríguez                      NaN    Valparaíso   \n",
      "4   33445566-5      Camila Torres    Calle Cibernética 456           NaN   \n",
      "5   33445566-7         Mateo Diaz                      NaN  Viña del Mar   \n",
      "6   34567890-2     Carla González      Calle Inventada 789           NaN   \n",
      "7   45678901-3     Diego Martínez       Avenida Irreal 987     La Serena   \n",
      "8   55667788-6      Matias Castro   Avenida Innovación 321           NaN   \n",
      "9   55667788-9  Valentina Herrera  Avenida Tecnológica 123           NaN   \n",
      "10  56789012-4          Ana Lopez                      NaN           NaN   \n",
      "11  67890123-5    Luisa Fernández       Calle Ficticia 321      Rancagua   \n",
      "12  77889900-1       Martin Gómez                      NaN       Iquique   \n",
      "13  77889900-7      Renata Flores                      NaN       Copiapó   \n",
      "14  78901234-6      Javier Torres   Avenida de Ensueño 654        Temuco   \n",
      "15  87654321-0      Maria Sánchez   Avenida Imaginaria 456    Concepción   \n",
      "16  89012345-7      Marta Ramírez         Calle Soñada 210           NaN   \n",
      "17  90123456-8       Daniel Silva                      NaN  Puerto Montt   \n",
      "18  99001122-3        Sofía Pérez        Calle Digital 789           NaN   \n",
      "19  99001122-8       Nicolás Ruiz   Calle Programación 210           NaN   \n",
      "\n",
      "   fecha_nacimiento     telefono                  email  edad  \n",
      "0        1994-12-31          NaN      tomas@example.com  29.0  \n",
      "1        1998-07-12  945678321.0      laura@example.com  25.0  \n",
      "2        2000-05-15  912345678.0       juan@example.com  23.0  \n",
      "3        1988-03-10  912345678.0      pedro@example.com  35.0  \n",
      "4        1993-02-14  977894512.0     camila@example.com  30.0  \n",
      "5        2002-02-28  967894512.0      mateo@example.com  21.0  \n",
      "6        1999-12-05  934567890.0      carla@example.com  24.0  \n",
      "7               NaN          NaN      diego@example.com   NaN  \n",
      "8        1992-06-08  923478965.0                    NaN  31.0  \n",
      "9        1997-04-05  923478965.0  valentina@example.com  26.0  \n",
      "10       1990-08-18  978901234.0        ana@example.com  33.0  \n",
      "11       2005-04-25          NaN      luisa@example.com  18.0  \n",
      "12       1996-10-17  955678902.0     martin@example.com  27.0  \n",
      "13              NaN          NaN     renata@example.com   NaN  \n",
      "14       1985-11-30  923456789.0                    NaN  38.0  \n",
      "15       1995-10-20  987654321.0      maria@example.com  28.0  \n",
      "16              NaN          NaN                    NaN   NaN  \n",
      "17              NaN          NaN                    NaN   NaN  \n",
      "18       2001-09-22  912345672.0      sofia@example.com  22.0  \n",
      "19       2003-11-03  955678902.0    nicolas@example.com  20.0  \n"
     ]
    }
   ],
   "source": [
    "# b) Calcular edades\n",
    "\n",
    "def CalculadorEdad(Nacimiento):\n",
    "    try:\n",
    "        Nacimiento = datetime.strptime(Nacimiento, '%Y-%m-%d').date()\n",
    "        hoy = date.today()\n",
    "        return hoy.year - Nacimiento.year - ((hoy.month, hoy.day) < (Nacimiento.month, Nacimiento.day))\n",
    "    except:\n",
    "        return np.NaN\n",
    "    \n",
    "clientes[\"edad\"] = clientes[\"fecha_nacimiento\"].apply(CalculadorEdad)\n",
    "\n",
    "print(clientes)"
   ]
  },
  {
   "cell_type": "code",
   "execution_count": 158,
   "id": "2b0c6558",
   "metadata": {},
   "outputs": [
    {
     "name": "stdout",
     "output_type": "stream",
     "text": [
      "c) El promedio de la edad es: 26.875\n",
      "d) El cliente de mayor edad es Javier Torres con 38.0\n",
      "e) El cliente de menor edad es Luisa Fernández con 18.0\n"
     ]
    }
   ],
   "source": [
    "# c)  promedio de edad.\n",
    "promedioEdad = clientes[\"edad\"].mean()\n",
    "print(f\"c) El promedio de la edad es: {promedioEdad}\")\n",
    "\n",
    "# d) ¿Cuál es el cliente con la edad mayor?\n",
    "\n",
    "maximaEdad = clientes[\"edad\"].max()\n",
    "clienteMaxEdad = clientes[clientes[\"edad\"] == maximaEdad].iloc[0,1]\n",
    "print(f\"d) El cliente de mayor edad es {clienteMaxEdad} con {maximaEdad}\")\n",
    "\n",
    "#     e. ¿Cuál es el menor?\n",
    "\n",
    "minimaEdad = clientes[\"edad\"].min()\n",
    "clienteMinEdad = clientes[clientes[\"edad\"] == minimaEdad].iloc[0,1]\n",
    "print(f\"e) El cliente de menor edad es {clienteMinEdad} con {minimaEdad}\")"
   ]
  },
  {
   "cell_type": "code",
   "execution_count": 159,
   "id": "2bea2fc0",
   "metadata": {},
   "outputs": [
    {
     "name": "stdout",
     "output_type": "stream",
     "text": [
      "           rut             nombre  count\n",
      "1   11223344-5        Laura Rojas      4\n",
      "2   12345678-9         Juan Perez      2\n",
      "3   23456789-1    Pedro Rodríguez      2\n",
      "5   33445566-7         Mateo Diaz      2\n",
      "6   34567890-2     Carla González      1\n",
      "7   45678901-3     Diego Martínez      1\n",
      "9   55667788-9  Valentina Herrera      2\n",
      "10  56789012-4          Ana Lopez      1\n",
      "11  67890123-5    Luisa Fernández      1\n",
      "12  77889900-1       Martin Gómez      2\n",
      "14  78901234-6      Javier Torres      1\n",
      "15  87654321-0      Maria Sánchez      1\n",
      "16  89012345-7      Marta Ramírez      1\n",
      "17  90123456-8       Daniel Silva      1\n",
      "18  99001122-3        Sofía Pérez      2\n"
     ]
    }
   ],
   "source": [
    "#  f) Buscar cuantas boletas tiene cada cliente, fusionar clientes con boletas a través del rut.\n",
    "\n",
    "boletasxClientes = boletas[\"rut_cliente\"].value_counts()\n",
    "print(pd.merge(clientes[[\"rut\",\"nombre\"]],boletasxClientes, right_index = True, left_on = \"rut\"))"
   ]
  },
  {
   "cell_type": "code",
   "execution_count": 162,
   "id": "0d3f3b47",
   "metadata": {},
   "outputs": [
    {
     "name": "stdout",
     "output_type": "stream",
     "text": [
      "              nombre  total ventas\n",
      "0              Arroz         36000\n",
      "1             Fideos         14400\n",
      "2   Aceite de cocina        198000\n",
      "3             Harina         18000\n",
      "4              Leche          6000\n",
      "5             Azúcar         30000\n",
      "6               Café         65000\n",
      "7           Galletas         24500\n",
      "8        Mantequilla         11200\n",
      "9              Queso         30000\n",
      "10             Yogur         30000\n",
      "11      Agua mineral          7200\n",
      "12    Frutas frescas         14000\n",
      "13          Verduras         88000\n",
      "14    Carne de pollo         28800\n",
      "15           Pescado        297000\n",
      "16            Helado         25000\n",
      "------------------------------------------------------------\n"
     ]
    }
   ],
   "source": [
    "# g) Ahora, queremos hacer algo parecido con los productos. Calcular cuánto se ha vendido (en dinero) de cada producto.\n",
    "\n",
    "\n",
    "totalProductosVendidos = detalle.groupby(\"codigo_producto\").sum(\"cantidad\")[\"cantidad\"]\n",
    "totalProductosVendidos = pd.merge(productos[[\"codigo\",\"nombre\",\"precio\"]],totalProductosVendidos, right_index = True, left_on = \"codigo\").reset_index( drop = True)\n",
    "totalProductosVendidos[\"total ventas\"] = totalProductosVendidos[\"precio\"] * totalProductosVendidos[\"cantidad\"]\n",
    "\n",
    "print(totalProductosVendidos[[\"nombre\",\"total ventas\"]], end = delimitador)\n",
    "\n"
   ]
  },
  {
   "cell_type": "code",
   "execution_count": 163,
   "id": "35d04526",
   "metadata": {},
   "outputs": [
    {
     "name": "stdout",
     "output_type": "stream",
     "text": [
      "    codigo            nombre  precio  cantidad  total ventas\n",
      "0      101             Arroz    1500      24.0       36000.0\n",
      "1      102            Fideos    1200      12.0       14400.0\n",
      "2      103  Aceite de cocina   18000      11.0      198000.0\n",
      "3      104            Harina    2000       9.0       18000.0\n",
      "4      105             Leche    3000       2.0        6000.0\n",
      "5      106            Azúcar    2500      12.0       30000.0\n",
      "6      107              Café    5000      13.0       65000.0\n",
      "7      109          Galletas    3500       7.0       24500.0\n",
      "8      110       Mantequilla    2800       4.0       11200.0\n",
      "9      111             Queso    6000       5.0       30000.0\n",
      "10     112             Yogur    2000      15.0       30000.0\n",
      "11     113      Agua mineral    1200       6.0        7200.0\n",
      "12     115    Frutas frescas    7000       2.0       14000.0\n",
      "13     116          Verduras    5500      16.0       88000.0\n",
      "14     117    Carne de pollo    4800       6.0       28800.0\n",
      "15     119           Pescado    9000      33.0      297000.0\n",
      "16     120            Helado    2500      10.0       25000.0\n",
      "17     108               Pan    1500       0.0           0.0\n",
      "18     114             Jugos    4000       0.0           0.0\n",
      "19     118      Carne de res   10000       0.0           0.0\n"
     ]
    }
   ],
   "source": [
    "# h. Agregar los productos que nunca se han vendido con un 0.\n",
    "\n",
    "totalProductosVendidos = pd.concat([totalProductosVendidos, productos]).drop_duplicates(subset=\"codigo\").fillna(0).reset_index( drop = True)\n",
    "\n",
    "print(totalProductosVendidos)"
   ]
  },
  {
   "cell_type": "markdown",
   "id": "6baf0869",
   "metadata": {},
   "source": [
    "### 2. Crear un programa que sea capaz de leer el archivo “M3E3 – videojuegos.csv” (adjunto), luego sacar el promedio de los precios y el promedio de la calificación."
   ]
  },
  {
   "cell_type": "code",
   "execution_count": 94,
   "id": "f2c50ae1",
   "metadata": {},
   "outputs": [
    {
     "name": "stdout",
     "output_type": "stream",
     "text": [
      "El promedio de los precios es 788.695\n",
      "El promedio de las Calificaciones es 94.83333333333333\n"
     ]
    }
   ],
   "source": [
    "import pandas as pd\n",
    "import numpy as np\n",
    "\n",
    "videojuegos = pd.read_csv(\"videojuegos.csv\", encoding='latin-1')\n",
    "\n",
    "print(\"El promedio de los precios es\", videojuegos[\"Precio\"].mean())\n",
    "print(\"El promedio de las Calificaciones es\", videojuegos[\"Calificacion\"].mean())"
   ]
  },
  {
   "cell_type": "markdown",
   "id": "1d4e0aaa",
   "metadata": {},
   "source": [
    "### 3. Se tiene el archivo M3E3 – videojuegos2.csv” (adjunto) con información sobre todo el contenido de su biblioteca de videojuegos.\n",
    "Note que un juego aparecerá listado en el archivo una vez por cada consola en la que fue lanzado.\n",
    "La categoría del juego se especifica siempre en el primer Tag. Por ejemplo, Double Dragon pertenece a la categoría Beat-‘em up.\n",
    "\n",
    "Desarrolle lo siguiente:\n",
    "\n",
    "    a) La función juegosConsolas(nomArchivo, categoria, decada) que recibe el nombre del archivo con la información de los videojuegos, una categoría y número de cuatro dígitos representando una década de años. La función retoma una tupla con 2 elementos. El primer elemento es la lista con los valores únicos de todos los juegos de esa década para esa categoría. El segundo elemento es la lista con valores únicos de todas las consolas que tienen juegos para esa década y categoría.\n",
    "    Por ejemplo, para llamar a juegosConsolas('videojuegos.csv','RPG',1980) retorna:\n",
    "\n",
    "(['The legend of Zelda', 'Phantasy Star', ...], ['NES', 'Famicon Disk System', ...])\n",
    "\n",
    "    b) La función crearMatriz(nomArchivo, categoria, decada) que recibe el nombre del archivo con la información de los videojuegos, el nombre de una categoría de videojuegos y un número de cuatro dígitos representando una década de años. La función deberá leer el archivo y retornar una matriz donde las filas representan los juegos de categoria para la decada , las columnas representan las consolas que tienen juegos de categoria para la decada y las celdas son las calificaciones de cada juego para cada consola. Si un juego no existe para una consola, su calificación deberá ser cero (0).\n",
    "\n",
    "    c) La función mejoresJuegos(nomArchivo, categoria, decada) que recibe el nombre del archivo con la información de los videojuegos, el nombre de una categoría de videojuegos y un número de cuatro dígitos representando una década de años. La función deberá generar el archivo “Mejores.txt” con los cinco mejores juegos de la decada para la categoria , ordenados de mayor a menor por su calificación promedio. Para calcular el promedio de un juego, considere únicamente las consolas en las que fue lanzado (no considere los valores cero). El archivo tendrá la siguiente estructura:\n",
    "\n",
    "NombreNombre,Promedio_calificación\n",
    "\n",
    "    d) La función colecciones(nomArchivo, palabras) que recibe el nombre del archivo con la información de los videojuegos y una lista de palabras. La función deberá retornar otra lista de valores únicos con los nombres de todos los juegos que sus Tags contengan todos los términos de la lista palabras."
   ]
  },
  {
   "cell_type": "code",
   "execution_count": 68,
   "id": "701f89cd",
   "metadata": {},
   "outputs": [
    {
     "name": "stdout",
     "output_type": "stream",
     "text": [
      "                Nombre   Año        Consola  Calificacion          Tag  \\\n",
      "0  The Legend of Zelda  1986        Famicom           3.5          RPG   \n",
      "1        Double Dragon  1987         Arcade           3.7  Beat-'em up   \n",
      "2  The Legend of Zelda  1988            NES           4.3          RPG   \n",
      "3    Halo 5: Guardians  2015       Xbox One           4.0          FPS   \n",
      "4          Curse of Ra  1982  Commodore PET           3.0          RPG   \n",
      "5        Battlefield 1  2016       Xbox One           4.8          FPS   \n",
      "\n",
      "      Protagonista  \n",
      "0             Link  \n",
      "1            Billy  \n",
      "2             Link  \n",
      "3      Agent Locke  \n",
      "4               Ra  \n",
      "5  Clyde Blackburn  \n"
     ]
    }
   ],
   "source": [
    "import pandas as pd\n",
    "import numpy as np\n",
    "\n",
    "videojuegos3 = pd.read_csv(\"videojuegos3.csv\", encoding='latin-1', sep= '\\,', engine='python')\n",
    "\n",
    "videojuegos3[[\"Año\",\"Consola\"]] = videojuegos3[\"Año;Consola\"].str.split(\";\", expand=True)\n",
    "\n",
    "videojuegos3[\"Nombre\"] = videojuegos3[\"\\\"Nombre\"].str.replace(\"\\\"\",\"\")\n",
    "videojuegos3[\"Protagonista\"] = videojuegos3[\"Protagonista\\\"\"].str.replace(\"\\\"\",\"\")\n",
    "\n",
    "videojuegos3.drop([\"\\\"Nombre\", \"Protagonista\\\"\", \"Año;Consola\"], axis = 1, inplace = True)\n",
    "\n",
    "videojuegos3 = videojuegos3.reindex([\"Nombre\",\"Año\", \"Consola\", \"Calificacion\", \"Tag\", \"Protagonista\"], axis=1)\n",
    "videojuegos3[\"Año\"] = videojuegos3[\"Año\"].apply(int)\n",
    "\n",
    "formateoAño = lambda año : 1900 + año if año > 50  else 2000 + año\n",
    "\n",
    "videojuegos3[\"Año\"] = videojuegos3[\"Año\"].apply(formateoAño)\n",
    "print(videojuegos3)"
   ]
  },
  {
   "cell_type": "code",
   "execution_count": 71,
   "id": "afe4fc5e",
   "metadata": {},
   "outputs": [
    {
     "name": "stdout",
     "output_type": "stream",
     "text": [
      "([], [])\n"
     ]
    }
   ],
   "source": [
    "# A) retornar tupla ([nombres], [consolas])\n",
    "def JuegosConsolas(nomArchivo, categoria, decada):\n",
    "    \n",
    "    criterio = ((nomArchivo[\"Año\"] > decada) & \n",
    "                (nomArchivo[\"Año\"]< decada + 10) & \n",
    "                (nomArchivo[\"Tag\"] == categoria))\n",
    "    \n",
    "    listaDeTitulos = nomArchivo[criterio][\"Nombre\"].unique().tolist()\n",
    "    listaDeConsolas = nomArchivo[criterio][\"Consola\"].unique().tolist()\n",
    "    \n",
    "    return (listaDeTitulos, listaDeConsolas)\n",
    "    \n",
    "    \n",
    "print(JuegosConsolas(videojuegos3, \"FPS\", 1980))"
   ]
  },
  {
   "cell_type": "code",
   "execution_count": 77,
   "id": "b0612cee",
   "metadata": {
    "scrolled": true
   },
   "outputs": [
    {
     "name": "stdout",
     "output_type": "stream",
     "text": [
      "[[3.5 4.3 0. ]\n",
      " [0.  0.  3. ]]\n"
     ]
    }
   ],
   "source": [
    "# B) retornar matriz  filas == titulo(segun decada) columnas == consolas(segun categoria)  celdas = puntuacion (2dmatrix)\n",
    "def CrearMatrizPuntaje(nomArchivo, categoria, decada):\n",
    "    tuplaEjes = JuegosConsolas(nomArchivo, categoria, decada)\n",
    "    \n",
    "    matrizPuntajes = np.zeros((len(tuplaEjes[0]),len(tuplaEjes[1])))\n",
    "    \n",
    "    iteracionFilas = 0\n",
    "    iteracionColumnas = 0\n",
    "        \n",
    "    for nombre in tuplaEjes[0]:\n",
    "        for consola in tuplaEjes[1]:\n",
    "            criterio = ((nomArchivo[\"Nombre\"] == nombre) & \n",
    "                        (nomArchivo[\"Consola\"] == consola))\n",
    "            \n",
    "            if nomArchivo[criterio].empty:\n",
    "                puntaje = 0\n",
    "                \n",
    "            else:\n",
    "                puntaje = nomArchivo[criterio].reset_index().loc[0,\"Calificacion\"]\n",
    "                matrizPuntajes[iteracionFilas][iteracionColumnas] = puntaje\n",
    "            \n",
    "            iteracionColumnas += 1\n",
    "        iteracionFilas += 1\n",
    "        iteracionColumnas = 0\n",
    "        \n",
    "    return matrizPuntajes\n",
    "    \n",
    "    \n",
    "print(CrearMatrizPuntaje(videojuegos3, \"RPG\", 1980))"
   ]
  },
  {
   "cell_type": "code",
   "execution_count": 97,
   "id": "b616012f",
   "metadata": {},
   "outputs": [],
   "source": [
    "# C) generar archivo mejores.txt con 5 mejores juegos\n",
    "def MejoresJuegos(nomArchivo, categoria, decada):\n",
    "    tuplaEjes = JuegosConsolas(nomArchivo, categoria, decada)\n",
    "\n",
    "    matrizPuntaje = CrearMatrizPuntaje(nomArchivo, categoria, decada)    \n",
    "    matrizPuntaje[matrizPuntaje == 0] = np.nan\n",
    "    promedios = np.nanmean(matrizPuntaje, axis=1)\n",
    "\n",
    "    promediosDF = pd.DataFrame({\"NombreNombre\": tuplaEjes[0],\n",
    "                                \"Promedio_calificacion\": promedios})\n",
    "    \n",
    "    promediosDF.sort_values(by=\"Promedio_calificacion\", \n",
    "                            ascending=False, inplace=True)\n",
    "    promediosDF.to_csv('Mejores.txt', sep=',', index=False)\n",
    "    \n",
    "MejoresJuegos(videojuegos3, \"RPG\", 1980)"
   ]
  },
  {
   "cell_type": "code",
   "execution_count": 102,
   "id": "9f9fd50e",
   "metadata": {},
   "outputs": [
    {
     "name": "stdout",
     "output_type": "stream",
     "text": [
      "['The Legend of Zelda', 'The Legend of Zelda', 'Curse of Ra']\n"
     ]
    }
   ],
   "source": [
    "# d) Palabras == [lista de palagras en las que debe estar almenos 1 tag], \n",
    "# retorna una [nombres de juegos que coincidan con todas las tag de palagras]\n",
    "def colecciones(nomArchivo, palabras):\n",
    "    \n",
    "    for palabra in palabras:\n",
    "        criterio = nomArchivo[\"Tag\"] == palabra\n",
    "        nomArchivo = nomArchivo[criterio]\n",
    "    \n",
    "    listaNombres = nomArchivo[\"Nombre\"].tolist()\n",
    "    \n",
    "    return listaNombres\n",
    "    \n",
    "    \n",
    "print(colecciones(videojuegos3, [\"RPG\"]))"
   ]
  }
 ],
 "metadata": {
  "kernelspec": {
   "display_name": "Python 3 (ipykernel)",
   "language": "python",
   "name": "python3"
  },
  "language_info": {
   "codemirror_mode": {
    "name": "ipython",
    "version": 3
   },
   "file_extension": ".py",
   "mimetype": "text/x-python",
   "name": "python",
   "nbconvert_exporter": "python",
   "pygments_lexer": "ipython3",
   "version": "3.11.5"
  }
 },
 "nbformat": 4,
 "nbformat_minor": 5
}
