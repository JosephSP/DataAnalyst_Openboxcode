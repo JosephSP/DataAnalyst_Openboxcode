{
 "cells": [
  {
   "cell_type": "markdown",
   "id": "afa7b6c0",
   "metadata": {},
   "source": [
    "# Modulo 4: Ejercicios 1\n",
    "## Alumno: Jose Suarez"
   ]
  },
  {
   "cell_type": "markdown",
   "id": "211f5a97",
   "metadata": {},
   "source": [
    "### Ejercicio 1: Clasifique las variables según corresponda.\n",
    "\n",
    "![image.png](attachment:image.png)\n",
    "\n",
    "    1) Vivienda:\n",
    "        a) Tipo de vivienda: Categorica Nominal\n",
    "        b) Numero de integrantes: Cuantitativa Discreta\n",
    "        c) Edad de cada integrante: Cuantitativa Continua\n",
    "    2) Pacientes:\n",
    "        a) Fonasa: Categorica Nominal\n",
    "        b) Estatura: Cuantitativa Continua\n",
    "        c) Peso: Cuantitativa Continua\n",
    "        e) Especialidad de consulta: Categorica Nominal\n",
    "    3) Alumno PDT:\n",
    "        a) Puntaje: Cuantitativa Continua\n",
    "        b) Preferencia a la carrera: Categorica Ordinal\n"
   ]
  },
  {
   "cell_type": "markdown",
   "id": "8ccd3a3d",
   "metadata": {},
   "source": [
    "### Ejercicio 2: Considere el siguiente conjunto de datos, el que describe, el tipo de consulta realizada por un alumno(a) al servicio de salud de la Universidad X durante Junio del 2022.\n",
    "\n",
    "![image.png](attachment:image.png)\n",
    "\n",
    "    a) Categorica Nominal\n",
    "    b) Tabla de frecuencia"
   ]
  },
  {
   "cell_type": "code",
   "execution_count": 18,
   "id": "cdbb9f6a",
   "metadata": {},
   "outputs": [
    {
     "name": "stdout",
     "output_type": "stream",
     "text": [
      "La tabla de frecuencia absoluta es:\n",
      "                Tipo consulta\n",
      "Consulta                     \n",
      "Dentista                    9\n",
      "Ginecologo                  6\n",
      "Medico general             24\n",
      "Nutricionista               8\n",
      "Psicologo                   3\n"
     ]
    }
   ],
   "source": [
    "import pandas as pd\n",
    "import numpy as np\n",
    "listaDeDatos_2 = [1,5,3,1,2,4,1,3,1,5,2,1,1,5,3,1,2,1,4,1,4,1,3,1,5,1,2,1,1,2,5,1,1,5,1,5,3,1,2,1,2,3,1,1,2,1,5,1,5,1]\n",
    "diccionarioCodifo_2 = {1: \"Medico general\", 2: \"Nutricionista\", 3: \"Ginecologo\", 4:\"Psicologo\", 5:\"Dentista\"}\n",
    "\n",
    "consultaDF_2 = pd.DataFrame({\"Tipo consulta\": listaDeDatos_2})#.apply(lamda x: diccionarioCodifo_2[x])\n",
    "consultaDF_2[\"Consulta\"] = consultaDF_2[\"Tipo consulta\"].apply(lambda x: diccionarioCodifo_2[x])\n",
    "\n",
    "print(\"La tabla de frecuencia absoluta es:\")\n",
    "\n",
    "print(consultaDF_2.groupby(\"Consulta\").count())"
   ]
  },
  {
   "cell_type": "markdown",
   "id": "a5ec2c24",
   "metadata": {},
   "source": [
    "### Ejercicio 3: Considere el siguiente conjunto de datos, el que describe, la edad en años de niños que asisten a un jardín infantil de la comuna de Concepción.\n",
    "\n",
    "\n",
    "    a) Edades: Cuantitativa Continua\n",
    "    b) Tabla de frecuencia"
   ]
  },
  {
   "cell_type": "code",
   "execution_count": 17,
   "id": "cad98934",
   "metadata": {},
   "outputs": [
    {
     "data": {
      "text/html": [
       "<div>\n",
       "<style scoped>\n",
       "    .dataframe tbody tr th:only-of-type {\n",
       "        vertical-align: middle;\n",
       "    }\n",
       "\n",
       "    .dataframe tbody tr th {\n",
       "        vertical-align: top;\n",
       "    }\n",
       "\n",
       "    .dataframe thead th {\n",
       "        text-align: right;\n",
       "    }\n",
       "</style>\n",
       "<table border=\"1\" class=\"dataframe\">\n",
       "  <thead>\n",
       "    <tr style=\"text-align: right;\">\n",
       "      <th></th>\n",
       "      <th>Edades</th>\n",
       "    </tr>\n",
       "    <tr>\n",
       "      <th>Edades</th>\n",
       "      <th></th>\n",
       "    </tr>\n",
       "  </thead>\n",
       "  <tbody>\n",
       "    <tr>\n",
       "      <th>(1.0, 1.6]</th>\n",
       "      <td>1</td>\n",
       "    </tr>\n",
       "    <tr>\n",
       "      <th>(1.6, 2.2]</th>\n",
       "      <td>5</td>\n",
       "    </tr>\n",
       "    <tr>\n",
       "      <th>(2.2, 2.8]</th>\n",
       "      <td>6</td>\n",
       "    </tr>\n",
       "    <tr>\n",
       "      <th>(2.8, 3.4]</th>\n",
       "      <td>13</td>\n",
       "    </tr>\n",
       "    <tr>\n",
       "      <th>(3.4, 4.0]</th>\n",
       "      <td>5</td>\n",
       "    </tr>\n",
       "  </tbody>\n",
       "</table>\n",
       "</div>"
      ],
      "text/plain": [
       "            Edades\n",
       "Edades            \n",
       "(1.0, 1.6]       1\n",
       "(1.6, 2.2]       5\n",
       "(2.2, 2.8]       6\n",
       "(2.8, 3.4]      13\n",
       "(3.4, 4.0]       5"
      ]
     },
     "execution_count": 17,
     "metadata": {},
     "output_type": "execute_result"
    }
   ],
   "source": [
    "listaDeDatos_3 = [1.2,1.66,1.75,1.95,2.0,2.08,2.51,2.51,2.66,2.68,2.76,2.79,2.85,2.9,2.95,2.96,3.0,3.0,3.0,3.06,3.1,3.25,3.3,3.3,3.31,3.5,3.53,3.55,3.55,3.6]\n",
    "\n",
    "edadesDF_3 = pd.DataFrame({\"Edades\": listaDeDatos_3})#.apply(lamda x: diccionarioCodifo_2[x])\n",
    "intervalos_3 = np.arange(1.0, 4.1, .6)\n",
    "edadesDF_3.groupby(pd.cut(edadesDF_3['Edades'], intervalos_3)).count()"
   ]
  },
  {
   "cell_type": "markdown",
   "id": "e82f85f0",
   "metadata": {},
   "source": [
    "### Ejercicio 4: El tiempo utilizado (minutos) para atender entrevistas de 82 aspirantes a empleo en una empresa, se clasifican de acuerdo a la siguiente tabla:"
   ]
  },
  {
   "cell_type": "code",
   "execution_count": 16,
   "id": "4821802f",
   "metadata": {},
   "outputs": [
    {
     "name": "stdout",
     "output_type": "stream",
     "text": [
      "a) el tiempo medio de la duracion de las entrevistas es 34.0609756097561\n",
      "34.0609756097561\n",
      "\n",
      "b) el tiempo medio de la duracion de las entrevistas es 9.38615685526298\n",
      "9.38615685526298\n",
      "\n",
      "c) Bajo el tiempo medio 40.5 se ecuntra el %75 de la muestra.\n",
      "lo que indica que desde el rango 36.5-44.5 hacia abajo se encuentra el 75% de la muestra\n",
      "\n",
      "d) dado que el tercer cuartil 40.5 se aproxima a 40 minutos,\n",
      "se podria decir que el 4° cuartil o el 25% de las entrevistas excede los 40 minutos.\n"
     ]
    }
   ],
   "source": [
    "listaDeRangos_4 = [\"12.5-20.5\", \"20.5-28.5\", \"28.5-36.5\", \"36.5-44.5\", \"44.5-52.5\"]\n",
    "listaNEntrevista_4 = [9,14,20,30,9]\n",
    "\n",
    "tiempoEntrevistasDF_4 = pd.DataFrame({\"Tiempo Necesario\": listaDeRangos_4, \"N° Entrevista\": listaNEntrevista_4})\n",
    "tiempoEntrevistasDF_4[[\"Cota_I\", \"Cota_F\"]] = tiempoEntrevistasDF_4[\"Tiempo Necesario\"].str.split(\"-\", expand=True).astype(float)\n",
    "# Segun las cotas se obtine la media de las cotas y esto se utiliza para sacar los calculos segun las ecuaciones.\n",
    "tiempoEntrevistasDF_4[\"Valor_Representativo\"] = (tiempoEntrevistasDF_4[\"Cota_I\"] + tiempoEntrevistasDF_4[\"Cota_F\"])/2\n",
    "\n",
    "tiempoMedio = tiempoEntrevistasDF_4[\"Valor_Representativo\"]*tiempoEntrevistasDF_4[\"N° Entrevista\"]\n",
    "tiempoMedio = tiempoMedio.sum() / tiempoEntrevistasDF_4[\"N° Entrevista\"].sum()\n",
    "print(f\"a) el tiempo medio de la duracion de las entrevistas es {tiempoMedio}\")\n",
    "print(np.average(tiempoEntrevistasDF_4[\"Valor_Representativo\"], weights=tiempoEntrevistasDF_4[\"N° Entrevista\"]))\n",
    "print()\n",
    "\n",
    "desviacionEstandar = (((tiempoEntrevistasDF_4[\"Valor_Representativo\"] - tiempoMedio) ** 2)*tiempoEntrevistasDF_4[\"N° Entrevista\"])\n",
    "desviacionEstandar = (desviacionEstandar.sum() / tiempoEntrevistasDF_4[\"N° Entrevista\"].sum()) ** 0.5\n",
    "\n",
    "print(f\"b) el tiempo medio de la duracion de las entrevistas es {desviacionEstandar}\")\n",
    "print(np.sqrt(np.average((tiempoEntrevistasDF_4[\"Valor_Representativo\"]-tiempoMedio)**2,weights=tiempoEntrevistasDF_4[\"N° Entrevista\"])))\n",
    "print()\n",
    "\n",
    "#Ejercicio 4 parte c:\n",
    "\n",
    "despliegueDatos = np.repeat(tiempoEntrevistasDF_4[\"Valor_Representativo\"],tiempoEntrevistasDF_4[\"N° Entrevista\"])\n",
    "quartil_3 = despliegueDatos.quantile(0.75)\n",
    "print(f\"c) Bajo el tiempo medio {quartil_3} se ecuntra el %75 de la muestra.\\nlo que indica que desde el rango 36.5-44.5 hacia abajo se encuentra el 75% de la muestra\")\n",
    "print()\n",
    "print(f\"d) dado que el tercer cuartil {quartil_3} se aproxima a 40 minutos,\\nse podria decir que el 4° cuartil o el 25% de las entrevistas excede los 40 minutos.\")"
   ]
  },
  {
   "cell_type": "markdown",
   "id": "ebabd816",
   "metadata": {},
   "source": []
  },
  {
   "cell_type": "code",
   "execution_count": null,
   "id": "4b37ef31",
   "metadata": {},
   "outputs": [],
   "source": []
  },
  {
   "cell_type": "markdown",
   "id": "246af1a3",
   "metadata": {},
   "source": []
  },
  {
   "cell_type": "code",
   "execution_count": null,
   "id": "138989b7",
   "metadata": {},
   "outputs": [],
   "source": []
  },
  {
   "cell_type": "markdown",
   "id": "b5c63731",
   "metadata": {},
   "source": []
  },
  {
   "cell_type": "code",
   "execution_count": null,
   "id": "7aa06bea",
   "metadata": {},
   "outputs": [],
   "source": []
  }
 ],
 "metadata": {
  "kernelspec": {
   "display_name": "Python 3 (ipykernel)",
   "language": "python",
   "name": "python3"
  },
  "language_info": {
   "codemirror_mode": {
    "name": "ipython",
    "version": 3
   },
   "file_extension": ".py",
   "mimetype": "text/x-python",
   "name": "python",
   "nbconvert_exporter": "python",
   "pygments_lexer": "ipython3",
   "version": "3.11.5"
  }
 },
 "nbformat": 4,
 "nbformat_minor": 5
}
