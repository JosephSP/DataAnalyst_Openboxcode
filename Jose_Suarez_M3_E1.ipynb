{
 "cells": [
  {
   "cell_type": "markdown",
   "id": "4006e445",
   "metadata": {},
   "source": [
    "# Modulo 3: Ejercicio 1\n",
    "## Alumno: Jose Suarez"
   ]
  },
  {
   "cell_type": "markdown",
   "id": "0ed1402a",
   "metadata": {},
   "source": [
    "### 1. Crear un vector con valores dentro del rango 10 a 49."
   ]
  },
  {
   "cell_type": "code",
   "execution_count": 1,
   "id": "1a5ac946",
   "metadata": {},
   "outputs": [
    {
     "name": "stdout",
     "output_type": "stream",
     "text": [
      "[10.         13.07692308 16.15384615 19.23076923 22.30769231 25.38461538\n",
      " 28.46153846 31.53846154 34.61538462 37.69230769 40.76923077 43.84615385\n",
      " 46.92307692 50.        ]\n"
     ]
    }
   ],
   "source": [
    "import numpy as np\n",
    "\n",
    "vector = np.linspace(10, 50, 14)\n",
    "print(vector)"
   ]
  },
  {
   "cell_type": "markdown",
   "id": "6baf0869",
   "metadata": {},
   "source": [
    "### 2. Invertir el vector anterior"
   ]
  },
  {
   "cell_type": "code",
   "execution_count": 2,
   "id": "156c08cf",
   "metadata": {},
   "outputs": [
    {
     "name": "stdout",
     "output_type": "stream",
     "text": [
      "[50.         46.92307692 43.84615385 40.76923077 37.69230769 34.61538462\n",
      " 31.53846154 28.46153846 25.38461538 22.30769231 19.23076923 16.15384615\n",
      " 13.07692308 10.        ]\n"
     ]
    }
   ],
   "source": [
    "vectorInvertido = np.flip(vector)\n",
    "print(vectorInvertido)"
   ]
  },
  {
   "cell_type": "markdown",
   "id": "1d4e0aaa",
   "metadata": {},
   "source": [
    "### 3. Crear una matriz con valores de 0 a 8"
   ]
  },
  {
   "cell_type": "code",
   "execution_count": 3,
   "id": "4b2a6e23",
   "metadata": {},
   "outputs": [
    {
     "name": "stdout",
     "output_type": "stream",
     "text": [
      "[[0. 2. 4. 6. 8.]\n",
      " [0. 2. 4. 6. 8.]\n",
      " [0. 2. 4. 6. 8.]]\n"
     ]
    }
   ],
   "source": [
    "matriz = np.array([np.linspace(0, 8, 5), np.linspace(0, 8, 5), np.linspace(0, 8, 5)])\n",
    "print(matriz)"
   ]
  },
  {
   "cell_type": "markdown",
   "id": "8cab0cd8",
   "metadata": {},
   "source": [
    "### 4. Encontrar los índices que no son 0 en el arreglo\n",
    "[1,2,4,2,4,0,1,0,0,0,12,4,5,6,7,0]"
   ]
  },
  {
   "cell_type": "code",
   "execution_count": 4,
   "id": "3fad3c3b",
   "metadata": {},
   "outputs": [
    {
     "name": "stdout",
     "output_type": "stream",
     "text": [
      "[ 1  2  4  2  4  0  1  0  0  0 12  4  5  6  7  0]\n",
      "[ True  True  True  True  True False  True False False False  True  True\n",
      "  True  True  True False]\n",
      "[ 1  2  4  2  4  1 12  4  5  6  7]\n"
     ]
    }
   ],
   "source": [
    "vector4 = np.array([1,2,4,2,4,0,1,0,0,0,12,4,5,6,7,0])\n",
    "print(vector4)\n",
    "\n",
    "condicion = vector4 != 0\n",
    "print(condicion)\n",
    "\n",
    "seleccion = vector4[condicion] \n",
    "print(seleccion)"
   ]
  },
  {
   "cell_type": "markdown",
   "id": "6c301256",
   "metadata": {},
   "source": [
    "### 5. Crear una matriz identidad de 6x6"
   ]
  },
  {
   "cell_type": "code",
   "execution_count": 5,
   "id": "78eea40d",
   "metadata": {},
   "outputs": [
    {
     "name": "stdout",
     "output_type": "stream",
     "text": [
      "[[1. 0. 0. 0. 0. 0.]\n",
      " [0. 1. 0. 0. 0. 0.]\n",
      " [0. 0. 1. 0. 0. 0.]\n",
      " [0. 0. 0. 1. 0. 0.]\n",
      " [0. 0. 0. 0. 1. 0.]\n",
      " [0. 0. 0. 0. 0. 1.]]\n"
     ]
    }
   ],
   "source": [
    "identy6x6 = np.eye(6)\n",
    "print(identy6x6)"
   ]
  },
  {
   "cell_type": "markdown",
   "id": "79fde9ea",
   "metadata": {},
   "source": [
    "### 6. Crear una matriz con valores al azar con forma 3x3x3"
   ]
  },
  {
   "cell_type": "code",
   "execution_count": 6,
   "id": "cc0f8712",
   "metadata": {},
   "outputs": [
    {
     "name": "stdout",
     "output_type": "stream",
     "text": [
      "[[[0.88548253 0.95612112 0.83544453]\n",
      "  [0.38602185 0.48880644 0.48904595]\n",
      "  [0.45750898 0.88255211 0.49897205]]\n",
      "\n",
      " [[0.35623349 0.8789546  0.50033249]\n",
      "  [0.13088361 0.84626792 0.9894707 ]\n",
      "  [0.4306919  0.54739503 0.9461414 ]]\n",
      "\n",
      " [[0.36067812 0.42749806 0.95774522]\n",
      "  [0.78780593 0.01178192 0.56567298]\n",
      "  [0.22944557 0.61839309 0.51989064]]]\n"
     ]
    }
   ],
   "source": [
    "aleatoria = np.random.rand(3, 3, 3)\n",
    "print(aleatoria)"
   ]
  },
  {
   "cell_type": "markdown",
   "id": "d0f8a4e9",
   "metadata": {},
   "source": [
    "### 7. Crea un arreglo NumPy de tamaño 5x5 lleno de ceros."
   ]
  },
  {
   "cell_type": "code",
   "execution_count": 7,
   "id": "a89149b3",
   "metadata": {},
   "outputs": [
    {
     "name": "stdout",
     "output_type": "stream",
     "text": [
      "[[0. 0. 0. 0. 0.]\n",
      " [0. 0. 0. 0. 0.]\n",
      " [0. 0. 0. 0. 0.]\n",
      " [0. 0. 0. 0. 0.]\n",
      " [0. 0. 0. 0. 0.]]\n"
     ]
    }
   ],
   "source": [
    "zerony = np.zeros((5, 5))\n",
    "print(zerony)"
   ]
  },
  {
   "cell_type": "markdown",
   "id": "f3c32ed5",
   "metadata": {},
   "source": [
    "### 8. Crea un arreglo NumPy de tamaño 3x3 lleno de unos."
   ]
  },
  {
   "cell_type": "code",
   "execution_count": 8,
   "id": "b14bfe18",
   "metadata": {},
   "outputs": [
    {
     "name": "stdout",
     "output_type": "stream",
     "text": [
      "[[1. 1. 1.]\n",
      " [1. 1. 1.]\n",
      " [1. 1. 1.]]\n"
     ]
    }
   ],
   "source": [
    "uniano = np.ones((3, 3))\n",
    "print(uniano)"
   ]
  },
  {
   "cell_type": "markdown",
   "id": "3599f4af",
   "metadata": {},
   "source": [
    "### 9. Crea dos arreglos NumPy de tamaño 2x2 con valores aleatorios. Realiza la suma, resta, multiplicación y división de los arreglos creados."
   ]
  },
  {
   "cell_type": "code",
   "execution_count": 9,
   "id": "7ea7612b",
   "metadata": {},
   "outputs": [
    {
     "name": "stdout",
     "output_type": "stream",
     "text": [
      "[[0.92097357 0.89906236]\n",
      " [0.67690432 0.1316877 ]]\n",
      "------------------------------\n",
      "[[0.60798791 0.2253464 ]\n",
      " [0.63456262 0.28337987]]\n",
      "------------------------------\n",
      "suma\n",
      "[[1.52896147 1.12440876]\n",
      " [1.31146694 0.41506757]]\n",
      "------------------------------\n",
      "resta\n",
      "[[ 0.31298566  0.67371596]\n",
      " [ 0.0423417  -0.15169216]]\n",
      "------------------------------\n",
      "multiplicacion\n",
      "[[0.55994079 0.20260047]\n",
      " [0.42953818 0.03731764]]\n",
      "------------------------------\n",
      "division\n",
      "[[1.51478928 3.98969037]\n",
      " [1.06672581 0.46470381]]\n"
     ]
    }
   ],
   "source": [
    "arreglin_1 = np.random.rand(2,2)\n",
    "arreglin_2 = np.random.rand(2,2)\n",
    "print(arreglin_1)\n",
    "print(\"-\" * 30)\n",
    "print(arreglin_2)\n",
    "print(\"-\" * 30)\n",
    "\n",
    "\n",
    "print(\"suma\")\n",
    "print(arreglin_1 + arreglin_2)\n",
    "print(\"-\" * 30)\n",
    "\n",
    "print(\"resta\")\n",
    "print(arreglin_1 - arreglin_2)\n",
    "print(\"-\" * 30)\n",
    "\n",
    "print(\"multiplicacion\")\n",
    "print(arreglin_1 * arreglin_2)\n",
    "print(\"-\" * 30)\n",
    "\n",
    "print(\"division\")\n",
    "print(arreglin_1 / arreglin_2)"
   ]
  },
  {
   "cell_type": "markdown",
   "id": "5e0e3746",
   "metadata": {},
   "source": [
    "### 10. Crea un vector con valores entre 0 y 10, con intervalos de 0.5."
   ]
  },
  {
   "cell_type": "code",
   "execution_count": 10,
   "id": "8132786b",
   "metadata": {},
   "outputs": [
    {
     "name": "stdout",
     "output_type": "stream",
     "text": [
      "[0.  0.5 1.  1.5 2.  2.5 3.  3.5 4.  4.5 5.  5.5 6.  6.5 7.  7.5 8.  8.5\n",
      " 9.  9.5]\n"
     ]
    }
   ],
   "source": [
    "vector_10 = np.arange(0, 10, .5)\n",
    "print(vector_10)"
   ]
  },
  {
   "cell_type": "markdown",
   "id": "82c6415f",
   "metadata": {},
   "source": [
    "### 11. Genera una matriz de tamaño 5x5 con valores aleatorios enteros entre 1 y 100."
   ]
  },
  {
   "cell_type": "code",
   "execution_count": 11,
   "id": "fda69974",
   "metadata": {},
   "outputs": [
    {
     "name": "stdout",
     "output_type": "stream",
     "text": [
      "[[65 53 26 30 82]\n",
      " [86 52 62 83 53]\n",
      " [45 51 80 22 57]\n",
      " [64  1 92 94 98]\n",
      " [31 76 28 99 90]]\n"
     ]
    }
   ],
   "source": [
    "rng = np.random.default_rng()\n",
    "\n",
    "random5x5 = rng.integers(1, 101, size=(5, 5))\n",
    "print(random5x5)"
   ]
  },
  {
   "cell_type": "markdown",
   "id": "96d10af8",
   "metadata": {},
   "source": [
    "### 12. Crea un arreglo NumPy unidimensional de 10 elementos."
   ]
  },
  {
   "cell_type": "code",
   "execution_count": 12,
   "id": "1e9c0bc7",
   "metadata": {},
   "outputs": [
    {
     "name": "stdout",
     "output_type": "stream",
     "text": [
      "[0.         0.11111111 0.22222222 0.33333333 0.44444444 0.55555556\n",
      " 0.66666667 0.77777778 0.88888889 1.        ]\n"
     ]
    }
   ],
   "source": [
    "vector_12 = np.linspace(0, 1, 10)\n",
    "print(vector_12)"
   ]
  },
  {
   "cell_type": "markdown",
   "id": "f206a29a",
   "metadata": {},
   "source": [
    "### 13. Imprime el primer elemento del arreglo anterior."
   ]
  },
  {
   "cell_type": "code",
   "execution_count": 13,
   "id": "06471e12",
   "metadata": {},
   "outputs": [
    {
     "name": "stdout",
     "output_type": "stream",
     "text": [
      "0.0\n"
     ]
    }
   ],
   "source": [
    "print(vector_12[0])"
   ]
  },
  {
   "cell_type": "markdown",
   "id": "a68ed02f",
   "metadata": {},
   "source": [
    "### 14. Imprime los últimos 3 elementos del arreglo anterior."
   ]
  },
  {
   "cell_type": "code",
   "execution_count": 14,
   "id": "e7f52cc0",
   "metadata": {},
   "outputs": [
    {
     "name": "stdout",
     "output_type": "stream",
     "text": [
      "[0.77777778 0.88888889 1.        ]\n"
     ]
    }
   ],
   "source": [
    "print(vector_12[-3:])"
   ]
  },
  {
   "cell_type": "markdown",
   "id": "120db79f",
   "metadata": {},
   "source": [
    "### 15. Imprime los elementos del índice 3 al 7 anterior."
   ]
  },
  {
   "cell_type": "code",
   "execution_count": 15,
   "id": "1f1bc94f",
   "metadata": {},
   "outputs": [
    {
     "name": "stdout",
     "output_type": "stream",
     "text": [
      "[0.33333333 0.44444444 0.55555556 0.66666667 0.77777778]\n"
     ]
    }
   ],
   "source": [
    "print(vector_12[3:8])"
   ]
  },
  {
   "cell_type": "markdown",
   "id": "86e0460c",
   "metadata": {},
   "source": [
    "### 16. Cambia el valor del índice 5 por 20 en el arreglo anterior."
   ]
  },
  {
   "cell_type": "code",
   "execution_count": 16,
   "id": "fbd4c1c6",
   "metadata": {},
   "outputs": [
    {
     "name": "stdout",
     "output_type": "stream",
     "text": [
      "[ 0.          0.11111111  0.22222222  0.33333333  0.44444444 20.\n",
      "  0.66666667  0.77777778  0.88888889  1.        ]\n"
     ]
    }
   ],
   "source": [
    "vector_12[5] = 20\n",
    "print(vector_12)"
   ]
  },
  {
   "cell_type": "markdown",
   "id": "33c888be",
   "metadata": {},
   "source": [
    "### 17. Crea un arreglo NumPy con números del 1 al 10."
   ]
  },
  {
   "cell_type": "code",
   "execution_count": 17,
   "id": "64f3a63e",
   "metadata": {},
   "outputs": [
    {
     "name": "stdout",
     "output_type": "stream",
     "text": [
      "[ 1  2  3  4  5  6  7  8  9 10]\n"
     ]
    }
   ],
   "source": [
    "arreglo_17 = np.arange(1, 11)\n",
    "print(arreglo_17)"
   ]
  },
  {
   "cell_type": "markdown",
   "id": "d0b37ba5",
   "metadata": {},
   "source": [
    "### 18. Calcula la suma, el promedio, la desviación estándar y el máximo valor del arreglo del ejercicio anterior."
   ]
  },
  {
   "cell_type": "code",
   "execution_count": 25,
   "id": "194ae2a0",
   "metadata": {},
   "outputs": [
    {
     "name": "stdout",
     "output_type": "stream",
     "text": [
      "55\n",
      "5.5\n",
      "2.8722813232690143\n",
      "10\n"
     ]
    }
   ],
   "source": [
    "print(arreglo_17.sum())\n",
    "print(np.average(arreglo_17))\n",
    "print(np.std(arreglo_17))\n",
    "print(np.max(arreglo_17))"
   ]
  },
  {
   "cell_type": "markdown",
   "id": "11efd601",
   "metadata": {},
   "source": [
    "### 19. Crear un arreglo con elementos del 1 al 10 y seleccionar solo los pares\n"
   ]
  },
  {
   "cell_type": "code",
   "execution_count": 30,
   "id": "f62b4f2b",
   "metadata": {},
   "outputs": [
    {
     "name": "stdout",
     "output_type": "stream",
     "text": [
      "[1 2 3 4 5 6 7 8 9]\n",
      "[2 4 6 8]\n"
     ]
    }
   ],
   "source": [
    "arreglo_19 = np.arange(1,10)\n",
    "print(arreglo_19)\n",
    "condicion = arreglo_19 % 2 == 0\n",
    "print(arreglo_19[condicion])"
   ]
  },
  {
   "cell_type": "markdown",
   "id": "245dc3ea",
   "metadata": {},
   "source": [
    "### 20. Calcula la suma, la media, el máximo y el mínimo de los valores de\n",
    "seno, coseno y tangente para un conjunto de ángulos en grados.\n"
   ]
  },
  {
   "cell_type": "code",
   "execution_count": 38,
   "id": "87e1060b",
   "metadata": {},
   "outputs": [
    {
     "name": "stdout",
     "output_type": "stream",
     "text": [
      "[ 0 30 45 60 90]\n",
      "Para los seno: \n",
      "[ 0.         -0.98803162  0.85090352 -0.30481062  0.89399666]\n",
      "0.4520579429395978\n",
      "0.0\n",
      "0.8939966636005579\n",
      "-0.9880316240928618\n",
      "Para los coseno: \n",
      "[ 1.          0.15425145  0.52532199 -0.95241298 -0.44807362]\n",
      "0.2790868421609874\n",
      "0.15425144988758405\n",
      "1.0\n",
      "-0.9524129804151563\n",
      "Para las tangentes: \n",
      "[ 0.         -6.4053312   1.61977519  0.32004039 -1.99520041]\n",
      "-6.460716028931094\n",
      "0.0\n",
      "1.6197751905438615\n",
      "-6.405331196646276\n"
     ]
    }
   ],
   "source": [
    "angulosGrados = np.array([0, 30, 45, 60, 90])\n",
    "print(angulosGrados)\n",
    "\n",
    "print(\"Para los seno: \")\n",
    "senoAngulos = np.sin(angulosGrados)\n",
    "print(senoAngulos)\n",
    "print(np.sum(senoAngulos))\n",
    "print(np.median(senoAngulos))\n",
    "print(np.max(senoAngulos))\n",
    "print(np.min(senoAngulos))\n",
    "\n",
    "print(\"Para los coseno: \")\n",
    "cosenoAngulos = np.cos(angulosGrados)\n",
    "print(cosenoAngulos)\n",
    "print(np.sum(cosenoAngulos))\n",
    "print(np.median(cosenoAngulos))\n",
    "print(np.max(cosenoAngulos))\n",
    "print(np.min(cosenoAngulos))\n",
    "\n",
    "print(\"Para las tangentes: \")\n",
    "tanAngulos = np.tan(angulosGrados)\n",
    "print(tanAngulos)\n",
    "print(np.sum(tanAngulos))\n",
    "print(np.median(tanAngulos))\n",
    "print(np.max(tanAngulos))\n",
    "print(np.min(tanAngulos))\n"
   ]
  },
  {
   "cell_type": "code",
   "execution_count": null,
   "id": "99f6f4b8",
   "metadata": {},
   "outputs": [],
   "source": []
  }
 ],
 "metadata": {
  "kernelspec": {
   "display_name": "Python 3 (ipykernel)",
   "language": "python",
   "name": "python3"
  },
  "language_info": {
   "codemirror_mode": {
    "name": "ipython",
    "version": 3
   },
   "file_extension": ".py",
   "mimetype": "text/x-python",
   "name": "python",
   "nbconvert_exporter": "python",
   "pygments_lexer": "ipython3",
   "version": "3.11.5"
  }
 },
 "nbformat": 4,
 "nbformat_minor": 5
}
