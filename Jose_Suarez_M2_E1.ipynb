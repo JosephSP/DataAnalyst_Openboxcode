{
 "cells": [
  {
   "cell_type": "markdown",
   "id": "90eb1658",
   "metadata": {},
   "source": [
    "# Modulo 2: Ejercicio 1\n",
    "## Alumno: Jose Suarez\n",
    "\n",
    "\n",
    "### 2. Reconocer las características de Python .\n",
    "2.a. Significa que Python se puede usar para muchas aplicaciones dentro de la industria, desde desarrollo de páginas web, análisis de datos, simulaciones, videojuegos, ETC\n",
    "\n",
    "2.b. Que utiliza un interpretador para pasar a código de máquina, el código que escribimos tiene que traducirse a instrucciones para que el computador compute el código programado, durante este proceso el intérprete revisa que el código sea efectivamente ejecutable y que no valla a tener fallas, además se crea una especie de máquina virtual que encapsula la ejecución del código y evita problemáticas \n",
    "\n",
    "2.c. Significa que al inicializar las variables el compeler deduce que tipo de variables son y no es necesario asignarles una al inicializar\n"
   ]
  },
  {
   "cell_type": "markdown",
   "id": "026e09b5",
   "metadata": {},
   "source": [
    "### 3. Dado el siguiente código, identifique el tipo de variable de cada expresión."
   ]
  },
  {
   "cell_type": "code",
   "execution_count": 6,
   "id": "3b1e6bea",
   "metadata": {},
   "outputs": [
    {
     "data": {
      "text/plain": [
       "str"
      ]
     },
     "execution_count": 6,
     "metadata": {},
     "output_type": "execute_result"
    }
   ],
   "source": [
    "edad : str = \"10\"\n",
    "type(edad)"
   ]
  },
  {
   "cell_type": "code",
   "execution_count": 7,
   "id": "8d037eb6",
   "metadata": {},
   "outputs": [
    {
     "data": {
      "text/plain": [
       "int"
      ]
     },
     "execution_count": 7,
     "metadata": {},
     "output_type": "execute_result"
    }
   ],
   "source": [
    "costo: int = 10\n",
    "type(costo)"
   ]
  },
  {
   "cell_type": "code",
   "execution_count": 9,
   "id": "e6035262",
   "metadata": {},
   "outputs": [
    {
     "data": {
      "text/plain": [
       "list"
      ]
     },
     "execution_count": 9,
     "metadata": {},
     "output_type": "execute_result"
    }
   ],
   "source": [
    "dias: list = [\"lunes\", \"martes\", \"miércoles\", \"jueves\", \"viernes\"]\n",
    "type(dias)"
   ]
  },
  {
   "cell_type": "markdown",
   "id": "f2f285ad",
   "metadata": {},
   "source": [
    "### 4. Crear un programa que defina expresamente una variable de tipo texto llamada “varTexto” y asignarle el valor “Hola que tal”, muéstrela en pantalla a través de un print que diga “El valor de la variable es:”. Hacer lo mismo con una variable de tipo numérica llamada “varNumero”, Cuál es la diferencia?"
   ]
  },
  {
   "cell_type": "code",
   "execution_count": 19,
   "id": "59252f0a",
   "metadata": {},
   "outputs": [
    {
     "name": "stdout",
     "output_type": "stream",
     "text": [
      "El valor de la variable es:  Hola que tal\n"
     ]
    },
    {
     "data": {
      "text/plain": [
       "str"
      ]
     },
     "execution_count": 19,
     "metadata": {},
     "output_type": "execute_result"
    }
   ],
   "source": [
    "varTexto: str = \"Hola que tal\"\n",
    "print(\"El valor de la variable es: \", varTexto)\n",
    "type(varTexto)"
   ]
  },
  {
   "cell_type": "code",
   "execution_count": 20,
   "id": "9beaa9e2",
   "metadata": {},
   "outputs": [
    {
     "name": "stdout",
     "output_type": "stream",
     "text": [
      "El valor de la variable es:  Hola que tal\n"
     ]
    },
    {
     "data": {
      "text/plain": [
       "str"
      ]
     },
     "execution_count": 20,
     "metadata": {},
     "output_type": "execute_result"
    }
   ],
   "source": [
    "varNumero: int = \"Hola que tal\"\n",
    "print(\"El valor de la variable es: \", varNumero)\n",
    "type(varNumero)"
   ]
  },
  {
   "cell_type": "markdown",
   "id": "a8e90491",
   "metadata": {},
   "source": [
    "al ser un lenguaje de tipado dinámico, el mismo interprete identifica que el varNumero debería ser un string y automáticamente lo cambia al tipo correspondiente"
   ]
  },
  {
   "cell_type": "markdown",
   "id": "58558fd8",
   "metadata": {},
   "source": [
    "### 5. Crear un programa que lea el nombre, el apellido y el año de nacimiento de una persona, y entregue el mensaje: “Hey nombre apellido, tu edad es XX años!”."
   ]
  },
  {
   "cell_type": "code",
   "execution_count": 24,
   "id": "f0e96c21",
   "metadata": {},
   "outputs": [
    {
     "name": "stdout",
     "output_type": "stream",
     "text": [
      "Cual es tu nombre? Robert\n",
      "Cual es tu apellido? Downey\n",
      "Cual es tu año de nacimiento? 1930\n",
      "Hey Robert Downey, tu edad es 94 años!\n"
     ]
    }
   ],
   "source": [
    "nombre = input(\"Cual es tu nombre? \")\n",
    "apellido = input(\"Cual es tu apellido? \")\n",
    "año = input(\"Cual es tu año de nacimiento? \")\n",
    "\n",
    "print(\"Hey \" + nombre + \" \" + apellido + \", tu edad es \" + str(2024-int(año)) + \" años!\")"
   ]
  },
  {
   "cell_type": "code",
   "execution_count": null,
   "id": "e7b6364b",
   "metadata": {},
   "outputs": [],
   "source": []
  }
 ],
 "metadata": {
  "kernelspec": {
   "display_name": "Python 3 (ipykernel)",
   "language": "python",
   "name": "python3"
  },
  "language_info": {
   "codemirror_mode": {
    "name": "ipython",
    "version": 3
   },
   "file_extension": ".py",
   "mimetype": "text/x-python",
   "name": "python",
   "nbconvert_exporter": "python",
   "pygments_lexer": "ipython3",
   "version": "3.11.5"
  }
 },
 "nbformat": 4,
 "nbformat_minor": 5
}
