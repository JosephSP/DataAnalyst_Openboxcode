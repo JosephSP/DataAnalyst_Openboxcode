{
 "cells": [
  {
   "cell_type": "markdown",
   "id": "deb15f84",
   "metadata": {},
   "source": [
    "# Modulo 5: Ejercicio 4\n",
    "## Alumno: Jose Suarez"
   ]
  },
  {
   "cell_type": "markdown",
   "id": "639f3393",
   "metadata": {},
   "source": [
    "### Ejercicio 1\n",
    "Para estimar la proporción de habitantes de una ciudad que poseen ordenador personal se toma una muestra de tamaño n. Calcula el valor mínimo de n para garantizar, con un nivel de confianza del 95 %, que el error de estimación no supera el 2 %. (Como se desconoce la proporción, se hará a partir del caso más desfavorable, que será 0,5)."
   ]
  },
  {
   "cell_type": "code",
   "execution_count": 32,
   "id": "ab355f63",
   "metadata": {},
   "outputs": [
    {
     "name": "stdout",
     "output_type": "stream",
     "text": [
      "1) El tamaño mínimo de la muestra necesario es de 2400.9118\n"
     ]
    }
   ],
   "source": [
    "import numpy as np\n",
    "import pandas as pd\n",
    "from scipy.stats import norm, binom,geom,t,chi2 \n",
    "\n",
    "alpha = 0.05\n",
    "alphamedio = alpha / 2\n",
    "error = 0.02\n",
    "probOrdenador = 0.5\n",
    "\n",
    "z_Alpha = -norm.ppf(alphamedio)\n",
    "tamañoMuestra = np.round((z_Alpha ** 2 * 0.5**2 / (error**2)), 4)\n",
    "\n",
    "print(\"1) El tamaño mínimo de la muestra necesario es de\", tamañoMuestra)\n"
   ]
  },
  {
   "cell_type": "markdown",
   "id": "8d735401",
   "metadata": {},
   "source": [
    "### Ejercicio 2\n",
    "Un fabricante de electrodomésticos sabe que la vida media de estos sigue una distribución normal con media 100 meses y desviación típica 12 meses. Determina el mínimo tamaño muestral que garantiza, con una probabilidad de 0,98, que la vida media de los electrodomésticos en dicha muestra se encuentre entre 90 y 100 meses."
   ]
  },
  {
   "cell_type": "code",
   "execution_count": 57,
   "id": "ad4f326f",
   "metadata": {},
   "outputs": [
    {
     "name": "stdout",
     "output_type": "stream",
     "text": [
      "2)El tamaño mínimo de la muestra necesario es de minimo 31.17\n"
     ]
    }
   ],
   "source": [
    "mu_Electro = 100  \n",
    "sigma_Electro = 12 \n",
    "\n",
    "nivelConfianza = 0.98\n",
    "alpha_electro = (1-nivelConfianza)\n",
    "zalphamedio = -norm.ppf(alpha_electro/2)\n",
    "\n",
    "tamañoMuestra = np.round((zalphamedio*sigma_Electro/5)**2,2)\n",
    "\n",
    "print(\"2)El tamaño mínimo de la muestra necesario es de minimo\", tamañoMuestra)"
   ]
  },
  {
   "cell_type": "markdown",
   "id": "0b584526",
   "metadata": {},
   "source": [
    "### Ejercicio 3\n",
    "Se desea obtener la media de una variable aleatoria que se distribuye normalmente con una desviación típica de 3,2. Para ello se toma una muestra de 64 individuos obteniéndose una media de 32,5.\n",
    "#### 3.a) ¿Con qué nivel de confianza se puede afirmar que la media de la población está entre 31,5 y 33,5?"
   ]
  },
  {
   "cell_type": "code",
   "execution_count": 54,
   "id": "7f86da86",
   "metadata": {},
   "outputs": [
    {
     "name": "stdout",
     "output_type": "stream",
     "text": [
      "3.a) El nivel de confianza con el que se puede afirmar que la media poblacional esta entre 31.5 y 33.5 es de un 98.76%\n"
     ]
    }
   ],
   "source": [
    "tamañoMuestra = 64\n",
    "sigma = 3.2\n",
    "\n",
    "amplitud = 33.5 - 31.5\n",
    "error = amplitud/2\n",
    "\n",
    "zalphamedio = error * (tamañoMuestra ** 0.5) / sigma\n",
    "probZalphamedio = norm.cdf(zalphamedio)\n",
    "\n",
    "alpha = (1-probZalphamedio)*2\n",
    "\n",
    "nivelConfianza = np.round(1 - alpha, 4)*100\n",
    "\n",
    "print(f\"3.a) El nivel de confianza con el que se puede afirmar que la media poblacional esta entre 31.5 y 33.5 es de un {nivelConfianza}%\")"
   ]
  },
  {
   "cell_type": "markdown",
   "id": "cb8b7e5c",
   "metadata": {},
   "source": [
    "#### 3.b) Si la desviación típica de la población fuera 3, ¿qué tamaño mínimo debería tener la muestra con la cual estimamos la media poblacional si queremos que el nivel de confianza sea del 99 %, y el error admisible no supere el valor de 0,75?"
   ]
  },
  {
   "cell_type": "code",
   "execution_count": 65,
   "id": "b5cfb0a8",
   "metadata": {},
   "outputs": [
    {
     "name": "stdout",
     "output_type": "stream",
     "text": [
      "3.b)El tamaño mínimo de la muestra necesario es de minimo 106.16\n"
     ]
    }
   ],
   "source": [
    "sigma = 3\n",
    "\n",
    "nivelConfianza = 0.99\n",
    "alpha = (1-nivelConfianza)\n",
    "zalphamedio = -norm.ppf(alpha/2)\n",
    "\n",
    "tamañoMuestra = np.round((zalphamedio*sigma/.75)**2,2)\n",
    "print(\"3.b)El tamaño mínimo de la muestra necesario es de minimo\", tamañoMuestra)"
   ]
  },
  {
   "cell_type": "markdown",
   "id": "042d3b3c",
   "metadata": {},
   "source": [
    "### Ejercicio 4:\n",
    "La duración de un cierto tipo de cuenta de crédito en un banco se describe por una distribución Normal con desviación típica 1500 horas.\n",
    "#### 4.a) Si en una muestra de clientes de tamaño 100, tomada al azar, se ha observado que la duración media es de 9900 horas, determine un intervalo, con el 95 % de confianza, para la duración media de esta clase de cuentas de crédito."
   ]
  },
  {
   "cell_type": "code",
   "execution_count": 15,
   "id": "c0f75d10",
   "metadata": {},
   "outputs": [
    {
     "name": "stdout",
     "output_type": "stream",
     "text": [
      "4.a) El intervalo para la duracion poblacional del credito con un nivel de confianza del 95% esta entre 9606.01 horas y 10193.99 horas\n"
     ]
    }
   ],
   "source": [
    "sigma_Poblacional = 1500\n",
    "\n",
    "tamañoMuestra = 100\n",
    "mu_Muestra = 9900\n",
    "sigma_Error = sigma_Poblacional/ (tamañoMuestra ** 0.5)\n",
    "\n",
    "alpha = 0.05\n",
    "alphaMedio = alpha / 2\n",
    "\n",
    "z_alphaMedio = -norm.ppf(alphamedio)\n",
    "\n",
    "cotaInferior = np.round((mu_Muestra - (z_alphaMedio * sigma_Error)), 2)\n",
    "cotaSuperior = np.round((mu_Muestra + (z_alphaMedio * sigma_Error)), 2)\n",
    "\n",
    "print(f\"4.a) El intervalo para la duracion poblacional del credito con un nivel de confianza del 95% esta entre {cotaInferior} horas y {cotaSuperior} horas\")"
   ]
  },
  {
   "cell_type": "markdown",
   "id": "bfaf7ebe",
   "metadata": {},
   "source": [
    "### 4.b) Con un nivel de confianza del 99 % se ha construido un intervalo para la media con un error máximo de 772.5 horas, ¿Cuál es el tamaño de la muestra que se ha tomado en este caso?"
   ]
  },
  {
   "cell_type": "code",
   "execution_count": 75,
   "id": "d054afc3",
   "metadata": {},
   "outputs": [
    {
     "name": "stdout",
     "output_type": "stream",
     "text": [
      "4.b) Para el nivel de confianza y el error se deberia obtener una muestra de 41.0 cuentas\n"
     ]
    }
   ],
   "source": [
    "ErrorMaximo = 772.5\n",
    "\n",
    "alpha = 0.001\n",
    "alphaMedio = alpha / 2\n",
    "\n",
    "z_alphaMedio = -norm.ppf(alphaMedio)\n",
    "\n",
    "tamañoMuestra = (z_alphaMedio * sigma_Poblacional / ErrorMaximo) ** 2\n",
    "tamañoMuestra = np.ceil(tamañoMuestra)\n",
    "\n",
    "print(f\"4.b) Para el nivel de confianza y el error se deberia obtener una muestra de {tamañoMuestra} cuentas\")"
   ]
  },
  {
   "attachments": {
    "image.png": {
     "image/png": "[encoded data removed]"
    }
   },
   "cell_type": "markdown",
   "id": "b51e35be",
   "metadata": {},
   "source": [
    "### Ejercicio 5:\n",
    "El precio de un determinado producto, en los comercios de alimentación de una ciudad, sigue una distribución normal. Se toma una muestra aleatoria de 8 comercios y se observa el precio de ese producto, obteniendo las siguientes observaciones:\n",
    "![image.png](attachment:image.png)\n",
    "\n",
    "#### 5.a) Determine un intervalo de confianza del 95 % para la varianza poblacional."
   ]
  },
  {
   "cell_type": "code",
   "execution_count": 68,
   "id": "7d326602",
   "metadata": {},
   "outputs": [
    {
     "name": "stdout",
     "output_type": "stream",
     "text": [
      "5.a) El intervalo para la varianza poblacional del precio con un nivel de confianza del 95% esta entre 4.34 y 13.36\n"
     ]
    }
   ],
   "source": [
    "muestraLista = [132,125,130,139,126,138,124,140]\n",
    "muestraDF = pd.DataFrame({\"Precio\":muestraLista})\n",
    "\n",
    "mu_Muestra = muestraDF.mean()\n",
    "sigma_Muestra = muestraDF.std()\n",
    "tamañoMuestra = muestraDF.count()\n",
    "gradosLibertad = tamañoMuestra-1\n",
    "\n",
    "alpha = 0.05\n",
    "alphaMedio = alpha / 2\n",
    "\n",
    "mu_CotaInferior = chi2.isf(alphaMedio, gradosLibertad)[0]\n",
    "mu_CotaSuperior = chi2.isf(1-alphaMedio, gradosLibertad)[0]\n",
    "\n",
    "cotaInferior = np.round((gradosLibertad * (sigma_Muestra**2) / mu_CotaInferior)**0.5, 2)[0]\n",
    "cotaSuperior = np.round((gradosLibertad * (sigma_Muestra**2) / mu_CotaSuperior)**0.5, 2)[0]\n",
    "\n",
    "\n",
    "print(f\"5.a) El intervalo para la varianza poblacional del precio con un nivel de confianza del 95% esta entre {cotaInferior} y {cotaSuperior}\")"
   ]
  },
  {
   "cell_type": "markdown",
   "id": "31b88554",
   "metadata": {},
   "source": [
    "#### 5.b) Determine un intervalo de confianza del 95 % para la proporción de productos con precios menores o iguales a 130"
   ]
  },
  {
   "cell_type": "code",
   "execution_count": 74,
   "id": "64465f6e",
   "metadata": {},
   "outputs": [
    {
     "name": "stdout",
     "output_type": "stream",
     "text": [
      "5.b) El intervalo para la varianza poblacional del precio con un nivel de confianza del 95% y valores menores o iguales a 130 esta entre 1.49 y 9.81\n"
     ]
    }
   ],
   "source": [
    "muestraLista = [132,125,130,139,126,138,124,140]\n",
    "muestraDF = pd.DataFrame({\"Precio\":muestraLista})\n",
    "muestraDF = muestraDF[muestraDF[\"Precio\"] <= 130]\n",
    "\n",
    "mu_Muestra = muestraDF.mean()\n",
    "sigma_Muestra = muestraDF.std()\n",
    "tamañoMuestra = muestraDF.count()\n",
    "gradosLibertad = tamañoMuestra-1\n",
    "\n",
    "alpha = 0.05\n",
    "alphaMedio = alpha / 2\n",
    "\n",
    "mu_CotaInferior = chi2.isf(alphaMedio, gradosLibertad)[0]\n",
    "mu_CotaSuperior = chi2.isf(1-alphaMedio, gradosLibertad)[0]\n",
    "\n",
    "cotaInferior = np.round((gradosLibertad * (sigma_Muestra**2) / mu_CotaInferior)**0.5, 2)[0]\n",
    "cotaSuperior = np.round((gradosLibertad * (sigma_Muestra**2) / mu_CotaSuperior)**0.5, 2)[0]\n",
    "\n",
    "\n",
    "print(f\"5.b) El intervalo para la varianza poblacional del precio con un nivel de confianza del 95% y valores menores o iguales a 130 esta entre {cotaInferior} y {cotaSuperior}\")"
   ]
  },
  {
   "cell_type": "markdown",
   "id": "edf42a09",
   "metadata": {},
   "source": [
    "### Ejercicio 6:\n",
    "Se desea estudiar si es que hay diferencias en las probabilidades de ocurrencia de accidentes automovilísticos dependiendo del color de los autos. A 100 propietarios de vehículos de color rojo y a 200 de color blanco, se les consultó si habían tenido algún accidente durante el tiempo que han sido dueños de los autos. Se obtuvo como resultado que 45 de los dueños de autos rojos y 70 de los autos blancos habían tenido al menos un accidente automovilístico. Construya un intervalo de confianza de 90% para la diferencia de las probabilidades de que ocurra al menos un accidente automovilístico."
   ]
  },
  {
   "cell_type": "code",
   "execution_count": 95,
   "id": "4125addb",
   "metadata": {},
   "outputs": [
    {
     "name": "stdout",
     "output_type": "stream",
     "text": [
      "6) El intervalo para la diferencia de probabilidades de accidentes de vehiculos con un nivel de confianza del 90% esta entre 0.11% y 19.89%\n"
     ]
    }
   ],
   "source": [
    "tamañoMuestra_Rojo = 100\n",
    "tamañoMuestra_Blanco = 200\n",
    "\n",
    "accidentados_Rojo = 45\n",
    "accidentados_Blanco = 70\n",
    "propMuestraAccidentes_Rojo = accidentados_Rojo / tamañoMuestra_Rojo\n",
    "propMuestraAccidentes_Blanco = accidentados_Blanco / tamañoMuestra_Blanco\n",
    "DifMuestralAccidentes = np.round(propMuestraAccidentes_Rojo - propMuestraAccidentes_Blanco, 5)\n",
    "\n",
    "alpha = 0.1\n",
    "alphaMedio = alpha / 2\n",
    "z_alphaMedio = -norm.ppf(alphaMedio)\n",
    "\n",
    "cotaInferior = (DifMuestralAccidentes - (z_alphaMedio * \n",
    "                ((propMuestraAccidentes_Rojo * (1 - propMuestraAccidentes_Rojo) / tamañoMuestra_Rojo) + \n",
    "                 (propMuestraAccidentes_Blanco * (1 - propMuestraAccidentes_Blanco) / tamañoMuestra_Blanco)) ** 0.5))\n",
    "cotaInferior = np.round(cotaInferior*100,2)\n",
    "cotaSuperior = (DifMuestralAccidentes + (z_alphaMedio * \n",
    "                ((propMuestraAccidentes_Rojo * (1 - propMuestraAccidentes_Rojo) / tamañoMuestra_Rojo) + \n",
    "                 (propMuestraAccidentes_Blanco * (1 - propMuestraAccidentes_Blanco) / tamañoMuestra_Blanco)) ** 0.5))\n",
    "cotaSuperior = np.round(cotaSuperior*100,2)\n",
    "\n",
    "print(f\"6) El intervalo para la diferencia de probabilidades de accidentes de vehiculos con un nivel de confianza del 90% esta entre {cotaInferior}% y {cotaSuperior}%\")"
   ]
  }
 ],
 "metadata": {
  "kernelspec": {
   "display_name": "Python 3 (ipykernel)",
   "language": "python",
   "name": "python3"
  },
  "language_info": {
   "codemirror_mode": {
    "name": "ipython",
    "version": 3
   },
   "file_extension": ".py",
   "mimetype": "text/x-python",
   "name": "python",
   "nbconvert_exporter": "python",
   "pygments_lexer": "ipython3",
   "version": "3.11.5"
  }
 },
 "nbformat": 4,
 "nbformat_minor": 5
}
