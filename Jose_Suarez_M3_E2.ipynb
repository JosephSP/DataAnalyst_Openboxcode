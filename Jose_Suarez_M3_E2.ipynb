{
 "cells": [
  {
   "cell_type": "markdown",
   "id": "4006e445",
   "metadata": {},
   "source": [
    "# Modulo 3: Ejercicio 2\n",
    "## Alumno: Jose Suarez"
   ]
  },
  {
   "cell_type": "markdown",
   "id": "0ed1402a",
   "metadata": {},
   "source": [
    "### 1. Escribir un programa que pregunte al usuario por las ventas de un rango de años y muestre por pantalla una serie con los datos de las ventas indexada por los años, antes y después de aplicarles un descuento del 10%."
   ]
  },
  {
   "cell_type": "code",
   "execution_count": 2,
   "id": "6f818784",
   "metadata": {},
   "outputs": [
    {
     "name": "stdout",
     "output_type": "stream",
     "text": [
      "ingrese años a considerar, luego las ventas anuales y calcularemos segun el descuento\n",
      "Ingrese año de inicio contable: 23\n",
      "Ingrese año de termino contable: 25\n",
      "Ingrese las ventas para los años 23 y 25\n",
      "------------------------------\n",
      "ingrese ventas del año 23: 1235\n",
      "ingrese ventas del año 24: 312154\n",
      "ingrese ventas del año 25: 4321\n",
      "\n",
      "------------------------------\n",
      "23      1235\n",
      "24    312154\n",
      "25      4321\n",
      "dtype: int64\n",
      "23      1358.5\n",
      "24    343369.4\n",
      "25      4753.1\n",
      "dtype: float64\n"
     ]
    }
   ],
   "source": [
    "import numpy as np\n",
    "import pandas as pd\n",
    "\n",
    "delimitador = \"\\n\"+\"-\"*30 + \"\\n\"\n",
    "\n",
    "\n",
    "print(\"ingrese años a considerar, luego las ventas anuales y calcularemos segun el descuento\")\n",
    "\n",
    "añoInicial = int(input(\"Ingrese año de inicio contable: \"))\n",
    "añoFinal = int(input(\"Ingrese año de termino contable: \"))\n",
    "\n",
    "descuento = 0.1\n",
    "serieVentaXAño = pd.Series()\n",
    "\n",
    "print(f\"Ingrese las ventas para los años {añoInicial} y {añoFinal}\", end = delimitador)\n",
    "\n",
    "for año in range(añoInicial, añoFinal + 1):\n",
    "    venta = int(input(f\"ingrese ventas del año {año}: \"))\n",
    "    serieVentaXAño[año] = venta\n",
    "print(delimitador, end=\"\")\n",
    "print(serieVentaXAño)\n",
    "print(serieVentaXAño * (1 + descuento))"
   ]
  },
  {
   "cell_type": "markdown",
   "id": "6baf0869",
   "metadata": {},
   "source": [
    "### 2. Escribir una función que reciba un diccionario con las notas de los alumnos en curso en un examen y devuelva una serie con la nota mínima, la máxima, media y la desviación típica."
   ]
  },
  {
   "cell_type": "code",
   "execution_count": 3,
   "id": "9bee0962",
   "metadata": {},
   "outputs": [
    {
     "name": "stdout",
     "output_type": "stream",
     "text": [
      "minima     3.000000\n",
      "maxima     7.000000\n",
      "media      5.250000\n",
      "DesvSTD    1.707825\n",
      "dtype: float64\n"
     ]
    }
   ],
   "source": [
    "def ResumenCurso(notasCurso):\n",
    "    cursoNotasDF = pd.DataFrame(notasCurso)\n",
    "    resumenNotas = pd.Series()\n",
    "    \n",
    "    resumenNotas[\"minima\"] = cursoNotasDF[\"notas\"].min()\n",
    "    resumenNotas[\"maxima\"] = cursoNotasDF[\"notas\"].max()\n",
    "    resumenNotas[\"media\"] = cursoNotasDF[\"notas\"].mean()\n",
    "    resumenNotas[\"DesvSTD\"] = cursoNotasDF[\"notas\"].std()\n",
    "    \n",
    "    return resumenNotas\n",
    "\n",
    "notasCurso = {\n",
    "    \"alumno\": [\"1\",\"2\",\"3\",\"a\"] ,\n",
    "    \"notas\": [6, 5, 3, 7]\n",
    "}\n",
    "print(ResumenCurso(notasCurso))"
   ]
  },
  {
   "cell_type": "markdown",
   "id": "1d4e0aaa",
   "metadata": {},
   "source": [
    "### 3. Escribir una función que reciba un diccionario con las notas de los alumnos en curso en un examen y devuelva una serie con las notas de los alumnos aprobados ordenadas de mayor a menor."
   ]
  },
  {
   "cell_type": "code",
   "execution_count": 4,
   "id": "152ab354",
   "metadata": {},
   "outputs": [
    {
     "name": "stdout",
     "output_type": "stream",
     "text": [
      "3    7\n",
      "0    6\n",
      "1    5\n",
      "Name: notas, dtype: int64\n"
     ]
    }
   ],
   "source": [
    "# Considerando criterio de aprobacion nota 4 o mayor\n",
    "def AprobadosCurso(notasCurso):\n",
    "    cursoNotasDF = pd.DataFrame(notasCurso)\n",
    "    \n",
    "    \n",
    "    aprobadosDF = cursoNotasDF[cursoNotasDF[\"notas\"] >= 4].sort_values(by=\"notas\", ascending=False)\n",
    "    \n",
    "    aprobadosSerie = aprobadosDF[\"notas\"]\n",
    "\n",
    "    return aprobadosSerie\n",
    "\n",
    "print(AprobadosCurso(notasCurso))"
   ]
  },
  {
   "cell_type": "markdown",
   "id": "8cab0cd8",
   "metadata": {},
   "source": [
    "### 4. Escribir programa que genere y muestre por pantalla un DataFrame con los datos de la tabla siguiente:"
   ]
  },
  {
   "cell_type": "code",
   "execution_count": 6,
   "id": "4699b850",
   "metadata": {},
   "outputs": [
    {
     "name": "stdout",
     "output_type": "stream",
     "text": [
      "       Mes  Ventas  Gastos\n",
      "0    Enero   30500   22000\n",
      "1  Febrero   35600   23400\n",
      "2    Marzo   28300   18100\n",
      "3    Abril   33900   20700\n"
     ]
    }
   ],
   "source": [
    "tablaEj_4 = pd.DataFrame({\"Mes\": [\"Enero\", \"Febrero\", \"Marzo\", \"Abril\"],\n",
    "                   \"Ventas\": [30500, 35600, 28300, 33900],\n",
    "                   \"Gastos\": [22000, 23400, 18100, 20700]})\n",
    "\n",
    "print(tablaEj_4)"
   ]
  },
  {
   "cell_type": "markdown",
   "id": "6c301256",
   "metadata": {},
   "source": [
    "### 5. Convertir un diccionario Python en un objeto Series:"
   ]
  },
  {
   "cell_type": "code",
   "execution_count": 7,
   "id": "5ece3673",
   "metadata": {},
   "outputs": [
    {
     "name": "stdout",
     "output_type": "stream",
     "text": [
      "a    10\n",
      "b    20\n",
      "c    30\n",
      "d    40\n",
      "dtype: int64\n",
      "<class 'pandas.core.series.Series'>\n"
     ]
    }
   ],
   "source": [
    "datos_5 = {'a': 10, 'b': 20, 'c': 30, 'd': 40}\n",
    "\n",
    "datosSerie_5 = pd.Series(datos_5)\n",
    "\n",
    "print(datosSerie_5)\n",
    "print(type(datosSerie_5))"
   ]
  },
  {
   "cell_type": "markdown",
   "id": "79fde9ea",
   "metadata": {},
   "source": [
    "### 6. Obtener una columna de un objeto DataFrame como un objeto Series."
   ]
  },
  {
   "cell_type": "code",
   "execution_count": 8,
   "id": "67694c4a",
   "metadata": {},
   "outputs": [
    {
     "name": "stdout",
     "output_type": "stream",
     "text": [
      "0    1\n",
      "1    2\n",
      "2    3\n",
      "3    4\n",
      "4    5\n",
      "Name: A, dtype: int64\n",
      "<class 'pandas.core.series.Series'>\n"
     ]
    }
   ],
   "source": [
    "datos_6 = {'A': [1, 2, 3, 4, 5], 'b': [9, 8, 7, 6, 5], 'c': [2, 3, 5, 7, 11]}\n",
    "\n",
    "datosDF_6 = pd.DataFrame(datos_6)\n",
    "\n",
    "colA = datosDF_6[\"A\"]\n",
    "\n",
    "print(colA)\n",
    "print(type(colA))\n"
   ]
  },
  {
   "cell_type": "markdown",
   "id": "d0f8a4e9",
   "metadata": {},
   "source": [
    "### 7. Ordenar los valores de un objeto Series."
   ]
  },
  {
   "cell_type": "code",
   "execution_count": 9,
   "id": "d3367567",
   "metadata": {},
   "outputs": [
    {
     "name": "stdout",
     "output_type": "stream",
     "text": [
      "2       0.5\n",
      "0       1.1\n",
      "4       2.8\n",
      "1    Python\n",
      "3    pandas\n",
      "dtype: object\n"
     ]
    }
   ],
   "source": [
    "datos_7 = [\"1.1\", \"Python\", \"0.5\", \"pandas\", \"2.8\"]\n",
    "\n",
    "datosSerie_7 = pd.Series(datos_7).sort_values()\n",
    "\n",
    "print(datosSerie_7)\n"
   ]
  },
  {
   "cell_type": "markdown",
   "id": "f3c32ed5",
   "metadata": {},
   "source": [
    "### 8. Agregar datos a un objeto Series existente\n",
    "\n",
    "Además, redefinir los índices para que estén ordenados del 0 al 6\n"
   ]
  },
  {
   "cell_type": "code",
   "execution_count": 10,
   "id": "d737733b",
   "metadata": {},
   "outputs": [
    {
     "name": "stdout",
     "output_type": "stream",
     "text": [
      "0        python\n",
      "1            C#\n",
      "2           C++\n",
      "3          Java\n",
      "4           PHP\n",
      "5    JavaScript\n",
      "6          Perl\n",
      "dtype: object\n"
     ]
    }
   ],
   "source": [
    "datos_8 = [\"python\", \"C#\", \"C++\", \"Java\", \"PHP\"]\n",
    "porAgregar_8 = [\"JavaScript\", \"Perl\"]\n",
    "\n",
    "datosDF_8 = pd.Series(datos_8)\n",
    "porAgregarDF_8 = pd.Series(porAgregar_8)\n",
    "\n",
    "print(pd.concat([datosDF_8, porAgregarDF_8], ignore_index=True))\n"
   ]
  },
  {
   "cell_type": "markdown",
   "id": "3599f4af",
   "metadata": {},
   "source": [
    "### 9. Teniendo la siguiente serie:\n",
    "[10,None, 20, None, 40, 50,60,70,None,90]\n",
    "\n",
    "    a) Crear una serie que elimine los datos nulos\n",
    "\n",
    "    b) Cambie los valores nulos por el promedio\n",
    "\n",
    "    c) Eliminar el último elemento\n"
   ]
  },
  {
   "cell_type": "code",
   "execution_count": 11,
   "id": "1cdfff83",
   "metadata": {},
   "outputs": [
    {
     "name": "stdout",
     "output_type": "stream",
     "text": [
      "a)\n",
      "\n",
      "0    10.0\n",
      "1    20.0\n",
      "2    40.0\n",
      "3    50.0\n",
      "4    60.0\n",
      "5    70.0\n",
      "6    90.0\n",
      "dtype: float64\n",
      "------------------------------\n",
      "b)\n",
      "\n",
      "0    10.000000\n",
      "1    48.571429\n",
      "2    20.000000\n",
      "3    48.571429\n",
      "4    40.000000\n",
      "5    50.000000\n",
      "6    60.000000\n",
      "7    70.000000\n",
      "8    48.571429\n",
      "9    90.000000\n",
      "dtype: float64\n",
      "------------------------------\n",
      "c)\n",
      "\n",
      "0    10.000000\n",
      "1    48.571429\n",
      "2    20.000000\n",
      "3    48.571429\n",
      "4    40.000000\n",
      "5    50.000000\n",
      "6    60.000000\n",
      "7    70.000000\n",
      "8    48.571429\n",
      "dtype: float64\n",
      "------------------------------\n"
     ]
    }
   ],
   "source": [
    "delimitador = \"\\n\"+\"-\"*30 + \"\\n\"\n",
    "\n",
    "datos_9 = [10,None, 20, None, 40, 50,60,70,None,90]\n",
    "datosSerie_9 = pd.Series(datos_9)\n",
    "\n",
    "print(\"a)\", end=\"\\n\\n\")\n",
    "datosNoNull = datosSerie_9.dropna().reset_index(drop=True)\n",
    "print(datosNoNull, end= delimitador)\n",
    "\n",
    "print(\"b)\", end=\"\\n\\n\")\n",
    "datosNullPromedio = datosSerie_9.fillna(value=datosSerie_9.mean())\n",
    "print(datosNullPromedio, end= delimitador)\n",
    "\n",
    "print(\"c)\", end=\"\\n\\n\")\n",
    "datosNullPromedio = datosNullPromedio.drop(index = len(datosNullPromedio)-1)\n",
    "print(datosNullPromedio, end= delimitador)"
   ]
  },
  {
   "cell_type": "markdown",
   "id": "5e0e3746",
   "metadata": {},
   "source": [
    "### 10. Crear una Serie y un DataFrame:\n",
    "a. Crea una Serie con nombres de frutas.\n",
    "b. Crea un DataFrame con nombres de frutas y su cantidad.\n",
    "Manipulación de DataFrames:\n",
    "c. Agrega una columna con precios a tu DataFrame de frutas.\n",
    "d. Selecciona solo las frutas con una cantidad mayor a 10.\n",
    "e. Encuentra el promedio de los precios de las frutas."
   ]
  },
  {
   "cell_type": "code",
   "execution_count": 12,
   "id": "3d912d79",
   "metadata": {},
   "outputs": [
    {
     "name": "stdout",
     "output_type": "stream",
     "text": [
      "a)\n",
      "\n",
      "0       mango\n",
      "1      tomate\n",
      "2       palta\n",
      "3    maracuya\n",
      "dtype: object\n",
      "------------------------------\n",
      "b)\n",
      "\n",
      "  Nombre Fruta  cantidad\n",
      "0        mango        11\n",
      "1       tomate         5\n",
      "2        palta         1\n",
      "3     maracuya        30\n",
      "------------------------------\n",
      "c)\n",
      "\n",
      "  Nombre Fruta  cantidad  precio\n",
      "0        mango        11      20\n",
      "1       tomate         5      10\n",
      "2        palta         1      35\n",
      "3     maracuya        30      20\n",
      "------------------------------\n",
      "d)\n",
      "\n",
      "  Nombre Fruta  cantidad  precio\n",
      "0        mango        11      20\n",
      "3     maracuya        30      20\n",
      "------------------------------\n",
      "e)\n",
      "\n",
      "21.25\n"
     ]
    }
   ],
   "source": [
    "print(\"a)\\n\")\n",
    "frutas = pd.Series([\"mango\", \"tomate\", \"palta\", \"maracuya\"])\n",
    "print(frutas, end= delimitador)\n",
    "\n",
    "\n",
    "print(\"b)\\n\")\n",
    "cantidadFrutas = pd.DataFrame(frutas, columns=[\"Nombre Fruta\"])\n",
    "cantidadFrutas[\"cantidad\"] = [11, 5, 1, 30]\n",
    "print(cantidadFrutas, end= delimitador)\n",
    "\n",
    "\n",
    "print(\"c)\\n\")\n",
    "\n",
    "cantidadFrutas[\"precio\"] = [20, 10, 35, 20]\n",
    "print(cantidadFrutas, end= delimitador)\n",
    "\n",
    "print(\"d)\\n\")\n",
    "print(cantidadFrutas[cantidadFrutas[\"cantidad\"] > 10], end= delimitador)\n",
    "\n",
    "print(\"e)\\n\")\n",
    "print(cantidadFrutas[\"precio\"].mean())"
   ]
  },
  {
   "cell_type": "markdown",
   "id": "82c6415f",
   "metadata": {},
   "source": [
    "### 11. Crear un DataFrame:\n",
    "• Crea un DataFrame con información de ventas por día (fecha, producto, cantidad vendida, precio unitario).\n",
    "\n",
    "Análisis y Manipulación:\n",
    "\n",
    "    a. Calcula el total de ingresos por día (cantidad vendida * precio unitario).\n",
    "\n",
    "    b. Encuentra el producto más vendido en términos de cantidad y el que generó mayores ingresos.\n",
    "\n",
    "    c. Agrega una columna que indique el día de la semana.\n",
    "\n",
    "    d. Encuentra el día de la semana con mayores ventas totales.\n",
    "\n",
    "    e. Calcula el promedio de ventas por producto.\n",
    "\n",
    "    f. Encuentra la fecha con mayores ingresos.\n",
    "\n",
    "    g. Agrupa los datos por mes y encuentra el mes con mayores ingresos.\n"
   ]
  },
  {
   "cell_type": "code",
   "execution_count": 11,
   "id": "af2773ec",
   "metadata": {},
   "outputs": [
    {
     "name": "stdout",
     "output_type": "stream",
     "text": [
      "a)\n",
      "\n",
      "        fecha          producto  cantidad vendida  precio unitario  \\\n",
      "0   1-10-2022             carne                50             5000   \n",
      "1   1-10-2022         longaniza                 5             4500   \n",
      "2   3-10-2022     pana de pollo               100             1000   \n",
      "3   3-10-2022  corazon de ganzo                 3             4500   \n",
      "4  14-10-2022         longaniza                20             4300   \n",
      "\n",
      "   total Vendido  \n",
      "0         250000  \n",
      "1          22500  \n",
      "2         100000  \n",
      "3          13500  \n",
      "4          86000  \n",
      "------------------------------\n",
      "            cantidad vendida  precio unitario  total Vendido\n",
      "fecha                                                       \n",
      "1-10-2022                 55             9500         272500\n",
      "14-10-2022                20             4300          86000\n",
      "3-10-2022                103             5500         113500\n",
      "------------------------------\n"
     ]
    }
   ],
   "source": [
    "import datetime as dt\n",
    "import pandas as pd\n",
    "import numpy as np\n",
    "\n",
    "delimitador = \"\\n\"+\"-\"*30 + \"\\n\"\n",
    "\n",
    "data_11 = {\"fecha\": [\"1-10-2022\", \"1-10-2022\", \"3-10-2022\", \"3-10-2022\", \"14-10-2022\"],\n",
    "          \"producto\": [\"carne\", \"longaniza\", \"pana de pollo\", \"corazon de ganzo\", \"longaniza\"],\n",
    "          \"cantidad vendida\": [50, 5, 100, 3, 20],\n",
    "          \"precio unitario\": [5000, 4500, 1000, 4500, 4300]}\n",
    "dataFrame_11 = pd.DataFrame(data_11)\n",
    "\n",
    "print(\"a)\\n\")\n",
    "\n",
    "dataFrame_11[\"total Vendido\"] = dataFrame_11[\"cantidad vendida\"] * dataFrame_11[\"precio unitario\"]\n",
    "print(dataFrame_11, end= delimitador)\n",
    "\n",
    "ventasTotalxDia = dataFrame_11.groupby(\"fecha\").sum([\"total Vendido\"])\n",
    "print(ventasTotalxDia, end= delimitador)\n"
   ]
  },
  {
   "cell_type": "code",
   "execution_count": 5,
   "id": "472bdffd",
   "metadata": {},
   "outputs": [
    {
     "name": "stdout",
     "output_type": "stream",
     "text": [
      "b)\n",
      "\n",
      "El producto que vendio mas unidades fue pana de pollo con 100 unidades vendidas\n",
      "------------------------------\n",
      "El producto que genero mas ingresos fue carne con 250000 total vendido\n",
      "------------------------------\n"
     ]
    }
   ],
   "source": [
    "print(\"b)\\n\")\n",
    "\n",
    "ventasTotalxProducto = dataFrame_11.groupby(\"producto\").sum([\"total Vendido\"])\n",
    "\n",
    "maxCantidad = ventasTotalxProducto[\"cantidad vendida\"].max()\n",
    "productoMaxCantidad = ventasTotalxProducto[ventasTotalxProducto[\"cantidad vendida\"] == maxCantidad].index[0]\n",
    "\n",
    "print(\"El producto que vendio mas unidades fue\", productoMaxCantidad, \"con\", maxCantidad, \"unidades vendidas\", end= delimitador)\n",
    "\n",
    "maxVentas = ventasTotalxProducto[\"total Vendido\"].max()\n",
    "productoMaxVentas = ventasTotalxProducto[ventasTotalxProducto[\"total Vendido\"] == maxVentas].index[0]\n",
    "\n",
    "print(\"El producto que genero mas ingresos fue\", productoMaxVentas, \"con\", maxVentas, \"total vendido\", end= delimitador)\n"
   ]
  },
  {
   "cell_type": "code",
   "execution_count": 24,
   "id": "8ddc39a0",
   "metadata": {},
   "outputs": [
    {
     "name": "stdout",
     "output_type": "stream",
     "text": [
      "c)\n",
      "\n",
      "0   2022-10-01\n",
      "1   2022-10-01\n",
      "2   2022-10-03\n",
      "3   2022-10-03\n",
      "4   2022-10-14\n",
      "Name: fecha, dtype: datetime64[ns]\n",
      "------------------------------\n",
      "       fecha          producto  cantidad vendida  precio unitario  \\\n",
      "0 2022-10-01             carne                50             5000   \n",
      "1 2022-10-01         longaniza                 5             4500   \n",
      "2 2022-10-03     pana de pollo               100             1000   \n",
      "3 2022-10-03  corazon de ganzo                 3             4500   \n",
      "4 2022-10-14         longaniza                20             4300   \n",
      "\n",
      "   total Vendido dia de la semana  \n",
      "0         250000           Sabado  \n",
      "1          22500           Sabado  \n",
      "2         100000            Lunes  \n",
      "3          13500            Lunes  \n",
      "4          86000          Viernes  \n",
      "------------------------------\n"
     ]
    }
   ],
   "source": [
    "print(\"c)\\n\")\n",
    "\n",
    "diasDeLaSemana = [\"Lunes\", \"Martes\", \"Miercoles\", \"Jueves\", \"Viernes\", \"Sabado\", \"Domingo\"]\n",
    "def TxtoAdatetime(fecha):\n",
    "    try:\n",
    "        fecha = dt.datetime.strptime(fecha ,\"%d-%m-%Y\")\n",
    "        return fecha\n",
    "    except:\n",
    "        return fecha\n",
    "\n",
    "# diasDeLaSemana[dt.datetime.weekday(fecha)]\n",
    "\n",
    "dataFrame_11[\"fecha\"] = dataFrame_11[\"fecha\"].apply(TxtoAdatetime)\n",
    "dataFrame_11[\"dia de la semana\"] = dataFrame_11[\"fecha\"].apply(dt.datetime.weekday)\n",
    "\n",
    "transformarADia = lambda dia: diasDeLaSemana[dia]\n",
    "dataFrame_11[\"dia de la semana\"] = dataFrame_11[\"dia de la semana\"].apply(transformarADia)\n",
    "\n",
    "print(dataFrame_11[\"fecha\"], end= delimitador)\n",
    "\n",
    "print(dataFrame_11, end = delimitador)"
   ]
  },
  {
   "cell_type": "code",
   "execution_count": 25,
   "id": "7d5f10ea",
   "metadata": {},
   "outputs": [
    {
     "name": "stdout",
     "output_type": "stream",
     "text": [
      "d)\n",
      "\n",
      "El dia de la semana que se genero mas ingresos fue Sabado 2022-10-01 00:00:00 con 250000 total vendido\n",
      "------------------------------\n"
     ]
    }
   ],
   "source": [
    "print(\"d)\\n\")\n",
    "\n",
    "maxVentasxDiaSemana = dataFrame_11[\"total Vendido\"].max()\n",
    "diaSemanaMaxVentas = dataFrame_11[dataFrame_11[\"total Vendido\"] == maxVentas]\n",
    "\n",
    "print(\"El dia de la semana que se genero mas ingresos fue\", diaSemanaMaxVentas.loc[0, \"dia de la semana\"], \n",
    "      diaSemanaMaxVentas.loc[0, \"fecha\"] ,\"con\", maxVentasxDiaSemana, \"total vendido\", end= delimitador)"
   ]
  },
  {
   "cell_type": "code",
   "execution_count": 26,
   "id": "5171621c",
   "metadata": {},
   "outputs": [
    {
     "name": "stdout",
     "output_type": "stream",
     "text": [
      "e) La tabla de promedio segun cantidad vendida: \n",
      "\n",
      "                  cantidad vendida\n",
      "producto                          \n",
      "carne                         50.0\n",
      "corazon de ganzo               3.0\n",
      "longaniza                     12.5\n",
      "pana de pollo                100.0\n",
      "------------------------------\n"
     ]
    }
   ],
   "source": [
    "print(\"e) La tabla de promedio segun cantidad vendida: \\n\")\n",
    "\n",
    "promedioVentasProducto = dataFrame_11[[\"producto\", \"cantidad vendida\"]].groupby(\"producto\").mean([\"cantidad vendida\"])\n",
    "print(promedioVentasProducto, end= delimitador)\n"
   ]
  },
  {
   "cell_type": "code",
   "execution_count": 27,
   "id": "0e658c24",
   "metadata": {},
   "outputs": [
    {
     "name": "stdout",
     "output_type": "stream",
     "text": [
      "f)\n",
      "\n",
      "la fecha en que se genero mas ingresos fue 1-10-2022 con 272500 total vendido\n",
      "------------------------------\n"
     ]
    }
   ],
   "source": [
    "print(\"f)\\n\")\n",
    "\n",
    "maxVentasxFecha = ventasTotalxDia[\"total Vendido\"].max()\n",
    "fechaMaxVentas = ventasTotalxDia[ventasTotalxDia[\"total Vendido\"] == maxVentasxFecha].index[0]\n",
    "\n",
    "print(\"la fecha en que se genero mas ingresos fue\", fechaMaxVentas, \"con\", maxVentasxFecha, \"total vendido\", end=delimitador)"
   ]
  },
  {
   "cell_type": "code",
   "execution_count": 42,
   "id": "c8640748",
   "metadata": {},
   "outputs": [
    {
     "name": "stdout",
     "output_type": "stream",
     "text": [
      "g)\n",
      "\n",
      "el mes en que se genero mas ingresos fue el mes 10 con 472000 total vendido\n",
      "------------------------------\n"
     ]
    }
   ],
   "source": [
    "print(\"g)\\n\")\n",
    "\n",
    "dataFrame_11[\"mes\"] = dataFrame_11[\"fecha\"].dt.month\n",
    "\n",
    "ventasTotalxMes = dataFrame_11.groupby(\"mes\").sum([\"total Vendido\"])\n",
    "\n",
    "maxVentasxMes = ventasTotalxMes[\"total Vendido\"].max()\n",
    "mesMaxVentas = ventasTotalxMes[ventasTotalxMes[\"total Vendido\"] == maxVentasxMes].index[0]\n",
    "\n",
    "print(\"el mes en que se genero mas ingresos fue el mes\", mesMaxVentas, \"con\", maxVentasxMes, \"total vendido\", end=delimitador)"
   ]
  }
 ],
 "metadata": {
  "kernelspec": {
   "display_name": "Python 3 (ipykernel)",
   "language": "python",
   "name": "python3"
  },
  "language_info": {
   "codemirror_mode": {
    "name": "ipython",
    "version": 3
   },
   "file_extension": ".py",
   "mimetype": "text/x-python",
   "name": "python",
   "nbconvert_exporter": "python",
   "pygments_lexer": "ipython3",
   "version": "3.11.5"
  }
 },
 "nbformat": 4,
 "nbformat_minor": 5
}
