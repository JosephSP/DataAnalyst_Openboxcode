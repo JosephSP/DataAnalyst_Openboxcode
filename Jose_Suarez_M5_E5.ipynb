{
 "cells": [
  {
   "cell_type": "markdown",
   "id": "acbf3eee",
   "metadata": {},
   "source": [
    "# Modulo 5: Ejercicio 5\n",
    "## Alumno: Jose Suarez"
   ]
  },
  {
   "attachments": {
    "image.png": {
     "image/png": "[encoded data removed]"
    }
   },
   "cell_type": "markdown",
   "id": "9d4e87e0",
   "metadata": {},
   "source": [
    "### Ejercicio 1\n",
    "Se sabe que la media del consumo de energía eléctrica en cierta provincia es de 721 kwh.\n",
    "\n",
    "Una empresa tecnológica de la región cree que sus empleados consumen más que el promedio provincial. Recoge información sobre los consumos de 20 empleados escogidos al azar, y obtiene los siguientes datos:\n",
    "![image.png](attachment:image.png)\n",
    "Si la distribución del consumo mensual de energía eléctrica es normal:\n",
    "#### 1.a) ¿Hay evidencias para afirmar que el promedio del consumo de energía eléctrica hogareño de los empleados de la empresa es superior a la media del consumo a nivel provincial? Usar un nivel de significación del 10%.\n",
    "\n",
    "H0: mu_Regional = mu_Provincia\n",
    "H1: mu_Regional > mu_Provincia"
   ]
  },
  {
   "cell_type": "code",
   "execution_count": 62,
   "id": "2f59b33c",
   "metadata": {},
   "outputs": [
    {
     "name": "stdout",
     "output_type": "stream",
     "text": [
      "Se tendria que el estadistico de prueba toma un valor 2.15 el cual es superior al limite inferior de rechazo 1.33, por lo cual se rechaza la hipotesis nula y se acepta la hipotesis alternativa de que los empleados usaron mas energia en comparacion al promedio provincial\n"
     ]
    }
   ],
   "source": [
    "import pandas as pd\n",
    "import numpy as np\n",
    "from scipy.stats import norm,t,ttest_1samp, binomtest\n",
    "\n",
    "mu_Provincia = 721\n",
    "\n",
    "datosMuestra = pd.Series([710,774,814,768,823,732,675,755,770,660,654,757,736,677,797,760,718,774,747,796])\n",
    "mu_Muestra = datosMuestra.mean()\n",
    "sigma_Muestra = datosMuestra.std()\n",
    "tamañoMuestra = datosMuestra.count()\n",
    "gradosLibertad = tamañoMuestra - 1\n",
    "\n",
    "nivelSignificancia = 0.1\n",
    "t_Significancia = -t.ppf(nivelSignificancia,gradosLibertad)\n",
    "\n",
    "estadistico_Prueba = (mu_Muestra - mu_Provincia) / (sigma_Muestra / (tamañoMuestra ** 0.5))\n",
    "\n",
    "if estadistico_Prueba > t_Significancia:\n",
    "    print(f\"Se tendria que el estadistico de prueba toma un valor {estadistico_Prueba:0.2f} el cual es superior al limite inferior de rechazo {t_Significancia:0.2f}, por lo cual se rechaza la hipotesis nula y se acepta la hipotesis alternativa de que los empleados usaron mas energia en comparacion al promedio provincial\")"
   ]
  },
  {
   "cell_type": "markdown",
   "id": "d4fe555e",
   "metadata": {},
   "source": [
    "#### 1.b) ¿Cuál es el valor pp de la decisión?"
   ]
  },
  {
   "cell_type": "code",
   "execution_count": 38,
   "id": "070c11fe",
   "metadata": {},
   "outputs": [
    {
     "name": "stdout",
     "output_type": "stream",
     "text": [
      "Se tendria que el valor p es de 0.0223, el cual es menor a 0.05, con esto se comprueba la correlacion de que los empleados regionales usaron mas energia que el promedio de la provincia\n"
     ]
    }
   ],
   "source": [
    "valor_P = t.sf(estadistico_Prueba,gradosLibertad)\n",
    "\n",
    "print(f\"Se tendria que el valor p es de {valor_P:0.4f}, el cual es menor a 0.05, con esto se comprueba la correlacion de que los empleados regionales usaron mas energia que el promedio de la provincia\")"
   ]
  },
  {
   "cell_type": "markdown",
   "id": "32bea751",
   "metadata": {},
   "source": [
    "### Ejercicio 2\n",
    "Se quiere probar si la altura promedio de una muestra de estudiantes de una universidad es significativamente diferente de la altura promedio general de la población, que se sabe que es de 170 cm con una desviación estándar de 5 cm."
   ]
  },
  {
   "cell_type": "code",
   "execution_count": 57,
   "id": "09943795",
   "metadata": {},
   "outputs": [
    {
     "data": {
      "text/plain": [
       "'Segun prueba de valor p se denota una baja significancia en la diferencia de altura promedio poblacional y de la muestra'"
      ]
     },
     "execution_count": 57,
     "metadata": {},
     "output_type": "execute_result"
    }
   ],
   "source": [
    "def ComprobadorAlturaMuestra(Muestra):\n",
    "    mu_Poblacion = 170\n",
    "    sigma_Poblacion = 5\n",
    "    t_stat, valor_p = ttest_1samp(Muestra, mu_Poblacion)\n",
    "    if valor_p >= 0.05:\n",
    "        return \"Segun prueba de valor p se denota una baja significancia en la diferencia de altura promedio poblacional y de la muestra\"\n",
    "    else:\n",
    "        return \"Segun prueba de valor p se denota una alta significancia en la diferencia de altura promedio poblacional y de la muestra\"\n",
    "    \n",
    "    \n",
    "alturas_muestra = np.array([168, 171, 172, 169, 173, 169, 174, 170, 166, 172,\n",
    "                            167, 173, 169, 175, 172, 170, 165, 173, 168, 169,\n",
    "                            174, 171, 170, 171, 172, 169, 170, 168, 169, 173])\n",
    "ComprobadorAlturaMuestra(alturas_muestra)"
   ]
  },
  {
   "cell_type": "markdown",
   "id": "fd1d6db8",
   "metadata": {},
   "source": [
    "### Ejercicio 3\n",
    "Queremos evaluar si la proporción de estudiantes universitarios que prefieren el aprendizaje en línea es diferente de 0.60, que es la proporción declarada en un estudio anterior. Tomamos una muestra aleatoria de 200 estudiantes y encontramos que 120 de ellos prefieren el aprendizaje en línea.\n",
    "\n",
    "    H0: Prop_Actual = Prop_Anterior\n",
    "    H1: Prop_Actual != Prop_Anterior"
   ]
  },
  {
   "cell_type": "code",
   "execution_count": 86,
   "id": "7363f35d",
   "metadata": {},
   "outputs": [
    {
     "name": "stdout",
     "output_type": "stream",
     "text": [
      "Como el valor p es igual a 1.0 el cual es mayor a 0.05, no se puede rechazar hipotesis nula de que la proporcion actual es identica a la proporcion anterior\n"
     ]
    }
   ],
   "source": [
    "tamañoMuestra = 200\n",
    "preferenciaPositiva = 120\n",
    "prop_Actual = preferenciaPositiva / tamañoMuestra\n",
    "\n",
    "prop_Anterior = 0.6\n",
    "\n",
    "result = binomtest(preferenciaPositiva, n=tamañoMuestra, p=prop_Anterior)\n",
    "\n",
    "print(f\"Como el valor p es igual a {result.pvalue} el cual es mayor a 0.05, no se puede rechazar hipotesis nula de que la proporcion actual es identica a la proporcion anterior\")"
   ]
  },
  {
   "cell_type": "markdown",
   "id": "a25c6c91",
   "metadata": {},
   "source": [
    "### Ejercicio 4\n",
    "Queremos determinar si la duración media de la batería de un tipo particular de teléfono celular es diferente de 50 horas. Se toma una muestra aleatoria de 25 teléfonos y se encuentra que la duración media de la batería es de 48 horas, con una desviación estándar muestral de 5 horas.\n",
    "\n",
    "H0: mu_BateriaCel = 50\n",
    "H0: mu_BateriaCel != 50"
   ]
  },
  {
   "cell_type": "code",
   "execution_count": 84,
   "id": "91bc9fd7",
   "metadata": {},
   "outputs": [
    {
     "data": {
      "text/plain": [
       "0.056939849936591666"
      ]
     },
     "execution_count": 84,
     "metadata": {},
     "output_type": "execute_result"
    }
   ],
   "source": [
    "tamañoMuestra = 25\n",
    "mu_Muestra = 48\n",
    "sigma_Muestra = 5\n",
    "\n",
    "mu_Pruba = 50\n",
    "\n",
    "\n",
    "t_Prueba = (mu_Muestra - mu_Pruba) / (sigma_Muestra/(tamañoMuestra ** 0.5))\n",
    "valorP = t.cdf(t_Prueba, tamañoMuestra-1) * 2\n",
    "print(f\"Como el valor P es de {valorP:0.4f}, siendo este valor mayor a 0.05, no se puede comprobar que la hipotesis nula es falso\")"
   ]
  }
 ],
 "metadata": {
  "kernelspec": {
   "display_name": "Python 3 (ipykernel)",
   "language": "python",
   "name": "python3"
  },
  "language_info": {
   "codemirror_mode": {
    "name": "ipython",
    "version": 3
   },
   "file_extension": ".py",
   "mimetype": "text/x-python",
   "name": "python",
   "nbconvert_exporter": "python",
   "pygments_lexer": "ipython3",
   "version": "3.11.5"
  }
 },
 "nbformat": 4,
 "nbformat_minor": 5
}
