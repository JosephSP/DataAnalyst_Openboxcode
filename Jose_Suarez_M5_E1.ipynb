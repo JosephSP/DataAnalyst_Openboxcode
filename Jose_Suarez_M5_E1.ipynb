{
 "cells": [
  {
   "cell_type": "markdown",
   "id": "ff270cbb",
   "metadata": {},
   "source": [
    "# Modulo 5: Ejercicio 1\n",
    "## Alumno: Jose Suarez"
   ]
  },
  {
   "cell_type": "markdown",
   "id": "02ccd7c0",
   "metadata": {},
   "source": [
    "### 1. Un dado está trucado, de forma que las probabilidades de obtener las distintas caras son proporcionales a los números de estas\n",
    "\n",
    "    • La probabilidad de obtener el 6 en un lanzamiento.\n",
    "    • La probabilidad de conseguir un número impar en un lanzamiento."
   ]
  },
  {
   "cell_type": "code",
   "execution_count": 6,
   "id": "c00c2d0d",
   "metadata": {},
   "outputs": [
    {
     "name": "stdout",
     "output_type": "stream",
     "text": [
      "1)\n",
      "- La Probabilidad de obtener un 6 al lanzar es de 28.57%\n",
      "- La Probabilidad de obtener un numero par al lanzar es de 57.14%\n"
     ]
    }
   ],
   "source": [
    "import pandas as pd\n",
    "import numpy as np\n",
    "\n",
    "print(\"1)\")\n",
    "carasDado = np.arange(1,7)\n",
    "\n",
    "probabilidadaTrucadoDF = pd.DataFrame({\"Caras\": carasDado})\n",
    "\n",
    "probabilidadaTrucadoDF[\"Probabilidad Ocurrencia\"] = np.round(probabilidadaTrucadoDF[\"Caras\"] / carasDado.sum(), 4)\n",
    "\n",
    "prob6 = probabilidadaTrucadoDF[\"Probabilidad Ocurrencia\"][5] * 100\n",
    "probPar = probabilidadaTrucadoDF[probabilidadaTrucadoDF[\"Caras\"] % 2 == 0][\"Probabilidad Ocurrencia\"].sum() *100\n",
    "\n",
    "print(f\"- La Probabilidad de obtener un 6 al lanzar es de {prob6}%\")\n",
    "print(f\"- La Probabilidad de obtener un numero par al lanzar es de {probPar}%\")"
   ]
  },
  {
   "cell_type": "markdown",
   "id": "69b4090f",
   "metadata": {},
   "source": [
    "### 2. Se lanzan dos dados al aire y se anota la suma de los puntos obtenidos. Se pide:\n",
    "    • Probabilidad de que salga el 7.\n",
    "    • La probabilidad de que el número obtenido sea par.\n",
    "    • La probabilidad de que el número obtenido sea múltiplo de 3"
   ]
  },
  {
   "cell_type": "code",
   "execution_count": 7,
   "id": "b368877d",
   "metadata": {},
   "outputs": [
    {
     "name": "stdout",
     "output_type": "stream",
     "text": [
      "2)\n",
      "- Probabilidad de que salga el 7 es de 16.669999999999998%\n",
      "- La probabilidad de que el número obtenido sea par es de 50.0%\n",
      "- La probabilidad de que el número obtenido sea múltiplo de 3 es de 33.339999999999996%\n"
     ]
    }
   ],
   "source": [
    "print(\"2)\")\n",
    "posiblesOcurrencias = [d1 + d2 for d1 in carasDado for d2 in carasDado]\n",
    "\n",
    "posiblesOcurrencias = pd.Series(posiblesOcurrencias).value_counts().sort_index()\n",
    "\n",
    "\n",
    "probabilidadaDosDadosDF = pd.DataFrame({\"Numeros Obtenidos\": posiblesOcurrencias.index,\n",
    "                                        \"Ocurrencias\": posiblesOcurrencias.values})\n",
    "probabilidadaDosDadosDF[\"Probabilidad Ocurrencia\"] = np.round(probabilidadaDosDadosDF[\"Ocurrencias\"] / probabilidadaDosDadosDF[\"Ocurrencias\"].sum(), 4)\n",
    "\n",
    "prob7 = probabilidadaDosDadosDF[\"Probabilidad Ocurrencia\"][5] * 100\n",
    "probPar_2 = probabilidadaDosDadosDF[probabilidadaDosDadosDF[\"Numeros Obtenidos\"] % 2 == 0][\"Probabilidad Ocurrencia\"].sum() *100\n",
    "probMultiplo3 = probabilidadaDosDadosDF[probabilidadaDosDadosDF[\"Numeros Obtenidos\"] % 3 == 0][\"Probabilidad Ocurrencia\"].sum() *100\n",
    "\n",
    "print(f\"- Probabilidad de que salga el 7 es de {prob7}%\")\n",
    "print(f\"- La probabilidad de que el número obtenido sea par es de {probPar_2}%\")\n",
    "print(f\"- La probabilidad de que el número obtenido sea múltiplo de 3 es de {probMultiplo3}%\")\n",
    "\n",
    "\n",
    "# • Probabilidad de que salga el 7.\n",
    "# • La probabilidad de que el número obtenido sea par.\n",
    "# • La probabilidad de que el número obtenido sea múltiplo de 3"
   ]
  },
  {
   "cell_type": "markdown",
   "id": "5db18a92",
   "metadata": {},
   "source": [
    "### 3. Se lanzan al aire 3 monedas iguales. Calcula la probabilidad de que salgan dos caras y una cruz."
   ]
  },
  {
   "cell_type": "code",
   "execution_count": 9,
   "id": "5df8a095",
   "metadata": {},
   "outputs": [
    {
     "name": "stdout",
     "output_type": "stream",
     "text": [
      "3) La probabilidad de obtener 2 caras y una crus es de 0.375\n"
     ]
    }
   ],
   "source": [
    "# se considera que cara es 1 y cruz es 0, con lo que se sumaran los sucesos de cara y cruz al lanzar la moneda\n",
    "# 2 caras y 1 cruz seria representado por le numero 2 (1 + 1 + 0) == (c + c + s)\n",
    "posibles1Moneda = [1, 0]\n",
    "\n",
    "posibles3Moneda = [ m1 + m2 + m3 for m1 in posibles1Moneda for m2 in posibles1Moneda for m3 in posibles1Moneda]\n",
    "posibles3Moneda = pd.Series(posibles3Moneda).value_counts()\n",
    "posibles3Moneda = posibles3Moneda / posibles3Moneda.sum()\n",
    "print(f\"3) La probabilidad de obtener 2 caras y una crus es de {posibles3Moneda[2]}\")"
   ]
  },
  {
   "cell_type": "markdown",
   "id": "fb4c7d8d",
   "metadata": {},
   "source": [
    "### 4. Una bolsa contiene 2 bolas negras y 3 bolas blancas. Otra bolsa tiene 4 bolas negras y 2 blancas. Se elige una de las bolsas al azar y se extrae una bola. Calcular la probabilidad de:\n",
    "    a) La bola es blanca y de la primera bolsa.\n",
    "    b) La bola es blanca.\n",
    "    c) Si la bola es negra, ¿cuál es la probabilidad de que sea de la segunda bolsa?"
   ]
  },
  {
   "cell_type": "code",
   "execution_count": 14,
   "id": "5fdade43",
   "metadata": {},
   "outputs": [
    {
     "name": "stdout",
     "output_type": "stream",
     "text": [
      "4)\n",
      "a) La probabilidad de que la bola sea blanca y de la primera bolsa es 33.33%\n",
      "b) La probabilidad de que la bola sea blanca es 0.5%\n",
      "c) La probabilidad de que la bola sea de la segunda bolsa sabiendo que es negra 66.67%\n"
     ]
    }
   ],
   "source": [
    "print(\"4)\")\n",
    "\n",
    "bolsa_1 = [\"n\", \"n\", \"b\", \"b\",\"b\",\"b\"]\n",
    "bolsa_2 = [\"n\", \"n\", \"n\", \"n\",\"b\",\"b\"]\n",
    "\n",
    "probabilidadBolsa1 = pd.Series(bolsa_1).value_counts()\n",
    "probabilidadBolsa2 = pd.Series(bolsa_2).value_counts()\n",
    "probabilidadConjunta = probabilidadBolsa1 + probabilidadBolsa2\n",
    "\n",
    "\n",
    "probabilidadBolsa1 = probabilidadBolsa1 / probabilidadBolsa1.sum()\n",
    "probabilidadBolsa2 = probabilidadBolsa2 / probabilidadBolsa2.sum()\n",
    "\n",
    "probabilidadConjunta = probabilidadConjunta / probabilidadConjunta.sum()\n",
    "\n",
    "probBlancaBolsa1 = np.round(0.5 * probabilidadBolsa1[\"b\"], 4) * 100\n",
    "probBlanca = probabilidadConjunta[\"b\"]\n",
    "probSegBolsaNegra = np.round((0.5 * probabilidadBolsa2[\"n\"]) / probabilidadConjunta[\"n\"], 4) * 100  # P(bolsa2|negra)= P(negra Int Bolsa2) / P(n)\n",
    "\n",
    "# print(probabilidadBolsa1)\n",
    "# print(probabilidadBolsa2)\n",
    "# print(probabilidadConjunta)\n",
    "\n",
    "print(f\"a) La probabilidad de que la bola sea blanca y de la primera bolsa es {probBlancaBolsa1}%\")\n",
    "print(f\"b) La probabilidad de que la bola sea blanca es {probBlanca}%\")\n",
    "print(f\"c) La probabilidad de que la bola sea de la segunda bolsa sabiendo que es negra {probSegBolsaNegra}%\")\n"
   ]
  },
  {
   "cell_type": "markdown",
   "id": "dbdb56c8",
   "metadata": {},
   "source": [
    "### 5. Una fábrica produce tres tipos de productos: Memorias, CPU y Discos. La probabilidad de que un producto sea defectuoso es del 5% para el tipo Memorias, 8% para el tipo CPU y 3% para el tipo Discos. Se sabe que el 20% de la producción es de tipo Memorias, el 30% es de tipo CPU y el 50% es de tipo Discos. Si se selecciona un producto al azar y se encuentra que es defectuoso, ¿cuál es la probabilidad de que sea del tipo CPU?\n",
    "hipotesis = prob de que el defectuoso obtenido sea cpu\n",
    "evidencia = tenemos una cpu defectuosa obtenida como muestra                  "
   ]
  },
  {
   "cell_type": "code",
   "execution_count": 16,
   "id": "8ac3b014",
   "metadata": {},
   "outputs": [
    {
     "name": "stdout",
     "output_type": "stream",
     "text": [
      "Segun la informacion proporcionada:\n",
      "Se tendria que la probabilidad de que el producto defectuoso obtenido sea una CPU es de 48.9796\n"
     ]
    }
   ],
   "source": [
    "defectuoso = [0.05,0.08,0.03]\n",
    "produccion = [0.2,0.3,0.5]\n",
    "indices = [\"Memoria\",\"CPU\",\"Disco\"]\n",
    "\n",
    "\n",
    "datosProduccionDF = pd.DataFrame({\"produccion\":produccion,\"defectuoso\":defectuoso},\n",
    "                                index = indices)\n",
    "\n",
    "datosProduccionDF[\"P(def|prod)\"] = datosProduccionDF[\"produccion\"] * datosProduccionDF[\"defectuoso\"]\n",
    "\n",
    "probCPUSabiendoDefectuoso = datosProduccionDF[\"P(def|prod)\"][\"CPU\"] / datosProduccionDF[\"P(def|prod)\"].sum()\n",
    "probMemoriaSabiendoDefectuoso = datosProduccionDF[\"P(def|prod)\"][\"Memoria\"] / datosProduccionDF[\"P(def|prod)\"].sum()\n",
    "probDoscoabiendoDefectuoso = datosProduccionDF[\"P(def|prod)\"][\"Disco\"] / datosProduccionDF[\"P(def|prod)\"].sum()\n",
    "\n",
    "probCPUSabiendoDefectuoso = np.round(probCPUSabiendoDefectuoso,6) * 100\n",
    "print(f\"Segun la informacion proporcionada:\\nSe tendria que la probabilidad de que el producto defectuoso obtenido sea una CPU es de {probCPUSabiendoDefectuoso}\")\n",
    "\n",
    "\n",
    "\n"
   ]
  }
 ],
 "metadata": {
  "kernelspec": {
   "display_name": "Python 3 (ipykernel)",
   "language": "python",
   "name": "python3"
  },
  "language_info": {
   "codemirror_mode": {
    "name": "ipython",
    "version": 3
   },
   "file_extension": ".py",
   "mimetype": "text/x-python",
   "name": "python",
   "nbconvert_exporter": "python",
   "pygments_lexer": "ipython3",
   "version": "3.11.5"
  }
 },
 "nbformat": 4,
 "nbformat_minor": 5
}
