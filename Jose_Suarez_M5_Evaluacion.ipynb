{
 "cells": [
  {
   "cell_type": "markdown",
   "id": "34165326",
   "metadata": {},
   "source": [
    "# Modulo 5: Evaluacion\n",
    "## Alumno: Jose Suarez"
   ]
  },
  {
   "cell_type": "markdown",
   "id": "fdc77fe8",
   "metadata": {},
   "source": [
    "### Ejercicio 1\n",
    "Cierta compañía aérea ha requerido de sus servicios profesionales para llevar a cabo un estudio relacionado con la cantidad de pasajeros que llegan al país en vuelos internacionales, dicho estudio tiene relación con la enfermedad de COVID-19. De acuerdo a la información que maneja la compañía, la cantidad de pasajeros que llegan en vuelos internacionales se comporta aproximadamente normal con una media de 120 pasajeros y una varianza de 25.\n",
    "#### 1.a) Asumiendo que cada día llegan a Santiago 16 vuelos internacionales, determine la probabilidad que durante el año (52 semanas) la cantidad total de pasajeros sea de al menos de 699500."
   ]
  },
  {
   "cell_type": "code",
   "execution_count": 2,
   "id": "af2c6c1c",
   "metadata": {},
   "outputs": [
    {
     "name": "stdout",
     "output_type": "stream",
     "text": [
      "1.a) La probabilidad que durante el año el total de pasajeros sea de almenos 699500 personas es de 37.26%\n"
     ]
    }
   ],
   "source": [
    "import numpy as np\n",
    "import pandas as pd\n",
    "from scipy.stats import norm, binom,geom,t,ttest_1samp\n",
    "# dist normal pasajeros por vuelo\n",
    "mu_pasajerosxVuelo = 120\n",
    "sigma_pasajerosxVuelo = 25\n",
    "\n",
    "vuelosxDia = 16\n",
    "diasxAño = 52 * 7\n",
    "vuelosxAño = vuelosxDia * diasxAño\n",
    "\n",
    "cotaInfPasajeros = 699500\n",
    "\n",
    "mu_pasajerosxAño = mu_pasajerosxVuelo * vuelosxAño\n",
    "sigma_pasajerosxAño = sigma_pasajerosxVuelo * (vuelosxAño ** 0.5 )\n",
    "\n",
    "prob_mas699500 = np.round(1 - norm.cdf(cotaInfPasajeros, loc = mu_pasajerosxAño, scale = sigma_pasajerosxAño), 4) * 100\n",
    "\n",
    "print(f\"1.a) La probabilidad que durante el año el total de pasajeros sea de almenos 699500 personas es de {prob_mas699500}%\")\n"
   ]
  },
  {
   "cell_type": "markdown",
   "id": "d1ca0a10",
   "metadata": {},
   "source": [
    "#### b. De acuerdo con registros históricos se sabe que aproximadamente un 7% de los pasajeros son niños. Considerando un potencial de 400 pasajeros que llegarían en los próximos días, determine la probabilidad que menos de un 5% sean niños."
   ]
  },
  {
   "cell_type": "code",
   "execution_count": 2,
   "id": "0a4c4f9b",
   "metadata": {},
   "outputs": [
    {
     "name": "stdout",
     "output_type": "stream",
     "text": [
      "1.b) La probabilidad que de 400 pasajeros al menos 5% sean niños es de 5.847%\n"
     ]
    }
   ],
   "source": [
    "mu_pNiños = 0.07\n",
    "tamañoMuestra = 400\n",
    "\n",
    "cotaSupNiños = 0.05\n",
    "\n",
    "sigma_niños = ((mu_pNiños * (1 - mu_pNiños)) / tamañoMuestra) ** 0.5\n",
    "\n",
    "prob_menos5per = np.round(norm.cdf(cotaSupNiños, loc = mu_pNiños, scale = sigma_niños), 5) * 100\n",
    "\n",
    "print(f\"1.b) La probabilidad que de 400 pasajeros al menos 5% sean niños es de {prob_menos5per}%\")\n"
   ]
  },
  {
   "attachments": {
    "image.png": {
     "image/png": "[encoded data removed]"
    }
   },
   "cell_type": "markdown",
   "id": "ed277250",
   "metadata": {},
   "source": [
    "### Ejercicio 2\n",
    "Una empresa que se dedica a hacer en cuestas se queja de que un agente realiza en promedio 53 encuestas por semana. Se ha introducido una forma más moderna de realizar las encuetas y la empresa quiere evaluar su efectividad. Los números de encuestas realizadas en una semana por una muestra aleatoria de agentes son:\n",
    "![image.png](attachment:image.png)\n",
    "En el nivel de significancia 0,05, puede concluirse que la cantidad media de entrevistas realizadas por los agentes es superior a 53 por semana? Evalúe el valor p.\n",
    "\n",
    "H0 : mu_muestra_nueva_tecnica <= 53 encuestas\n",
    "H1 : mu_muestra_nueva_tecnica > 53 encuestas\n",
    "\n"
   ]
  },
  {
   "cell_type": "code",
   "execution_count": 12,
   "id": "27216bdc",
   "metadata": {},
   "outputs": [
    {
     "name": "stdout",
     "output_type": "stream",
     "text": [
      "Hipotesis nula H0: promedio con nuevo sistema <= promedio con antiguo sistema\n",
      "Hipotesis alternativa H1: promedio con nuevo sistema > promedio con antiguo sistema\n",
      "\n",
      "2) Como el valor T de la muestra es mayor al T a evaluar, se comprueba la hipotesis H1 y se determina que la media con el nuevo sistema de entrevistas es mayor que el metodo anterior\n",
      "\n",
      "Se tendria que el valor P tiene un valor de 0.0057, como es mucho menor que 0.05, se tendria alta confianza en que el comportamiento promedio del nuevo metodo tiene un valor mas alto que el promedio con el metodo anterior\n"
     ]
    }
   ],
   "source": [
    "print(\"Hipotesis nula H0: promedio con nuevo sistema <= promedio con antiguo sistema\")\n",
    "print(\"Hipotesis alternativa H1: promedio con nuevo sistema > promedio con antiguo sistema\")\n",
    "print()\n",
    "mu_Anterior = 53\n",
    "nivelSignificancia = 1-0.05\n",
    "\n",
    "numerosEnuestas = [53,57,50,55,58,54,60,52,59,62,60,60,51,59]\n",
    "encuestasDF = pd.DataFrame({\"NroEncuestas\": numerosEnuestas})\n",
    "\n",
    "\n",
    "tamañoMuestra = encuestasDF[\"NroEncuestas\"].count()\n",
    "muMuestra = encuestasDF[\"NroEncuestas\"].mean()\n",
    "sigmaMuestra = encuestasDF[\"NroEncuestas\"].std()\n",
    "\n",
    "tMuestra= (muMuestra-mu_Anterior) / (sigmaMuestra/ (tamañoMuestra**0.5))\n",
    "\n",
    "gradosLibertad = tamañoMuestra - 1\n",
    "\n",
    "tSignificancia = t.ppf(nivelSignificancia, gradosLibertad)\n",
    "\n",
    "if tMuestra > tSignificancia:\n",
    "    print(\"2) Como el valor T de la muestra es mayor al T a evaluar, se comprueba la hipotesis H1 y se determina que la media con el nuevo sistema de entrevistas es mayor que el metodo anterior\")\n",
    "    tEstadistico,valorP = ttest_1samp(numerosEnuestas, 53)\n",
    "    valorP = np.round(valorP,4)\n",
    "    print()\n",
    "    print(f\"Se tendria que el valor P tiene un valor de {valorP}, como es mucho menor que 0.05, se tendria alta confianza en que el comportamiento promedio del nuevo metodo tiene un valor mas alto que el promedio con el metodo anterior\")\n",
    "    \n",
    "else:\n",
    "    print(\"Como el valor T de la muestra es menor o igual al T a evaluar, se comprueba la hipotesis H0 y se determina que la media con el nuevo sistema de entrevistas es menor que el metodo anterior\")\n",
    "\n",
    "    \n",
    "    "
   ]
  },
  {
   "cell_type": "markdown",
   "id": "fa93f03c",
   "metadata": {},
   "source": [
    "### Ejercicio 3\n",
    "En el último año, se determinó que el tiempo promedio que los estudiantes pasaron resolviendo un examen fue de 65 minutos, con una desviación estándar de 10 minutos. Este año, se seleccionó una muestra aleatoria de 50 estudiantes, y se encontró que el tiempo promedio que tomaron resolviendo el mismo examen fue de 68 minutos.\n",
    "Considerando que el objetivo es evaluar si hay evidencia suficiente para afirmar que el tiempo promedio ha aumentado este año en comparación con el último, se plantea la siguiente prueba de hipótesis con un nivel de significancia del 5%:\n",
    "\n",
    "    • Hipótesis nula (H0): El tiempo promedio este año (μ) es igual al tiempo promedio del año pasado (μ0): μ=μ0\n",
    "    • Hipótesis alternativa (H1): El tiempo promedio este año (μ) es mayor al tiempo promedio del año pasado (μ0): μ>μ0\n",
    "Se dispone de la desviación estándar poblacional (σ) del año pasado, lo que permite utilizar una prueba Z para la media poblacional.\n",
    "#### 3.a) Calcule el estadístico de prueba Z utilizando los datos proporcionados."
   ]
  },
  {
   "cell_type": "code",
   "execution_count": 47,
   "id": "653d14af",
   "metadata": {},
   "outputs": [
    {
     "name": "stdout",
     "output_type": "stream",
     "text": [
      "3.a) Se tendria que el estadistico de prueba z es 2.1213\n"
     ]
    }
   ],
   "source": [
    "# poblacional t: minutos\n",
    "mu_tExamen = 65\n",
    "sigma_tExamen = 10\n",
    "\n",
    "# muestral 50 estudiantes\n",
    "tamañoMuestra = 50\n",
    "mu_tMuestral = 68\n",
    "sigma_tMuestral = sigma_tExamen / (tamañoMuestra ** 0.5)\n",
    "\n",
    "nivelSignificancia = 0.05\n",
    "# H0: mu_tExamen_AñoActual = mu_tExamen_AñoAnterior\n",
    "# H0: mu_tExamen_AñoActual > mu_tExamen_AñoAnterior\n",
    "\n",
    "prueba_Z = np.round((mu_tMuestral - mu_tExamen)/sigma_tMuestral,4)\n",
    "\n",
    "print(f\"3.a) Se tendria que el estadistico de prueba z es {prueba_Z}\")\n"
   ]
  },
  {
   "cell_type": "markdown",
   "id": "fc5faf88",
   "metadata": {},
   "source": [
    "#### 3.b) ¿Qué conclusión se puede obtener con respecto a las hipótesis nula y alternativa basándose en el valor calculado de Z y el valor crítico correspondiente para un nivel de significancia del 5%?"
   ]
  },
  {
   "cell_type": "code",
   "execution_count": 57,
   "id": "d33e9870",
   "metadata": {},
   "outputs": [
    {
     "name": "stdout",
     "output_type": "stream",
     "text": [
      "3.b) Como el valor Z de la muestra es mayor al valor critico de significancia, se comprueba la hipotesis H1 por lo que el tiempo de examen de este año es mayor al del año anterior\n"
     ]
    }
   ],
   "source": [
    "tSignificancia = -t.ppf(nivelSignificancia, tamañoMuestra-1)\n",
    "\n",
    "tSignificancia\n",
    "\n",
    "if prueba_Z > tSignificancia:\n",
    "    print(\"3.b) Como el valor Z de la muestra es mayor al valor critico de significancia, se comprueba la hipotesis H1 por lo que el tiempo de examen de este año es mayor al del año anterior\")\n"
   ]
  }
 ],
 "metadata": {
  "kernelspec": {
   "display_name": "Python 3 (ipykernel)",
   "language": "python",
   "name": "python3"
  },
  "language_info": {
   "codemirror_mode": {
    "name": "ipython",
    "version": 3
   },
   "file_extension": ".py",
   "mimetype": "text/x-python",
   "name": "python",
   "nbconvert_exporter": "python",
   "pygments_lexer": "ipython3",
   "version": "3.11.5"
  }
 },
 "nbformat": 4,
 "nbformat_minor": 5
}
