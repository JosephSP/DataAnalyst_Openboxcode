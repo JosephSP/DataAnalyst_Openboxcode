{
 "cells": [
  {
   "cell_type": "markdown",
   "id": "4006e445",
   "metadata": {},
   "source": [
    "# Modulo 3: Ejercicio 4\n",
    "## Alumno: Jose Suarez"
   ]
  },
  {
   "cell_type": "markdown",
   "id": "0ed1402a",
   "metadata": {},
   "source": [
    "### 1. Continuaremos trabajando con nuestros datos de supermercado. Para esto cargaremos los 4 archivos (clientes, boletas, detalle y productos) y responderemos las siguientes preguntas:\n",
    "    a. Generar un dataframe con cada archivo.\n",
    "    b. Cuantos datos tiene cada dataframe?\n",
    "    c. Cuantos clientes no tienen email?\n",
    "    d. Genera un filtro para saber a qué clientes les falta un dato (cualquiera).\n",
    "    e. A cuantos clientes les faltan datos?\n",
    "    f. Agregar una nueva columna a todos los clientes, que indique si le falta algún dato o no (con un mapeo).\n",
    "    g. A todos los clientes que les falten datos, deben rellenarse con un S/I, excepto la fecha de nacimiento.\n",
    "    h. Busque en los productos si existe algún outlier."
   ]
  },
  {
   "cell_type": "code",
   "execution_count": 1,
   "id": "6767c0f0",
   "metadata": {},
   "outputs": [
    {
     "name": "stdout",
     "output_type": "stream",
     "text": [
      "<class 'pandas.core.frame.DataFrame'>\n",
      "------------------------------------------------------------\n",
      "<class 'pandas.core.frame.DataFrame'>\n",
      "------------------------------------------------------------\n",
      "<class 'pandas.core.frame.DataFrame'>\n",
      "------------------------------------------------------------\n",
      "<class 'pandas.core.frame.DataFrame'>\n",
      "------------------------------------------------------------\n"
     ]
    }
   ],
   "source": [
    "import pandas as pd\n",
    "import numpy as np\n",
    "\n",
    "delimitador = \"\\n\" + \"-\" * 60 + \"\\n\"\n",
    "\n",
    "# A) Generar dataframes de los archivos\n",
    "clientes = pd.read_csv(\"clientes.csv\", encoding='latin-1')\n",
    "productos = pd.read_csv(\"productos.csv\", encoding='latin-1')\n",
    "boletas = pd.read_csv(\"boletas.csv\", encoding='latin-1')\n",
    "detalle = pd.read_csv(\"detalle.csv\", encoding='latin-1')\n",
    "\n",
    "print(type(clientes), end= delimitador)\n",
    "print(type(productos), end= delimitador)\n",
    "print(type(boletas), end= delimitador)\n",
    "print(type(detalle), end= delimitador)"
   ]
  },
  {
   "cell_type": "code",
   "execution_count": 2,
   "id": "5a8bf5d5",
   "metadata": {},
   "outputs": [
    {
     "name": "stdout",
     "output_type": "stream",
     "text": [
      "b) Cuantos datos tiene cada dataframe\n",
      "clientes tiene 140 datos, distribuidos: \n",
      "rut                 20\n",
      "nombre              20\n",
      "direccion           13\n",
      "comuna              12\n",
      "fecha_nacimiento    16\n",
      "telefono            14\n",
      "email               16\n",
      "dtype: int64\n",
      "------------------------------------------------------------\n",
      "productos tiene 60 datos, distribuidos: \n",
      "codigo    20\n",
      "nombre    20\n",
      "precio    20\n",
      "dtype: int64\n",
      "------------------------------------------------------------\n",
      "boletas tiene 72 datos, distribuidos: \n",
      "numero         24\n",
      "fecha          24\n",
      "rut_cliente    24\n",
      "dtype: int64\n",
      "------------------------------------------------------------\n",
      "detalle tiene 120 datos, distribuidos: \n",
      "numero_boleta      40\n",
      "codigo_producto    40\n",
      "cantidad           40\n",
      "dtype: int64\n",
      "------------------------------------------------------------\n"
     ]
    }
   ],
   "source": [
    "print(\"b) Cuantos datos tiene cada dataframe\")\n",
    "\n",
    "print(\"clientes tiene\", clientes.size, \"datos, distribuidos: \")\n",
    "print(clientes.count(), end= delimitador)\n",
    "\n",
    "print(\"productos tiene\", productos.size, \"datos, distribuidos: \")\n",
    "print(productos.count(), end= delimitador)\n",
    "\n",
    "print(\"boletas tiene\", boletas.size, \"datos, distribuidos: \")\n",
    "print(boletas.count(), end= delimitador)\n",
    "\n",
    "print(\"detalle tiene\", detalle.size, \"datos, distribuidos: \")\n",
    "print(detalle.count(), end= delimitador)"
   ]
  },
  {
   "cell_type": "code",
   "execution_count": 3,
   "id": "3baa1115",
   "metadata": {},
   "outputs": [
    {
     "name": "stdout",
     "output_type": "stream",
     "text": [
      "c) Cuantos clientes no tienen email?\n",
      "Los clientes sin email son 4\n"
     ]
    }
   ],
   "source": [
    "print(\"c) Cuantos clientes no tienen email?\")\n",
    "print(\"Los clientes sin email son\", clientes[\"email\"].isna().sum())\n",
    "\n"
   ]
  },
  {
   "cell_type": "code",
   "execution_count": 4,
   "id": "d7214cff",
   "metadata": {},
   "outputs": [
    {
     "name": "stdout",
     "output_type": "stream",
     "text": [
      "d) a los clientes que le faltan datos son: \n",
      "               nombre         rut\n",
      "0       Tomás Ramírez  11223344-4\n",
      "1     Pedro Rodríguez  23456789-1\n",
      "2       Camila Torres  33445566-5\n",
      "3          Mateo Diaz  33445566-7\n",
      "4      Carla González  34567890-2\n",
      "5      Diego Martínez  45678901-3\n",
      "6       Matias Castro  55667788-6\n",
      "7   Valentina Herrera  55667788-9\n",
      "8           Ana Lopez  56789012-4\n",
      "9     Luisa Fernández  67890123-5\n",
      "10       Martin Gómez  77889900-1\n",
      "11      Renata Flores  77889900-7\n",
      "12      Javier Torres  78901234-6\n",
      "13      Marta Ramírez  89012345-7\n",
      "14       Daniel Silva  90123456-8\n",
      "15        Sofía Pérez  99001122-3\n",
      "16       Nicolás Ruiz  99001122-8\n"
     ]
    }
   ],
   "source": [
    "print(\"d) a los clientes que le faltan datos son: \")\n",
    "print(clientes[clientes.isna().any(axis=1)][[\"nombre\",\"rut\"]].reset_index(drop=True))"
   ]
  },
  {
   "cell_type": "code",
   "execution_count": 5,
   "id": "bab4e1c4",
   "metadata": {},
   "outputs": [
    {
     "name": "stdout",
     "output_type": "stream",
     "text": [
      "e) el numero de clientes que le faltan datos son:  17\n"
     ]
    }
   ],
   "source": [
    "print(\"e) el numero de clientes que le faltan datos son: \", clientes[clientes.isna().any(axis=1)][\"nombre\"].count())"
   ]
  },
  {
   "cell_type": "code",
   "execution_count": 6,
   "id": "44cc1fef",
   "metadata": {},
   "outputs": [
    {
     "name": "stdout",
     "output_type": "stream",
     "text": [
      "           rut             nombre                direccion        comuna  \\\n",
      "0   11223344-4      Tomás Ramírez                      NaN         Arica   \n",
      "1   11223344-5        Laura Rojas        Calle Virtual 567   Antofagasta   \n",
      "2   12345678-9         Juan Perez          Calle Falsa 123      Santiago   \n",
      "3   23456789-1    Pedro Rodríguez                      NaN    Valparaíso   \n",
      "4   33445566-5      Camila Torres    Calle Cibernética 456           NaN   \n",
      "5   33445566-7         Mateo Diaz                      NaN  Viña del Mar   \n",
      "6   34567890-2     Carla González      Calle Inventada 789           NaN   \n",
      "7   45678901-3     Diego Martínez       Avenida Irreal 987     La Serena   \n",
      "8   55667788-6      Matias Castro   Avenida Innovación 321           NaN   \n",
      "9   55667788-9  Valentina Herrera  Avenida Tecnológica 123           NaN   \n",
      "10  56789012-4          Ana Lopez                      NaN           NaN   \n",
      "11  67890123-5    Luisa Fernández       Calle Ficticia 321      Rancagua   \n",
      "12  77889900-1       Martin Gómez                      NaN       Iquique   \n",
      "13  77889900-7      Renata Flores                      NaN       Copiapó   \n",
      "14  78901234-6      Javier Torres   Avenida de Ensueño 654        Temuco   \n",
      "15  87654321-0      Maria Sánchez   Avenida Imaginaria 456    Concepción   \n",
      "16  89012345-7      Marta Ramírez         Calle Soñada 210           NaN   \n",
      "17  90123456-8       Daniel Silva                      NaN  Puerto Montt   \n",
      "18  99001122-3        Sofía Pérez        Calle Digital 789           NaN   \n",
      "19  99001122-8       Nicolás Ruiz   Calle Programación 210           NaN   \n",
      "\n",
      "   fecha_nacimiento     telefono                  email Faltan Datos  \n",
      "0        1994-12-31          NaN      tomas@example.com           si  \n",
      "1        1998-07-12  945678321.0      laura@example.com           no  \n",
      "2        2000-05-15  912345678.0       juan@example.com           no  \n",
      "3        1988-03-10  912345678.0      pedro@example.com           si  \n",
      "4        1993-02-14  977894512.0     camila@example.com           si  \n",
      "5        2002-02-28  967894512.0      mateo@example.com           si  \n",
      "6        1999-12-05  934567890.0      carla@example.com           si  \n",
      "7               NaN          NaN      diego@example.com           si  \n",
      "8        1992-06-08  923478965.0                    NaN           si  \n",
      "9        1997-04-05  923478965.0  valentina@example.com           si  \n",
      "10       1990-08-18  978901234.0        ana@example.com           si  \n",
      "11       2005-04-25          NaN      luisa@example.com           si  \n",
      "12       1996-10-17  955678902.0     martin@example.com           si  \n",
      "13              NaN          NaN     renata@example.com           si  \n",
      "14       1985-11-30  923456789.0                    NaN           si  \n",
      "15       1995-10-20  987654321.0      maria@example.com           no  \n",
      "16              NaN          NaN                    NaN           si  \n",
      "17              NaN          NaN                    NaN           si  \n",
      "18       2001-09-22  912345672.0      sofia@example.com           si  \n",
      "19       2003-11-03  955678902.0    nicolas@example.com           si  \n"
     ]
    }
   ],
   "source": [
    "# f) con mapeo agregar columna\n",
    "clientes[\"Faltan Datos\"] = clientes.isna().any(axis=1).map(lambda bol: \"si\" if bol else \"no\")\n",
    "print(clientes)"
   ]
  },
  {
   "cell_type": "code",
   "execution_count": 7,
   "id": "67f710e0",
   "metadata": {},
   "outputs": [
    {
     "name": "stdout",
     "output_type": "stream",
     "text": [
      "           rut             nombre                direccion        comuna  \\\n",
      "0   11223344-4      Tomás Ramírez                      S/I         Arica   \n",
      "1   11223344-5        Laura Rojas        Calle Virtual 567   Antofagasta   \n",
      "2   12345678-9         Juan Perez          Calle Falsa 123      Santiago   \n",
      "3   23456789-1    Pedro Rodríguez                      S/I    Valparaíso   \n",
      "4   33445566-5      Camila Torres    Calle Cibernética 456           S/I   \n",
      "5   33445566-7         Mateo Diaz                      S/I  Viña del Mar   \n",
      "6   34567890-2     Carla González      Calle Inventada 789           S/I   \n",
      "7   45678901-3     Diego Martínez       Avenida Irreal 987     La Serena   \n",
      "8   55667788-6      Matias Castro   Avenida Innovación 321           S/I   \n",
      "9   55667788-9  Valentina Herrera  Avenida Tecnológica 123           S/I   \n",
      "10  56789012-4          Ana Lopez                      S/I           S/I   \n",
      "11  67890123-5    Luisa Fernández       Calle Ficticia 321      Rancagua   \n",
      "12  77889900-1       Martin Gómez                      S/I       Iquique   \n",
      "13  77889900-7      Renata Flores                      S/I       Copiapó   \n",
      "14  78901234-6      Javier Torres   Avenida de Ensueño 654        Temuco   \n",
      "15  87654321-0      Maria Sánchez   Avenida Imaginaria 456    Concepción   \n",
      "16  89012345-7      Marta Ramírez         Calle Soñada 210           S/I   \n",
      "17  90123456-8       Daniel Silva                      S/I  Puerto Montt   \n",
      "18  99001122-3        Sofía Pérez        Calle Digital 789           S/I   \n",
      "19  99001122-8       Nicolás Ruiz   Calle Programación 210           S/I   \n",
      "\n",
      "   fecha_nacimiento     telefono                  email Faltan Datos  \n",
      "0        1994-12-31          S/I      tomas@example.com           si  \n",
      "1        1998-07-12  945678321.0      laura@example.com           no  \n",
      "2        2000-05-15  912345678.0       juan@example.com           no  \n",
      "3        1988-03-10  912345678.0      pedro@example.com           si  \n",
      "4        1993-02-14  977894512.0     camila@example.com           si  \n",
      "5        2002-02-28  967894512.0      mateo@example.com           si  \n",
      "6        1999-12-05  934567890.0      carla@example.com           si  \n",
      "7               NaN          S/I      diego@example.com           si  \n",
      "8        1992-06-08  923478965.0                    S/I           si  \n",
      "9        1997-04-05  923478965.0  valentina@example.com           si  \n",
      "10       1990-08-18  978901234.0        ana@example.com           si  \n",
      "11       2005-04-25          S/I      luisa@example.com           si  \n",
      "12       1996-10-17  955678902.0     martin@example.com           si  \n",
      "13              NaN          S/I     renata@example.com           si  \n",
      "14       1985-11-30  923456789.0                    S/I           si  \n",
      "15       1995-10-20  987654321.0      maria@example.com           no  \n",
      "16              NaN          S/I                    S/I           si  \n",
      "17              NaN          S/I                    S/I           si  \n",
      "18       2001-09-22  912345672.0      sofia@example.com           si  \n",
      "19       2003-11-03  955678902.0    nicolas@example.com           si  \n"
     ]
    }
   ],
   "source": [
    "# g) cambiar NAN con S/I en todas las columnas excepto fecha\n",
    "rellenos = {\"rut\": \"S/I\",\n",
    "            \"nombre\": \"S/I\",\n",
    "            \"direccion\": \"S/I\",\n",
    "            \"comuna\": \"S/I\",\n",
    "            \"fecha_nacimiento\": np.nan,\n",
    "            \"telefono\": \"S/I\",\n",
    "            \"email\": \"S/I\"\n",
    "           }\n",
    "clientes.fillna(rellenos, inplace= True)\n",
    "print(clientes)"
   ]
  },
  {
   "cell_type": "code",
   "execution_count": 8,
   "id": "fc146a88",
   "metadata": {},
   "outputs": [
    {
     "name": "stdout",
     "output_type": "stream",
     "text": [
      "h) los valores outlier segun el precio estan en la siguiente tabla:\n",
      "   codigo            nombre  precio\n",
      "2     103  Aceite de cocina   18000\n"
     ]
    }
   ],
   "source": [
    "print(\"h) los valores outlier segun el precio estan en la siguiente tabla:\")\n",
    "\n",
    "Q1 = productos['precio'].quantile(0.25)\n",
    "Q3 = productos['precio'].quantile(0.75)\n",
    "Q2 = productos['precio'].quantile(0.5)\n",
    "IQR = Q3 - Q1\n",
    "filtro = (productos['precio'] >= Q1 - 1.5 * IQR) & (productos['precio'] <= Q3 + 1.5 * IQR)\n",
    "\n",
    "print(productos[-filtro])"
   ]
  },
  {
   "cell_type": "markdown",
   "id": "6baf0869",
   "metadata": {},
   "source": [
    "### 2. El archivo “M3E4 - titanic.csv” contiene información sobre los pasajeros del Titanic. Escribir un programa con los siguientes requisitos:\n",
    "    a. Generar un DataFrame con los datos del fichero.\n",
    "    b. Mostrar por pantalla las dimensiones del DataFrame, el número de datos que contiene, los nombres de sus columnas y filas, los tipos de datos de las columnas, las 10 primeras filas y las 10 últimas filas.\n",
    "    c. Mostrar por pantalla los datos del pasajero con identificador 148.\n",
    "    d. Mostrar por pantalla las filas pares del DataFrame.\n",
    "    e. Mostrar por pantalla los nombres de las personas que iban en primera clase ordenadas alfabéticamente.\n",
    "    f. Mostrar por pantalla el porcentaje de personas que sobrevivieron y murieron.\n",
    "    g. Mostrar por pantalla el porcentaje de personas que sobrevivieron en cada clase.\n",
    "    h. Eliminar del DataFrame los pasajeros con edad desconocida.\n",
    "    i. Mostrar por pantalla la edad media de las mujeres que viajaban en cada clase.\n",
    "    j. Añadir una nueva columna booleana para ver si el pasajero era menor de edad o no.\n",
    "    k. Mostrar por pantalla el porcentaje de menores y mayores de edad que sobrevivieron en cada clase."
   ]
  },
  {
   "cell_type": "code",
   "execution_count": 3,
   "id": "f2c50ae1",
   "metadata": {},
   "outputs": [
    {
     "name": "stdout",
     "output_type": "stream",
     "text": [
      "a)\n",
      " <class 'pandas.core.frame.DataFrame'>\n"
     ]
    }
   ],
   "source": [
    "import pandas as pd\n",
    "import numpy as np\n",
    "\n",
    "delimitador = \"\\n\" + \"-\" * 60 + \"\\n\"\n",
    "\n",
    "# A) Generar dataframe del archivo\n",
    "titanic = pd.read_csv(\"M3E4 - Titanic.csv\", encoding='latin-1')\n",
    "\n",
    "print(\"a)\\n\", type(titanic))"
   ]
  },
  {
   "cell_type": "code",
   "execution_count": 10,
   "id": "75d2926a",
   "metadata": {},
   "outputs": [
    {
     "name": "stdout",
     "output_type": "stream",
     "text": [
      "b) \n",
      "titanic tiene 10692 datos, distribuidos: \n",
      "PassengerId    891\n",
      "Survived       891\n",
      "Pclass         891\n",
      "Name           891\n",
      "Sex            891\n",
      "Age            714\n",
      "SibSp          891\n",
      "Parch          891\n",
      "Ticket         891\n",
      "Fare           891\n",
      "Cabin          204\n",
      "Embarked       889\n",
      "dtype: int64\n",
      "------------------------------------------------------------\n",
      "las filas de datos son: \n",
      "RangeIndex(start=0, stop=891, step=1)\n",
      "los tipos de datos son: \n",
      "PassengerId      int64\n",
      "Survived         int64\n",
      "Pclass           int64\n",
      "Name            object\n",
      "Sex             object\n",
      "Age            float64\n",
      "SibSp            int64\n",
      "Parch            int64\n",
      "Ticket          object\n",
      "Fare           float64\n",
      "Cabin           object\n",
      "Embarked        object\n",
      "dtype: object\n",
      "------------------------------------------------------------\n",
      "los primeros 10 datos son: \n",
      "   PassengerId  Survived  Pclass  \\\n",
      "0            1         0       3   \n",
      "1            2         1       1   \n",
      "2            3         1       3   \n",
      "3            4         1       1   \n",
      "4            5         0       3   \n",
      "5            6         0       3   \n",
      "6            7         0       1   \n",
      "7            8         0       3   \n",
      "8            9         1       3   \n",
      "9           10         1       2   \n",
      "\n",
      "                                                Name     Sex   Age  SibSp  \\\n",
      "0                            Braund, Mr. Owen Harris    male  22.0      1   \n",
      "1  Cumings, Mrs. John Bradley (Florence Briggs Th...  female  38.0      1   \n",
      "2                             Heikkinen, Miss. Laina  female  26.0      0   \n",
      "3       Futrelle, Mrs. Jacques Heath (Lily May Peel)  female  35.0      1   \n",
      "4                           Allen, Mr. William Henry    male  35.0      0   \n",
      "5                                   Moran, Mr. James    male   NaN      0   \n",
      "6                            McCarthy, Mr. Timothy J    male  54.0      0   \n",
      "7                     Palsson, Master. Gosta Leonard    male   2.0      3   \n",
      "8  Johnson, Mrs. Oscar W (Elisabeth Vilhelmina Berg)  female  27.0      0   \n",
      "9                Nasser, Mrs. Nicholas (Adele Achem)  female  14.0      1   \n",
      "\n",
      "   Parch            Ticket     Fare Cabin Embarked  \n",
      "0      0         A/5 21171   7.2500   NaN        S  \n",
      "1      0          PC 17599  71.2833   C85        C  \n",
      "2      0  STON/O2. 3101282   7.9250   NaN        S  \n",
      "3      0            113803  53.1000  C123        S  \n",
      "4      0            373450   8.0500   NaN        S  \n",
      "5      0            330877   8.4583   NaN        Q  \n",
      "6      0             17463  51.8625   E46        S  \n",
      "7      1            349909  21.0750   NaN        S  \n",
      "8      2            347742  11.1333   NaN        S  \n",
      "9      0            237736  30.0708   NaN        C  \n",
      "------------------------------------------------------------\n",
      "los ultimos 10 datos son: \n",
      "     PassengerId  Survived  Pclass                                      Name  \\\n",
      "881          882         0       3                        Markun, Mr. Johann   \n",
      "882          883         0       3              Dahlberg, Miss. Gerda Ulrika   \n",
      "883          884         0       2             Banfield, Mr. Frederick James   \n",
      "884          885         0       3                    Sutehall, Mr. Henry Jr   \n",
      "885          886         0       3      Rice, Mrs. William (Margaret Norton)   \n",
      "886          887         0       2                     Montvila, Rev. Juozas   \n",
      "887          888         1       1              Graham, Miss. Margaret Edith   \n",
      "888          889         0       3  Johnston, Miss. Catherine Helen \"Carrie\"   \n",
      "889          890         1       1                     Behr, Mr. Karl Howell   \n",
      "890          891         0       3                       Dooley, Mr. Patrick   \n",
      "\n",
      "        Sex   Age  SibSp  Parch            Ticket     Fare Cabin Embarked  \n",
      "881    male  33.0      0      0            349257   7.8958   NaN        S  \n",
      "882  female  22.0      0      0              7552  10.5167   NaN        S  \n",
      "883    male  28.0      0      0  C.A./SOTON 34068  10.5000   NaN        S  \n",
      "884    male  25.0      0      0   SOTON/OQ 392076   7.0500   NaN        S  \n",
      "885  female  39.0      0      5            382652  29.1250   NaN        Q  \n",
      "886    male  27.0      0      0            211536  13.0000   NaN        S  \n",
      "887  female  19.0      0      0            112053  30.0000   B42        S  \n",
      "888  female   NaN      1      2        W./C. 6607  23.4500   NaN        S  \n",
      "889    male  26.0      0      0            111369  30.0000  C148        C  \n",
      "890    male  32.0      0      0            370376   7.7500   NaN        Q  \n",
      "------------------------------------------------------------\n"
     ]
    }
   ],
   "source": [
    "# b)\n",
    "print(\"b) \\ntitanic tiene\", titanic.size, \"datos, distribuidos: \")\n",
    "print(titanic.count(), end= delimitador)\n",
    "\n",
    "print(\"las filas de datos son: \")\n",
    "print(titanic.index)\n",
    "\n",
    "print(\"los tipos de datos son: \")\n",
    "print(titanic.dtypes, end= delimitador)\n",
    "\n",
    "print(\"los primeros 10 datos son: \")\n",
    "print(titanic.head(10), end= delimitador)\n",
    "\n",
    "print(\"los ultimos 10 datos son: \")\n",
    "print(titanic.tail(10), end= delimitador)"
   ]
  },
  {
   "cell_type": "code",
   "execution_count": 11,
   "id": "eafb365f",
   "metadata": {},
   "outputs": [
    {
     "name": "stdout",
     "output_type": "stream",
     "text": [
      "c)\n",
      "PassengerId                                 148\n",
      "Survived                                      0\n",
      "Pclass                                        3\n",
      "Name           Ford, Miss. Robina Maggie \"Ruby\"\n",
      "Sex                                      female\n",
      "Age                                         9.0\n",
      "SibSp                                         2\n",
      "Parch                                         2\n",
      "Ticket                               W./C. 6608\n",
      "Fare                                     34.375\n",
      "Cabin                                       NaN\n",
      "Embarked                                      S\n",
      "Name: 147, dtype: object\n"
     ]
    }
   ],
   "source": [
    "# c)\n",
    "print(\"c)\")\n",
    "print(titanic.iloc[147])"
   ]
  },
  {
   "cell_type": "code",
   "execution_count": 12,
   "id": "67046bd6",
   "metadata": {},
   "outputs": [
    {
     "name": "stdout",
     "output_type": "stream",
     "text": [
      "d)\n",
      "     PassengerId  Survived  Pclass  \\\n",
      "0              1         0       3   \n",
      "2              3         1       3   \n",
      "4              5         0       3   \n",
      "6              7         0       1   \n",
      "8              9         1       3   \n",
      "..           ...       ...     ...   \n",
      "882          883         0       3   \n",
      "884          885         0       3   \n",
      "886          887         0       2   \n",
      "888          889         0       3   \n",
      "890          891         0       3   \n",
      "\n",
      "                                                  Name     Sex   Age  SibSp  \\\n",
      "0                              Braund, Mr. Owen Harris    male  22.0      1   \n",
      "2                               Heikkinen, Miss. Laina  female  26.0      0   \n",
      "4                             Allen, Mr. William Henry    male  35.0      0   \n",
      "6                              McCarthy, Mr. Timothy J    male  54.0      0   \n",
      "8    Johnson, Mrs. Oscar W (Elisabeth Vilhelmina Berg)  female  27.0      0   \n",
      "..                                                 ...     ...   ...    ...   \n",
      "882                       Dahlberg, Miss. Gerda Ulrika  female  22.0      0   \n",
      "884                             Sutehall, Mr. Henry Jr    male  25.0      0   \n",
      "886                              Montvila, Rev. Juozas    male  27.0      0   \n",
      "888           Johnston, Miss. Catherine Helen \"Carrie\"  female   NaN      1   \n",
      "890                                Dooley, Mr. Patrick    male  32.0      0   \n",
      "\n",
      "     Parch            Ticket     Fare Cabin Embarked  \n",
      "0        0         A/5 21171   7.2500   NaN        S  \n",
      "2        0  STON/O2. 3101282   7.9250   NaN        S  \n",
      "4        0            373450   8.0500   NaN        S  \n",
      "6        0             17463  51.8625   E46        S  \n",
      "8        2            347742  11.1333   NaN        S  \n",
      "..     ...               ...      ...   ...      ...  \n",
      "882      0              7552  10.5167   NaN        S  \n",
      "884      0   SOTON/OQ 392076   7.0500   NaN        S  \n",
      "886      0            211536  13.0000   NaN        S  \n",
      "888      2        W./C. 6607  23.4500   NaN        S  \n",
      "890      0            370376   7.7500   NaN        Q  \n",
      "\n",
      "[446 rows x 12 columns]\n"
     ]
    }
   ],
   "source": [
    "#  d)\n",
    "print(\"d)\")\n",
    "condicionD = titanic.index % 2 == 0\n",
    "\n",
    "print(titanic[condicionD])"
   ]
  },
  {
   "cell_type": "code",
   "execution_count": 13,
   "id": "24787629",
   "metadata": {},
   "outputs": [
    {
     "name": "stdout",
     "output_type": "stream",
     "text": [
      "e)\n",
      "     PassengerId  Survived  Pclass  \\\n",
      "730          731         1       1   \n",
      "305          306         1       1   \n",
      "297          298         0       1   \n",
      "498          499         0       1   \n",
      "460          461         1       1   \n",
      "..           ...       ...     ...   \n",
      "155          156         0       1   \n",
      "351          352         0       1   \n",
      "55            56         1       1   \n",
      "555          556         0       1   \n",
      "325          326         1       1   \n",
      "\n",
      "                                                Name     Sex    Age  SibSp  \\\n",
      "730                    Allen, Miss. Elisabeth Walton  female  29.00      0   \n",
      "305                   Allison, Master. Hudson Trevor    male   0.92      1   \n",
      "297                     Allison, Miss. Helen Loraine  female   2.00      1   \n",
      "498  Allison, Mrs. Hudson J C (Bessie Waldo Daniels)  female  25.00      1   \n",
      "460                              Anderson, Mr. Harry    male  48.00      0   \n",
      "..                                               ...     ...    ...    ...   \n",
      "155                      Williams, Mr. Charles Duane    male  51.00      0   \n",
      "351           Williams-Lambert, Mr. Fletcher Fellows    male    NaN      0   \n",
      "55                                 Woolner, Mr. Hugh    male    NaN      0   \n",
      "555                               Wright, Mr. George    male  62.00      0   \n",
      "325                         Young, Miss. Marie Grice  female  36.00      0   \n",
      "\n",
      "     Parch    Ticket      Fare    Cabin Embarked  \n",
      "730      0     24160  211.3375       B5        S  \n",
      "305      2    113781  151.5500  C22 C26        S  \n",
      "297      2    113781  151.5500  C22 C26        S  \n",
      "498      2    113781  151.5500  C22 C26        S  \n",
      "460      0     19952   26.5500      E12        S  \n",
      "..     ...       ...       ...      ...      ...  \n",
      "155      1  PC 17597   61.3792      NaN        C  \n",
      "351      0    113510   35.0000     C128        S  \n",
      "55       0     19947   35.5000      C52        S  \n",
      "555      0    113807   26.5500      NaN        S  \n",
      "325      0  PC 17760  135.6333      C32        C  \n",
      "\n",
      "[216 rows x 12 columns]\n"
     ]
    }
   ],
   "source": [
    "# e)\n",
    "print(\"e)\")\n",
    "condicionE = titanic[\"Pclass\"] == 1\n",
    "print(titanic[condicionE].sort_values(by=\"Name\"))"
   ]
  },
  {
   "cell_type": "code",
   "execution_count": 12,
   "id": "9f1dc9e9",
   "metadata": {},
   "outputs": [
    {
     "name": "stdout",
     "output_type": "stream",
     "text": [
      "f) \n",
      "Sobrevivieron % 38.384 y murieron % 61.62 delos pasajeros\n"
     ]
    }
   ],
   "source": [
    "# f)\n",
    "porcentajevivos = titanic[\"Survived\"].sum() / titanic[\"PassengerId\"].count()*100\n",
    "\n",
    "print(\"f) \\nSobrevivieron %\", '%.3f'%(porcentajevivos), \"y murieron %\", '%.2f'%(100 -porcentajevivos), \"delos pasajeros\")"
   ]
  },
  {
   "cell_type": "code",
   "execution_count": 11,
   "id": "6ec748f0",
   "metadata": {},
   "outputs": [
    {
     "name": "stdout",
     "output_type": "stream",
     "text": [
      "g)\n",
      "Sobrevivieron % 62.96 y murieron % 37.04 delos pasajeros de la clase 1\n",
      "Sobrevivieron % 47.28 y murieron % 52.72 delos pasajeros de la clase 2\n",
      "Sobrevivieron % 24.24 y murieron % 75.76 delos pasajeros de la clase 3\n"
     ]
    }
   ],
   "source": [
    "# g)\n",
    "print(\"g)\")\n",
    "for clase in range(1,4):\n",
    "    porcentajeVivosClase = (titanic[titanic[\"Pclass\"] ==  clase][\"Survived\"].sum() / \n",
    "                            titanic[titanic[\"Pclass\"] ==  clase][\"PassengerId\"].count()*100)\n",
    "    print(\"Sobrevivieron %\", '%.2f'%(porcentajeVivosClase), \n",
    "          \"y murieron %\", '%.2f'%(100 -porcentajeVivosClase), \n",
    "          \"delos pasajeros de la clase\", clase)\n"
   ]
  },
  {
   "cell_type": "code",
   "execution_count": 16,
   "id": "37014e4d",
   "metadata": {},
   "outputs": [
    {
     "name": "stdout",
     "output_type": "stream",
     "text": [
      "g)\n",
      "     PassengerId  Survived  Pclass  \\\n",
      "0              1         0       3   \n",
      "1              2         1       1   \n",
      "2              3         1       3   \n",
      "3              4         1       1   \n",
      "4              5         0       3   \n",
      "..           ...       ...     ...   \n",
      "885          886         0       3   \n",
      "886          887         0       2   \n",
      "887          888         1       1   \n",
      "889          890         1       1   \n",
      "890          891         0       3   \n",
      "\n",
      "                                                  Name     Sex   Age  SibSp  \\\n",
      "0                              Braund, Mr. Owen Harris    male  22.0      1   \n",
      "1    Cumings, Mrs. John Bradley (Florence Briggs Th...  female  38.0      1   \n",
      "2                               Heikkinen, Miss. Laina  female  26.0      0   \n",
      "3         Futrelle, Mrs. Jacques Heath (Lily May Peel)  female  35.0      1   \n",
      "4                             Allen, Mr. William Henry    male  35.0      0   \n",
      "..                                                 ...     ...   ...    ...   \n",
      "885               Rice, Mrs. William (Margaret Norton)  female  39.0      0   \n",
      "886                              Montvila, Rev. Juozas    male  27.0      0   \n",
      "887                       Graham, Miss. Margaret Edith  female  19.0      0   \n",
      "889                              Behr, Mr. Karl Howell    male  26.0      0   \n",
      "890                                Dooley, Mr. Patrick    male  32.0      0   \n",
      "\n",
      "     Parch            Ticket     Fare Cabin Embarked  \n",
      "0        0         A/5 21171   7.2500   NaN        S  \n",
      "1        0          PC 17599  71.2833   C85        C  \n",
      "2        0  STON/O2. 3101282   7.9250   NaN        S  \n",
      "3        0            113803  53.1000  C123        S  \n",
      "4        0            373450   8.0500   NaN        S  \n",
      "..     ...               ...      ...   ...      ...  \n",
      "885      5            382652  29.1250   NaN        Q  \n",
      "886      0            211536  13.0000   NaN        S  \n",
      "887      0            112053  30.0000   B42        S  \n",
      "889      0            111369  30.0000  C148        C  \n",
      "890      0            370376   7.7500   NaN        Q  \n",
      "\n",
      "[714 rows x 12 columns]\n"
     ]
    }
   ],
   "source": [
    "# g)\n",
    "print(\"g)\")\n",
    "\n",
    "print(titanic[-titanic[\"Age\"].isna()])"
   ]
  },
  {
   "cell_type": "code",
   "execution_count": 10,
   "id": "39608488",
   "metadata": {},
   "outputs": [
    {
     "name": "stdout",
     "output_type": "stream",
     "text": [
      "i)\n",
      "la edad media de las mujeres en °1 clase es % 34.61 años\n",
      "la edad media de las mujeres en °2 clase es % 28.72 años\n",
      "la edad media de las mujeres en °3 clase es % 21.75 años\n"
     ]
    }
   ],
   "source": [
    "# i)\n",
    "print(\"i)\")\n",
    "for clase in range(1,4):\n",
    "    condicionI = (titanic[\"Sex\"] == \"female\") & (titanic[\"Pclass\"] == clase)\n",
    "    print(f\"la edad media de las mujeres en °{clase} clase es % \", end=\"\")\n",
    "\n",
    "    print('%.2f'%(titanic[condicionI][\"Age\"].mean()), \"años\")"
   ]
  },
  {
   "cell_type": "code",
   "execution_count": 4,
   "id": "39d58e7f",
   "metadata": {},
   "outputs": [
    {
     "name": "stdout",
     "output_type": "stream",
     "text": [
      "j) Suponiendo que la mayoria de edad es al cumplir 18 años, se tendria:\n",
      "     PassengerId  Survived  Pclass  \\\n",
      "0              1         0       3   \n",
      "1              2         1       1   \n",
      "2              3         1       3   \n",
      "3              4         1       1   \n",
      "4              5         0       3   \n",
      "..           ...       ...     ...   \n",
      "886          887         0       2   \n",
      "887          888         1       1   \n",
      "888          889         0       3   \n",
      "889          890         1       1   \n",
      "890          891         0       3   \n",
      "\n",
      "                                                  Name     Sex   Age  SibSp  \\\n",
      "0                              Braund, Mr. Owen Harris    male  22.0      1   \n",
      "1    Cumings, Mrs. John Bradley (Florence Briggs Th...  female  38.0      1   \n",
      "2                               Heikkinen, Miss. Laina  female  26.0      0   \n",
      "3         Futrelle, Mrs. Jacques Heath (Lily May Peel)  female  35.0      1   \n",
      "4                             Allen, Mr. William Henry    male  35.0      0   \n",
      "..                                                 ...     ...   ...    ...   \n",
      "886                              Montvila, Rev. Juozas    male  27.0      0   \n",
      "887                       Graham, Miss. Margaret Edith  female  19.0      0   \n",
      "888           Johnston, Miss. Catherine Helen \"Carrie\"  female   NaN      1   \n",
      "889                              Behr, Mr. Karl Howell    male  26.0      0   \n",
      "890                                Dooley, Mr. Patrick    male  32.0      0   \n",
      "\n",
      "     Parch            Ticket     Fare Cabin Embarked  Menor de edad  \n",
      "0        0         A/5 21171   7.2500   NaN        S          False  \n",
      "1        0          PC 17599  71.2833   C85        C          False  \n",
      "2        0  STON/O2. 3101282   7.9250   NaN        S          False  \n",
      "3        0            113803  53.1000  C123        S          False  \n",
      "4        0            373450   8.0500   NaN        S          False  \n",
      "..     ...               ...      ...   ...      ...            ...  \n",
      "886      0            211536  13.0000   NaN        S          False  \n",
      "887      0            112053  30.0000   B42        S          False  \n",
      "888      2        W./C. 6607  23.4500   NaN        S          False  \n",
      "889      0            111369  30.0000  C148        C          False  \n",
      "890      0            370376   7.7500   NaN        Q          False  \n",
      "\n",
      "[891 rows x 13 columns]\n"
     ]
    }
   ],
   "source": [
    "# j)\n",
    "\n",
    "print(\"j) Suponiendo que la mayoria de edad es al cumplir 18 años, se tendria:\")\n",
    "titanic[\"Menor de edad\"] = titanic[\"Age\"] < 18\n",
    "print(titanic)"
   ]
  },
  {
   "cell_type": "code",
   "execution_count": 7,
   "id": "d1f526df",
   "metadata": {},
   "outputs": [
    {
     "name": "stdout",
     "output_type": "stream",
     "text": [
      "k)\n",
      "El porcentaje de menores que sobrevivio en °1 clase es % 91.67\n",
      "El porcentaje de adultos que sobrevivio en °1 clase es % 61.27\n",
      "------------------------------------------------------------\n",
      "El porcentaje de menores que sobrevivio en °2 clase es % 91.30\n",
      "El porcentaje de adultos que sobrevivio en °2 clase es % 40.99\n",
      "------------------------------------------------------------\n",
      "El porcentaje de menores que sobrevivio en °3 clase es % 37.18\n",
      "El porcentaje de adultos que sobrevivio en °3 clase es % 21.79\n",
      "------------------------------------------------------------\n"
     ]
    }
   ],
   "source": [
    "# k)\n",
    "print(\"k)\")\n",
    "for clase in range(1,4):\n",
    "    condicionKMenores = (titanic[\"Menor de edad\"] == True) & (titanic[\"Pclass\"] == clase)\n",
    "    procentajeMenores = (titanic[condicionKMenores][\"Survived\"].sum() / \n",
    "                         titanic[condicionKMenores][\"PassengerId\"].count() * 100)\n",
    "    \n",
    "    print(f\"El porcentaje de menores que sobrevivio en °{clase} clase es % {'%.2f'%(procentajeMenores)}\")\n",
    "    \n",
    "    condicionKAdultos = (titanic[\"Menor de edad\"] == False) & (titanic[\"Pclass\"] == clase)\n",
    "    procentajeAdultos = (titanic[condicionKAdultos][\"Survived\"].sum() / \n",
    "                         titanic[condicionKAdultos][\"PassengerId\"].count() * 100)\n",
    "    \n",
    "    print(f\"El porcentaje de adultos que sobrevivio en °{clase} clase es % {'%.2f'%(procentajeAdultos)}\", end=delimitador)\n"
   ]
  }
 ],
 "metadata": {
  "kernelspec": {
   "display_name": "Python 3 (ipykernel)",
   "language": "python",
   "name": "python3"
  },
  "language_info": {
   "codemirror_mode": {
    "name": "ipython",
    "version": 3
   },
   "file_extension": ".py",
   "mimetype": "text/x-python",
   "name": "python",
   "nbconvert_exporter": "python",
   "pygments_lexer": "ipython3",
   "version": "3.11.5"
  }
 },
 "nbformat": 4,
 "nbformat_minor": 5
}
