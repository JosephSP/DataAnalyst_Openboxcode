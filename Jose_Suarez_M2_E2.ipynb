{
 "cells": [
  {
   "cell_type": "markdown",
   "id": "8f9c94c7",
   "metadata": {},
   "source": [
    "# Modulo 2 Ejercicio 2\n",
    "## Alumno: Jose Suarez"
   ]
  },
  {
   "cell_type": "markdown",
   "id": "460e4911",
   "metadata": {},
   "source": [
    "### 1. Crear un programa que ingrese un número entero positivo, y el sistema le responda si ese número es par o impar"
   ]
  },
  {
   "cell_type": "code",
   "execution_count": 6,
   "id": "1a35e9b2",
   "metadata": {},
   "outputs": [
    {
     "name": "stdout",
     "output_type": "stream",
     "text": [
      "Ingrese un Numero entero y le dire si es par: 9\n",
      "ingreso un numero impar\n"
     ]
    }
   ],
   "source": [
    "Num1 = int(input(\"Ingrese un Numero entero y le dire si es par: \"))\n",
    "\n",
    "if Num1%2 == 0:\n",
    "    print(\"ingreso un numero par\")\n",
    "else:\n",
    "    print(\"ingreso un numero impar\")"
   ]
  },
  {
   "cell_type": "markdown",
   "id": "3f426d90",
   "metadata": {},
   "source": [
    "### 2. Crear un algoritmo que ingrese dos números y una operación matemática (básica), y el sistema le responda el resultado de esa operación."
   ]
  },
  {
   "cell_type": "code",
   "execution_count": 8,
   "id": "05791d1f",
   "metadata": {},
   "outputs": [
    {
     "name": "stdout",
     "output_type": "stream",
     "text": [
      "Yo sumo numeros enteros, deme 2 numero para sumar\n",
      "Ingrese primer numero 5\n",
      "Ingrese segundo numero 3\n",
      "la suma de los numeros 5 y 3 sera igual a 8\n"
     ]
    }
   ],
   "source": [
    "print(\"Yo sumo numeros enteros, deme 2 numero para sumar\")\n",
    "\n",
    "Num2 = int(input(\"Ingrese primer numero \"))\n",
    "Num3 = int(input(\"Ingrese segundo numero \"))\n",
    "\n",
    "print(f\"la suma de los numeros {Num2} y {Num3} sera igual a {Num2 + Num3}\")"
   ]
  },
  {
   "cell_type": "markdown",
   "id": "e8faaadf",
   "metadata": {},
   "source": [
    "### 3. Crear un programa que lea un número entero positivo mayor a 1 y se muestren todos los enteros desde 1 hasta el número ingresado."
   ]
  },
  {
   "cell_type": "code",
   "execution_count": 12,
   "id": "caec386c",
   "metadata": {},
   "outputs": [
    {
     "name": "stdout",
     "output_type": "stream",
     "text": [
      "Ingrese un Numero entero positivo, yo le dire todos los enteros antes de su numero: 9\n",
      "1, 2, 3, 4, 5, 6, 7, 8, \n"
     ]
    }
   ],
   "source": [
    "Num4 = int(input(\"Ingrese un Numero entero positivo, yo le dire todos los enteros antes de su numero: \"))\n",
    "\n",
    "for i in range(Num4-1):\n",
    "    print(f\"{i+1}\", end=\", \")\n",
    "print(\"\")"
   ]
  },
  {
   "cell_type": "markdown",
   "id": "98bf2839",
   "metadata": {},
   "source": [
    "### 4. Crear un algoritmo que lea un número entero positivo, y responda si ese número es primo o no.\n",
    "### 5. Modifique el algoritmo anterior, para mostrar los divisores del número en caso de que NO sea primo."
   ]
  },
  {
   "cell_type": "code",
   "execution_count": 2,
   "id": "bf27481c",
   "metadata": {},
   "outputs": [
    {
     "name": "stdout",
     "output_type": "stream",
     "text": [
      "Ingrese un Numero entero positivo, yo le dire si es primo o no: 6\n",
      "No es primo, es divisible por 2, 3, \n"
     ]
    }
   ],
   "source": [
    "Num4 = int(input(\"Ingrese un Numero entero positivo, yo le dire si es primo o no: \"))\n",
    "\n",
    "EsFamilia = False\n",
    "primos = \"\"\n",
    "\n",
    "for n in range(2, Num4):\n",
    "    if Num4 % n == 0:\n",
    "        primos += str(n) + \", \"\n",
    "        EsFamilia = True\n",
    "\n",
    "if EsFamilia:\n",
    "    print(\"No es primo, es divisible por \" + primos)\n",
    "else:\n",
    "    print(\"Es primo\")\n"
   ]
  },
  {
   "cell_type": "markdown",
   "id": "db1de9c6",
   "metadata": {},
   "source": [
    "### 6. Modifique el algoritmo de la pregunta 1 para que la lectura del número sea indefinida, hasta que el usuario ingrese un 0."
   ]
  },
  {
   "cell_type": "code",
   "execution_count": 10,
   "id": "84265c0c",
   "metadata": {},
   "outputs": [
    {
     "name": "stdout",
     "output_type": "stream",
     "text": [
      "Ingrese un Numero entero y le dire si es par: 5\n",
      "ingreso un numero impar\n",
      "Ingrese un Numero entero y le dire si es par: 6\n",
      "ingreso un numero par\n",
      "Ingrese un Numero entero y le dire si es par: 9\n",
      "ingreso un numero impar\n",
      "Ingrese un Numero entero y le dire si es par: 80\n",
      "ingreso un numero par\n",
      "Ingrese un Numero entero y le dire si es par: 81\n",
      "ingreso un numero impar\n",
      "Ingrese un Numero entero y le dire si es par: 1\n",
      "ingreso un numero impar\n",
      "Ingrese un Numero entero y le dire si es par: 0\n",
      "Ingreso 0, con eso dejo de trabajar\n"
     ]
    }
   ],
   "source": [
    "while True:\n",
    "    Num5 = int(input(\"Ingrese un Numero entero y le dire si es par: \"))\n",
    "    if Num5 == 0:\n",
    "        break\n",
    "    if Num5%2 == 0:\n",
    "        print(\"ingreso un numero par\")\n",
    "    else:\n",
    "        print(\"ingreso un numero impar\")\n",
    "print(\"Ingreso 0, con eso dejo de trabajar.\")"
   ]
  },
  {
   "cell_type": "markdown",
   "id": "0ec840ff",
   "metadata": {},
   "source": [
    "### 7. Crear un algoritmo que lea 10 número, y entregue el promedio de estos números."
   ]
  },
  {
   "cell_type": "code",
   "execution_count": 14,
   "id": "d38a480c",
   "metadata": {},
   "outputs": [
    {
     "name": "stdout",
     "output_type": "stream",
     "text": [
      "ingrese el numero 1: 50\n",
      "ingrese el numero 2: 60\n",
      "ingrese el numero 3: 90\n",
      "ingrese el numero 4: 10\n",
      "ingrese el numero 5: 55\n",
      "ingrese el numero 6: 300\n",
      "ingrese el numero 7: 2\n",
      "ingrese el numero 8: 9\n",
      "ingrese el numero 9: 10000000\n",
      "ingrese el numero 10: 30\n",
      "El promedio de los numeros ingresados es 1000060\n"
     ]
    }
   ],
   "source": [
    "count = 0\n",
    "listaNum = []\n",
    "while count < 10:\n",
    "    listaNum.append(int(input(f\"ingrese el numero {count+1}: \")))\n",
    "    count += 1\n",
    "    \n",
    "sumatorianum = 0\n",
    "for num in listaNum:\n",
    "    sumatorianum += num\n",
    "\n",
    "print(f\"El promedio de los numeros ingresados es {sumatorianum // 10}\")\n"
   ]
  },
  {
   "cell_type": "markdown",
   "id": "e92c78d5",
   "metadata": {},
   "source": [
    "### 8. Modificar el algoritmo anterior para que la cantidad de números sea indefinida, y se termine la lectura cuando el usuario ingrese un 0."
   ]
  },
  {
   "cell_type": "code",
   "execution_count": 18,
   "id": "0e758bec",
   "metadata": {},
   "outputs": [
    {
     "name": "stdout",
     "output_type": "stream",
     "text": [
      "(0 para salir)ingrese el numero 1: 0\n"
     ]
    },
    {
     "ename": "ZeroDivisionError",
     "evalue": "integer division or modulo by zero",
     "output_type": "error",
     "traceback": [
      "\u001b[1;31m---------------------------------------------------------------------------\u001b[0m",
      "\u001b[1;31mZeroDivisionError\u001b[0m                         Traceback (most recent call last)",
      "Cell \u001b[1;32mIn[18], line 15\u001b[0m\n\u001b[0;32m     12\u001b[0m \u001b[38;5;28;01mfor\u001b[39;00m num \u001b[38;5;129;01min\u001b[39;00m listaNum:\n\u001b[0;32m     13\u001b[0m     sumatorianum \u001b[38;5;241m+\u001b[39m\u001b[38;5;241m=\u001b[39m num\n\u001b[1;32m---> 15\u001b[0m \u001b[38;5;28mprint\u001b[39m(\u001b[38;5;124mf\u001b[39m\u001b[38;5;124m\"\u001b[39m\u001b[38;5;124mEl promedio de los numeros ingresados es \u001b[39m\u001b[38;5;132;01m{\u001b[39;00msumatorianum\u001b[38;5;250m \u001b[39m\u001b[38;5;241m/\u001b[39m\u001b[38;5;241m/\u001b[39m\u001b[38;5;250m \u001b[39mcount\u001b[38;5;132;01m}\u001b[39;00m\u001b[38;5;124m\"\u001b[39m)\n",
      "\u001b[1;31mZeroDivisionError\u001b[0m: integer division or modulo by zero"
     ]
    }
   ],
   "source": [
    "count = 0\n",
    "listaNum = []\n",
    "exitcriteria = False\n",
    "while not exitcriteria:\n",
    "    inputnum = int(input(f\"(0 para salir)ingrese el numero {count+1}: \"))\n",
    "    if inputnum == 0:\n",
    "        break\n",
    "    listaNum.append(inputnum)\n",
    "    count += 1\n",
    "    \n",
    "sumatorianum = 0\n",
    "for num in listaNum:\n",
    "    sumatorianum += num\n",
    "\n",
    "print(f\"El promedio de los numeros ingresados es {sumatorianum // count}\")\n"
   ]
  },
  {
   "cell_type": "markdown",
   "id": "b2b30c74",
   "metadata": {},
   "source": [
    "### 9. Crear un programa dibuje un rectángulo con el símbolo “*”. La anchura y altura deben ser indicadas por el usuario."
   ]
  },
  {
   "cell_type": "code",
   "execution_count": 23,
   "id": "e674af06",
   "metadata": {},
   "outputs": [
    {
     "name": "stdout",
     "output_type": "stream",
     "text": [
      "Yo te dibujo un rectangulo de estrellitas\n",
      "ingrese altura: 5\n",
      "ingrese ancho: 30\n",
      "* * * * * * * * * * * * * * * * * * * * * * * * * * * * * * \n",
      "* * * * * * * * * * * * * * * * * * * * * * * * * * * * * * \n",
      "* * * * * * * * * * * * * * * * * * * * * * * * * * * * * * \n",
      "* * * * * * * * * * * * * * * * * * * * * * * * * * * * * * \n",
      "* * * * * * * * * * * * * * * * * * * * * * * * * * * * * * \n"
     ]
    }
   ],
   "source": [
    "print(\"Yo te dibujo un rectangulo de estrellitas\")\n",
    "altura = int(input(\"ingrese altura: \"))\n",
    "ancho = int(input(\"ingrese ancho: \"))\n",
    "\n",
    "for y in range(altura):\n",
    "    for x in range(ancho):\n",
    "        print(\"*\", end=\" \")\n",
    "    print(\"\")\n",
    "\n"
   ]
  },
  {
   "cell_type": "markdown",
   "id": "1b73567c",
   "metadata": {},
   "source": [
    "### 10. Crear un programa que lea la entrada de un número entero positivo y devuelva el valor del número factorial.\n",
    "Un número factorial se define por:\n",
    "\n",
    "n! = n*(n-1)*(n-2)*(n-3)……3*2*1\n",
    "\n",
    "por ejemplo:\n",
    "5! = 5*4*3*2*1 = 120"
   ]
  },
  {
   "cell_type": "code",
   "execution_count": 27,
   "id": "14e6122f",
   "metadata": {},
   "outputs": [
    {
     "name": "stdout",
     "output_type": "stream",
     "text": [
      "Ingrese numero para hacer operacion factorial: 10\n",
      "El resultado de su factorial es 3628800\n"
     ]
    }
   ],
   "source": [
    "numfact = int(input(\"Ingrese numero para hacer operacion factorial: \"))\n",
    "def factorial(n):\n",
    "    if n == 0:\n",
    "        return 1\n",
    "    else:\n",
    "        return n * factorial(n-1)\n",
    "print(f\"El resultado de su factorial es {factorial(numfact)}\")"
   ]
  },
  {
   "cell_type": "markdown",
   "id": "0fda5214",
   "metadata": {},
   "source": [
    "### 11. Crea un programa que muestre la tabla de multiplicar de un número específico (por ejemplo, el 7)."
   ]
  },
  {
   "cell_type": "code",
   "execution_count": 29,
   "id": "9eb8dba5",
   "metadata": {},
   "outputs": [
    {
     "name": "stdout",
     "output_type": "stream",
     "text": [
      "Ingrese numero para mostrar la tabla de multiplicar hasta el 10: 10\n",
      "10 x 1 = 10\n",
      "10 x 2 = 20\n",
      "10 x 3 = 30\n",
      "10 x 4 = 40\n",
      "10 x 5 = 50\n",
      "10 x 6 = 60\n",
      "10 x 7 = 70\n",
      "10 x 8 = 80\n",
      "10 x 9 = 90\n",
      "10 x 10 = 100\n"
     ]
    }
   ],
   "source": [
    "numtabla = int(input(\"Ingrese numero para mostrar la tabla de multiplicar hasta el 10: \"))\n",
    "\n",
    "for i in range(10):\n",
    "    print(f\"{numtabla} x {i+1} = {numtabla * (i+1)}\")\n"
   ]
  }
 ],
 "metadata": {
  "kernelspec": {
   "display_name": "Python 3 (ipykernel)",
   "language": "python",
   "name": "python3"
  },
  "language_info": {
   "codemirror_mode": {
    "name": "ipython",
    "version": 3
   },
   "file_extension": ".py",
   "mimetype": "text/x-python",
   "name": "python",
   "nbconvert_exporter": "python",
   "pygments_lexer": "ipython3",
   "version": "3.11.5"
  }
 },
 "nbformat": 4,
 "nbformat_minor": 5
}
