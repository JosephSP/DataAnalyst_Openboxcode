{
 "cells": [
  {
   "cell_type": "markdown",
   "id": "609e1ab8",
   "metadata": {},
   "source": [
    "# Modulo 2: Ejercicio 3\n",
    "## Alumno: Jose Suarez"
   ]
  },
  {
   "cell_type": "markdown",
   "id": "b1da16b5",
   "metadata": {},
   "source": [
    "### 1. Escribe una función llamada cuadrado que tome un número como argumento y devuelva su cuadrado."
   ]
  },
  {
   "cell_type": "code",
   "execution_count": 1,
   "id": "801ca192",
   "metadata": {},
   "outputs": [
    {
     "name": "stdout",
     "output_type": "stream",
     "text": [
      "Dame un numero y te dare su cuagrado: 9\n",
      "El cuadrado de 9 es 81\n"
     ]
    }
   ],
   "source": [
    "def cuadrado(num):\n",
    "    return num * num\n",
    "\n",
    "num = int(input(\"Dame un numero y te dare su cuagrado: \"))\n",
    "\n",
    "print(f\"El cuadrado de {num} es {cuadrado(num)}\")"
   ]
  },
  {
   "cell_type": "markdown",
   "id": "dbe5a458",
   "metadata": {},
   "source": [
    "### 2. Crear una función llamada factorial, que implemente la función factorial descrita en la actividad anterior."
   ]
  },
  {
   "cell_type": "code",
   "execution_count": 2,
   "id": "83b382b0",
   "metadata": {},
   "outputs": [
    {
     "name": "stdout",
     "output_type": "stream",
     "text": [
      "Ingrese numero para hacer operacion factorial: 20\n",
      "El resultado de su factorial es 2432902008176640000\n"
     ]
    }
   ],
   "source": [
    "numfact = int(input(\"Ingrese numero para hacer operacion factorial: \"))\n",
    "def factorial(n):\n",
    "    if n == 0:\n",
    "        return 1\n",
    "    else:\n",
    "        return n * factorial(n-1)\n",
    "print(f\"El resultado de su factorial es {factorial(numfact)}\")"
   ]
  },
  {
   "cell_type": "markdown",
   "id": "2192f4c0",
   "metadata": {},
   "source": [
    "### 3. Utiliza el módulo math para calcular el área de un círculo. Crea una función area_circulo que tome el radio como argumento y devuelva el área."
   ]
  },
  {
   "cell_type": "code",
   "execution_count": 3,
   "id": "e9881b16",
   "metadata": {},
   "outputs": [
    {
     "name": "stdout",
     "output_type": "stream",
     "text": [
      "Ingrese el radio del circulo: 5\n",
      "Area del circulo radio 5 es 78.53981633974483\n"
     ]
    }
   ],
   "source": [
    "import math\n",
    "\n",
    "def area_circulo(radio):\n",
    "    return radio * radio * math.pi\n",
    "\n",
    "radio = int(input(\"Ingrese el radio del circulo: \"))\n",
    "\n",
    "print(f\"Area del circulo radio {radio} es {area_circulo(radio)}\")"
   ]
  },
  {
   "cell_type": "markdown",
   "id": "3fe82306",
   "metadata": {},
   "source": [
    "### 4. Escriba una función llamada bisiestos, que pida dos años y escriba cuántos años bisiestos hay entre esas dos fechas"
   ]
  },
  {
   "cell_type": "code",
   "execution_count": 8,
   "id": "1903e3be",
   "metadata": {},
   "outputs": [
    {
     "name": "stdout",
     "output_type": "stream",
     "text": [
      "indiqueme 2 años y le indicare cuantos años bisiestos hay entre esas fechas\n",
      "Ingrese fecha mas antigua: 0\n",
      "ingrese fecha mas reciente: 2024\n",
      "Entre 0 y 2024 hay 491 años bisiestos\n"
     ]
    }
   ],
   "source": [
    "from calendar import isleap\n",
    "\n",
    "def bisiestos(año1, año2):\n",
    "    contador = 0\n",
    "    for año in range(año1, año2):\n",
    "        if isleap(año):\n",
    "            contador += 1\n",
    "    return contador\n",
    "\n",
    "print(\"indiqueme 2 años y le indicare cuantos años bisiestos hay entre esas fechas\")\n",
    "\n",
    "año1 = int(input(\"Ingrese fecha mas antigua: \"))\n",
    "año2 = int(input(\"ingrese fecha mas reciente: \"))\n",
    "\n",
    "print(f\"Entre {año1} y {año2} hay {bisiestos(año1, año2)} años bisiestos\")\n"
   ]
  },
  {
   "cell_type": "markdown",
   "id": "028934b2",
   "metadata": {},
   "source": [
    "### 5. Escribe una función llamada sumatoria que calcule la suma de todos los números desde 1 hasta un número dado."
   ]
  },
  {
   "cell_type": "code",
   "execution_count": 2,
   "id": "d50325be",
   "metadata": {},
   "outputs": [
    {
     "name": "stdout",
     "output_type": "stream",
     "text": [
      "Indiqueme un numero y hare una sumatoria de todos los anteriore:5\n",
      "El resultado de la suma para el numero 5 es 15\n"
     ]
    }
   ],
   "source": [
    "def sumatoria(numero):\n",
    "    suma = 0\n",
    "    for num in range(1, numero - 1):\n",
    "        suma += numero\n",
    "    return suma\n",
    "\n",
    "numero = int(input(\"Indiqueme un numero y hare una sumatoria de todos los anteriore:\"))\n",
    "\n",
    "print(f\"El resultado de la suma para el numero {numero} es {sumatoria(numero)}\")"
   ]
  },
  {
   "cell_type": "markdown",
   "id": "adb067a6",
   "metadata": {},
   "source": [
    "### 6. Escriba una función que reciba como parámetro un número entero positivo y entregue como resultado todos los divisores de ese número."
   ]
  },
  {
   "cell_type": "code",
   "execution_count": 24,
   "id": "1a041156",
   "metadata": {},
   "outputs": [
    {
     "name": "stdout",
     "output_type": "stream",
     "text": [
      "Indique el numero que requiere ver sus divisores: 27\n",
      "Los divisores de 27 son [3, 9]\n"
     ]
    }
   ],
   "source": [
    "def Divisores(numero):\n",
    "    divList = []\n",
    "    for n in range(2, numero):\n",
    "        if numero % n == 0:\n",
    "            divList.append(n)\n",
    "    return divList\n",
    "\n",
    "numero = int(input(\"Indique el numero que requiere ver sus divisores: \"))\n",
    "divList = Divisores(numero)\n",
    "if divList == []:\n",
    "    print(f\"{numero} no tiene divisores\")\n",
    "else:\n",
    "    print(f\"Los divisores de {numero} son {divList}\")\n",
    "    "
   ]
  },
  {
   "cell_type": "markdown",
   "id": "b0ff8e60",
   "metadata": {},
   "source": [
    "### 7. Escriba una función llamada promedio, que reciba una lista de números y calcule el promedio."
   ]
  },
  {
   "cell_type": "code",
   "execution_count": 23,
   "id": "c1f6c3ed",
   "metadata": {},
   "outputs": [
    {
     "name": "stdout",
     "output_type": "stream",
     "text": [
      "el promedio de los numeros [10, 50, 30, 85, 66, 3067, 10] es 474.0\n"
     ]
    }
   ],
   "source": [
    "def promedio(numList):\n",
    "    suma = 0\n",
    "    for num in numList:\n",
    "        suma += num\n",
    "    return suma / len(numList)\n",
    "\n",
    "numList = [10, 50, 30, 85, 66, 3067, 10]\n",
    "print(f\"el promedio de los numeros {numList} es {promedio(numList)}\")"
   ]
  },
  {
   "cell_type": "markdown",
   "id": "394711e1",
   "metadata": {},
   "source": [
    "### 8. Crea un archivo llamado operaciones.py con una función multiplicacion que tome dos números como argumentos y devuelva su producto. Luego, importa este módulo y usa la función en tu programa principal."
   ]
  },
  {
   "cell_type": "code",
   "execution_count": 31,
   "id": "0c73e531",
   "metadata": {},
   "outputs": [
    {
     "name": "stdout",
     "output_type": "stream",
     "text": [
      "Ingrese el primer numero para multiplicar: 5\n",
      "Ingrese el segundo numero para multiplicar: 4\n",
      "5 x 4 = 20\n"
     ]
    }
   ],
   "source": [
    "import operaciones as op\n",
    "\n",
    "num1 = int(input(\"Ingrese el primer numero para multiplicar: \"))\n",
    "num2 = int(input(\"Ingrese el segundo numero para multiplicar: \"))\n",
    "\n",
    "print(f\"{num1} x {num2} = {op.multiplicacion(num1, num2)}\")"
   ]
  },
  {
   "cell_type": "markdown",
   "id": "7b98b530",
   "metadata": {},
   "source": [
    "### 9. Crea una expresión lambda reciba dos números y use el primero como base y al segundo como exponente para entrega el resultado de la potencia."
   ]
  },
  {
   "cell_type": "code",
   "execution_count": 33,
   "id": "d5f721d3",
   "metadata": {},
   "outputs": [
    {
     "name": "stdout",
     "output_type": "stream",
     "text": [
      "Ingrese el primer numero como base: 25\n",
      "Ingrese el segundo numero como exponente: 6\n",
      "25 elevado a 6 es 244140625\n"
     ]
    }
   ],
   "source": [
    "num1 = int(input(\"Ingrese el primer numero como base: \"))\n",
    "num2 = int(input(\"Ingrese el segundo numero como exponente: \"))\n",
    "\n",
    "exponencial = lambda base, exponente: base ** exponente\n",
    "\n",
    "print(f\"{num1} elevado a {num2} es {exponencial(num1, num2)}\")"
   ]
  },
  {
   "cell_type": "markdown",
   "id": "bcab7739",
   "metadata": {},
   "source": [
    "### 10. Escriba una función que reciba una lista de números, debe devolver la misma lista, pero ordenada de menor a mayor."
   ]
  },
  {
   "cell_type": "code",
   "execution_count": 46,
   "id": "be4c7f5d",
   "metadata": {},
   "outputs": [
    {
     "name": "stdout",
     "output_type": "stream",
     "text": [
      "[10, 10, 30, 50, 66, 85, 3067]\n"
     ]
    },
    {
     "data": {
      "text/plain": [
       "3"
      ]
     },
     "execution_count": 46,
     "metadata": {},
     "output_type": "execute_result"
    }
   ],
   "source": [
    "def Ordenador(lista):\n",
    "    return lista.sort()\n",
    "\n",
    "numList = [10, 50, 30, 85, 66, 3067, 10]\n",
    "Ordenador(numList)\n",
    "print(numList)"
   ]
  },
  {
   "cell_type": "markdown",
   "id": "57d077f4",
   "metadata": {},
   "source": [
    "### 11. Crear tres funciones, cada una debe recibir un parámetro: una lista de números.\n",
    "- La primera debe calcular el promedio de los números.\n",
    "- La segunda la suma de los números.\n",
    "- La tercera debe calcular la mediana de los números.\n",
    "\n",
    "Crear además otra función llamada “calcular”, que reciba como parámetro una lista de números, y una función. La idea es que se le entregue al usuario un menú de opciones, donde pueda elegir qué cálculo desea hacer. Dependiendo de la opción realizada, se debe llamar a la función calcular con la operación correcta."
   ]
  },
  {
   "cell_type": "code",
   "execution_count": 2,
   "id": "dc6db9c0",
   "metadata": {},
   "outputs": [
    {
     "name": "stdout",
     "output_type": "stream",
     "text": [
      "Bienvenido a la calculadora, tenemos 3 funciones \n",
      "               por el momento ingrese el numero de la funcion que desea, \n",
      "               con 0 se puede salir\n",
      "\n",
      "               1- Promediar \n",
      "\n",
      "               2- Sumar numeros \n",
      "\n",
      "               3- Mediana\n",
      "2\n"
     ]
    },
    {
     "data": {
      "text/plain": [
       "3324"
      ]
     },
     "execution_count": 2,
     "metadata": {},
     "output_type": "execute_result"
    }
   ],
   "source": [
    "def sumatoriaList(listanum):\n",
    "    suma = 0\n",
    "    for num in listanum:\n",
    "        suma += num\n",
    "    \n",
    "    return suma\n",
    "\n",
    "def mediana(listanum):\n",
    "    totalnum = len(listanum)\n",
    "    sortedList = listanum\n",
    "    sortedList.sort()\n",
    "    if len(sortedList)%2 == 0:\n",
    "        return ((sortedList[totalnum//2] + sortedList[(totalnum//2)+1]))/2\n",
    "    else:\n",
    "        return sortedList[totalnum//2]\n",
    "\n",
    "def calcular(listanum):\n",
    "    opcion = int(input(\"\"\"Bienvenido a la calculadora, tenemos 3 funciones \n",
    "               por el momento ingrese el numero de la funcion que desea, \n",
    "               con 0 se puede salir\\n\n",
    "               1- Promediar \\n\n",
    "               2- Sumar numeros \\n\n",
    "               3- Mediana\\n\"\"\"))\n",
    "    if opcion == 0:\n",
    "        print(\"Decidio salir\")\n",
    "        return\n",
    "    elif opcion == 1:\n",
    "        return promedio(listanum)\n",
    "    elif opcion == 2:\n",
    "        return sumatoriaList(listanum)\n",
    "    elif opcion == 3:\n",
    "        return mediana(listanum)\n",
    "    else:\n",
    "        print(\"opcion no valida\")\n",
    "        \n",
    "        \n",
    "numList = [10, 50, 30, 85, 66, 3067, 10, 6]\n",
    "calcular(numList)\n",
    "        \n",
    "    "
   ]
  },
  {
   "cell_type": "markdown",
   "id": "652f64da",
   "metadata": {},
   "source": [
    "### 12. Crear funciones para convertir grados entre Celsius, Fahrenheit y kelvin. El usuario debe ingresar un número y la unidad de entrada(“C”,”F”,”K”) y la de salida. Se debe elegir la función correcta para la conversión."
   ]
  },
  {
   "cell_type": "code",
   "execution_count": 17,
   "id": "7c094c97",
   "metadata": {},
   "outputs": [
    {
     "name": "stdout",
     "output_type": "stream",
     "text": [
      "Bienvenido al convertidor de unidad temperature edition\n",
      "Ingrese temperatura sin unidad: -273\n",
      "Ingrese unidad de entrada: c\n",
      "Ingrese unidad de salida: k\n",
      "-273.0 C = 0.14999999999997726 K\n"
     ]
    }
   ],
   "source": [
    "def CtoK(temp):\n",
    "    return temp + 273.15\n",
    "\n",
    "def KtoC(temp):\n",
    "    return temp - 273.15\n",
    "\n",
    "def FtoC(temp):\n",
    "    return (temp - 32) * (5 / 9)\n",
    "\n",
    "def CtoF(temp):\n",
    "    return (temp * 9 / 5) + 32\n",
    "\n",
    "def convertidortem(temp, unidadactual, unidadtransformar):\n",
    "    if isinstance(temp, float) or isinstance(temp, int):\n",
    "        if unidadactual == \"C\":\n",
    "            if unidadtransformar == \"K\":\n",
    "                return CtoK(temp)\n",
    "            elif unidadtransformar == \"F\":\n",
    "                return CtoF(temp)\n",
    "            else:\n",
    "                return \"unidad a transformar no valida\"\n",
    "        elif unidadactual == \"K\":\n",
    "            if unidadtransformar == \"C\":\n",
    "                return KtoC(temp)\n",
    "            if unidadtransformar == \"F\":\n",
    "                return CtoF(KtoC(temp))\n",
    "            else:\n",
    "                return \"unidad a transformar no valida\"\n",
    "        elif unidadactual == \"F\":\n",
    "            if unidadtransformar == \"K\":\n",
    "                return CtoK(FtoC(temp))\n",
    "            if unidadtransformar == \"C\":\n",
    "                return FtoC(temp)\n",
    "            else:\n",
    "                return \"unidad a transformar no valida\"\n",
    "        else:\n",
    "            return \"unidad actual no valida\"\n",
    "    else:\n",
    "        return \"temperatura invalida\"\n",
    "    \n",
    "print(\"Bienvenido al convertidor de unidad temperature edition\")\n",
    "temp = float(input(\"Ingrese temperatura sin unidad: \"))\n",
    "unidadactual = input(\"Ingrese unidad de entrada: \").upper()\n",
    "unidadtransformar = input(\"Ingrese unidad de salida: \").upper()\n",
    "\n",
    "tempTransformada = convertidortem(temp, unidadactual, unidadtransformar)\n",
    "\n",
    "if isinstance(tempTransformada, str):\n",
    "    print(tempTransformada)\n",
    "else:\n",
    "    print(f\"{temp} {unidadactual} = {tempTransformada} {unidadtransformar}\")\n",
    "    "
   ]
  }
 ],
 "metadata": {
  "kernelspec": {
   "display_name": "Python 3 (ipykernel)",
   "language": "python",
   "name": "python3"
  },
  "language_info": {
   "codemirror_mode": {
    "name": "ipython",
    "version": 3
   },
   "file_extension": ".py",
   "mimetype": "text/x-python",
   "name": "python",
   "nbconvert_exporter": "python",
   "pygments_lexer": "ipython3",
   "version": "3.11.5"
  }
 },
 "nbformat": 4,
 "nbformat_minor": 5
}
