{
 "cells": [
  {
   "cell_type": "markdown",
   "id": "7862328d",
   "metadata": {},
   "source": [
    "# Modulo 2: Ejercicio 4\n",
    "## Alumno: Jose Suarez"
   ]
  },
  {
   "cell_type": "markdown",
   "id": "2f0b0a67",
   "metadata": {},
   "source": [
    "### 1. Crea una función invertir_palabra que tome una palabra como argumento y devuelva la palabra invertida."
   ]
  },
  {
   "cell_type": "code",
   "execution_count": 77,
   "id": "55d49a07",
   "metadata": {},
   "outputs": [
    {
     "name": "stdout",
     "output_type": "stream",
     "text": [
      "Dime lo que invierto: esoj\n"
     ]
    },
    {
     "data": {
      "text/plain": [
       "'jose'"
      ]
     },
     "execution_count": 77,
     "metadata": {},
     "output_type": "execute_result"
    }
   ],
   "source": [
    "def invertir_palabra(palabra):\n",
    "    return palabra[::-1]\n",
    "\n",
    "invertir_palabra(input(\"Dime lo que invierto: \"))"
   ]
  },
  {
   "cell_type": "markdown",
   "id": "09b51f41",
   "metadata": {},
   "source": [
    "### 2. Usando la función anterior, escribir un programa que pida al usuario una palabra y muestre por pantalla si es un palíndromo."
   ]
  },
  {
   "cell_type": "code",
   "execution_count": 78,
   "id": "8550897f",
   "metadata": {},
   "outputs": [
    {
     "name": "stdout",
     "output_type": "stream",
     "text": [
      "Dime lo que invierto y te digo si es palindromo: joel\n",
      "La palabra joel es diferente a la invertida leoj\n",
      "por lo que la palabra no es un palindromo\n"
     ]
    }
   ],
   "source": [
    "def Palindrome():\n",
    "    normal = input(\"Dime lo que invierto y te digo si es palindromo: \")\n",
    "    invertida = invertir_palabra(normal)\n",
    "    if normal == invertida:\n",
    "        return f\"La palabra {normal} es igual a la invertida {invertida}\\npor lo que la palabra es un palindromo\"\n",
    "    else:\n",
    "        return f\"La palabra {normal} es diferente a la invertida {invertida}\\npor lo que la palabra no es un palindromo\"\n",
    "\n",
    "print(Palindrome())"
   ]
  },
  {
   "cell_type": "markdown",
   "id": "dbf944ef",
   "metadata": {},
   "source": [
    "### 3. Escriba una función que reciba un texto, y cuente cuantas palabras tiene."
   ]
  },
  {
   "cell_type": "code",
   "execution_count": 8,
   "id": "115a8005",
   "metadata": {},
   "outputs": [
    {
     "name": "stdout",
     "output_type": "stream",
     "text": [
      "Dime una frase y te digo cuantas palabras tiene: Papa es igual a Papa\n",
      "5\n"
     ]
    }
   ],
   "source": [
    "def ContaPalabras(frase):\n",
    "    return len(frase.split())\n",
    "print(ContaPalabras(input(\"Dime una frase y te digo cuantas palabras tiene: \")))"
   ]
  },
  {
   "cell_type": "markdown",
   "id": "2e158402",
   "metadata": {},
   "source": [
    "### 4. Escribe un código que genere una lista de los cuadrados de los números del 1 al 10. (usar listas por comprensión)."
   ]
  },
  {
   "cell_type": "code",
   "execution_count": 14,
   "id": "b2afc7cd",
   "metadata": {},
   "outputs": [
    {
     "name": "stdout",
     "output_type": "stream",
     "text": [
      "[1, 4, 9, 16, 25, 36, 49, 64, 81, 100]\n"
     ]
    }
   ],
   "source": [
    "cuadrados = [num ** 2 for num in range(1, 10+1)]\n",
    "print(cuadrados)"
   ]
  },
  {
   "cell_type": "markdown",
   "id": "c915db12",
   "metadata": {},
   "source": [
    "### 5. Crear una función, que revise, con expresiones regulares que un texto contenga sólo caracteres alfanuméricos."
   ]
  },
  {
   "cell_type": "code",
   "execution_count": 43,
   "id": "8650792e",
   "metadata": {},
   "outputs": [
    {
     "name": "stdout",
     "output_type": "stream",
     "text": [
      "Ingresa un texto y te digo si es alfanumerico: chubaka estuvo aqui???\n",
      "El valor texto no es alfanumerico\n"
     ]
    }
   ],
   "source": [
    "import re\n",
    "\n",
    "def AlfaNumChecker(texto):\n",
    "    noEsAlfaNum = re.search(r\"[^a-zA-Z0-9]\", texto)\n",
    "    if noEsAlfaNum:\n",
    "        return \"El valor texto no es alfanumerico\"\n",
    "    else:\n",
    "        return \"El valor texto es alfanumerico\"\n",
    "    \n",
    "print(AlfaNumChecker(input(\"Ingresa un texto y te digo si es alfanumerico: \")))"
   ]
  },
  {
   "cell_type": "markdown",
   "id": "9adbd507",
   "metadata": {},
   "source": [
    "### 6. Crear una función que revise, con expresiones regulares, que un texto tenga el formato de email."
   ]
  },
  {
   "cell_type": "code",
   "execution_count": 48,
   "id": "18366185",
   "metadata": {},
   "outputs": [
    {
     "name": "stdout",
     "output_type": "stream",
     "text": [
      "Ingresa un texto y te digo si es email: chuibaca@starwa.lua\n",
      "El valor texto es email.\n"
     ]
    }
   ],
   "source": [
    "def EmailChecker(texto):\n",
    "    esEmail = re.search(r'^[a-zA-Z0-9_.+-]+@[a-zA-Z0-9-]+\\.[a-zA-Z0-9-.]+$', texto)\n",
    "    if esEmail:\n",
    "        return \"El valor texto es email.\"\n",
    "    else:\n",
    "        return \"El valor texto no es email.\"\n",
    "    \n",
    "print(EmailChecker(input(\"Ingresa un texto y te digo si es email: \")))"
   ]
  },
  {
   "cell_type": "markdown",
   "id": "1ae50206",
   "metadata": {},
   "source": [
    "### 7. Escribe un programa que obtenga la fecha actual y la imprima en formato dd/mm/aaaa."
   ]
  },
  {
   "cell_type": "code",
   "execution_count": 53,
   "id": "f5aa25ff",
   "metadata": {},
   "outputs": [
    {
     "name": "stdout",
     "output_type": "stream",
     "text": [
      "05-02-2024\n"
     ]
    }
   ],
   "source": [
    "import datetime\n",
    "def Ahora():\n",
    "    ahora = datetime.datetime.now()\n",
    "    print(ahora.strftime(\"%d-%m-%Y\"))\n",
    "    \n",
    "Ahora()\n",
    "    "
   ]
  },
  {
   "cell_type": "markdown",
   "id": "e72fb89d",
   "metadata": {},
   "source": [
    "### 8. Escribir un programa que cree reciba un texto, y cuente cuantas veces cada letra aparece en el texto (un contador de letras). Debe indicar la cantidad de veces que cada una de las letras se repite."
   ]
  },
  {
   "cell_type": "code",
   "execution_count": 71,
   "id": "118c54f9",
   "metadata": {},
   "outputs": [
    {
     "name": "stdout",
     "output_type": "stream",
     "text": [
      "Ingrese un texto y yo le contare las letras: 8. Escribir un programa que cree reciba un texto, y cuente cuantas veces cada letra aparece en el texto (un contador de letras). Debe indicar la cantidad de veces que cada una de las letras se repite.\n",
      "Su cuenta es de: \n",
      "8 se encontro 1 veces\n",
      ". se encontro 3 veces\n",
      "E se encontro 1 veces\n",
      "s se encontro 8 veces\n",
      "c se encontro 13 veces\n",
      "r se encontro 13 veces\n",
      "i se encontro 7 veces\n",
      "b se encontro 3 veces\n",
      "u se encontro 8 veces\n",
      "n se encontro 10 veces\n",
      "p se encontro 3 veces\n",
      "o se encontro 5 veces\n",
      "g se encontro 1 veces\n",
      "a se encontro 21 veces\n",
      "m se encontro 1 veces\n",
      "q se encontro 2 veces\n",
      "e se encontro 28 veces\n",
      "t se encontro 12 veces\n",
      "x se encontro 2 veces\n",
      ", se encontro 1 veces\n",
      "y se encontro 1 veces\n",
      "v se encontro 2 veces\n",
      "d se encontro 9 veces\n",
      "l se encontro 6 veces\n",
      "( se encontro 1 veces\n",
      ") se encontro 1 veces\n",
      "D se encontro 1 veces\n"
     ]
    }
   ],
   "source": [
    "def ContadorLetras(texto):\n",
    "    letrasDict = {}\n",
    "    for letra in texto:\n",
    "        if letra == \" \":\n",
    "            pass\n",
    "        elif letra in letrasDict.keys():\n",
    "            letrasDict.update({letra: letrasDict.get(letra) + 1})\n",
    "        else:\n",
    "            letrasDict.update({letra: 1})\n",
    "    return letrasDict\n",
    "\n",
    "\n",
    "cuenta = ContadorLetras(input(\"Ingrese un texto y yo le contare las letras: \"))\n",
    "print(\"Su cuenta es de: \")\n",
    "for letra in cuenta:\n",
    "    print(f\"{letra} se encontro {cuenta.get(letra)} veces\")"
   ]
  },
  {
   "cell_type": "markdown",
   "id": "75a479d2",
   "metadata": {},
   "source": [
    "### 9. Para el mismo ejercicio anterior, mejorar el algoritmo, \n",
    "- para que cuente sólo letras, sin importar si son mayúsculas o minúsculas # done \n",
    "- los números los agrupe en un solo contador # done\n",
    "- no tome en cuenta los espacios # done en la anterior\n",
    "- para cualquier otro carácter, lo agrupe en el contador de “otros”. # done\n",
    "- Dejar los contadores de “números” y “otros” al final y ordenar la lista por orden alfabético descendente # done"
   ]
  },
  {
   "cell_type": "code",
   "execution_count": 86,
   "id": "b455124f",
   "metadata": {},
   "outputs": [
    {
     "name": "stdout",
     "output_type": "stream",
     "text": [
      "Ingrese un texto y yo le contare las letras: \n",
      "Chubaka estubo aqui? no, se fue a avenida asterisco #123490-7\n",
      "El resultado de contabilidad es: \n",
      "a se encontro 7 veces\n",
      "b se encontro 2 veces\n",
      "c se encontro 2 veces\n",
      "d se encontro 1 veces\n",
      "e se encontro 5 veces\n",
      "f se encontro 1 veces\n",
      "h se encontro 1 veces\n",
      "i se encontro 3 veces\n",
      "k se encontro 1 veces\n",
      "n se encontro 2 veces\n",
      "o se encontro 3 veces\n",
      "q se encontro 1 veces\n",
      "r se encontro 1 veces\n",
      "s se encontro 4 veces\n",
      "t se encontro 2 veces\n",
      "u se encontro 4 veces\n",
      "v se encontro 1 veces\n",
      "numeros se encontro 7 veces\n",
      "otros se encontro 4 veces\n"
     ]
    }
   ],
   "source": [
    "def ContadorLetras2(texto):\n",
    "    letrasDict = {}\n",
    "    for letra in texto:\n",
    "        if letra == \" \":\n",
    "            pass\n",
    "        elif not letra.isalnum():\n",
    "            if \"otros\" in letrasDict.keys():\n",
    "                letrasDict.update({\"otros\": letrasDict.get(\"otros\") + 1})\n",
    "            else:\n",
    "                letrasDict.update({\"otros\": 1})\n",
    "        elif letra.isnumeric():\n",
    "            if \"numeros\" in letrasDict.keys():\n",
    "                letrasDict.update({\"numeros\": letrasDict.get(\"numeros\") + 1})\n",
    "            else:\n",
    "                letrasDict.update({\"numeros\": 1})\n",
    "        elif letra.lower() in letrasDict.keys():\n",
    "            letrasDict.update({letra.lower(): letrasDict.get(letra) + 1})\n",
    "        else:\n",
    "            letrasDict.update({letra.lower(): 1})\n",
    "    return letrasDict\n",
    "\n",
    "\n",
    "cuenta = ContadorLetras2(input(\"Ingrese un texto y yo le contare las letras: \\n\"))\n",
    "sortedkeys = list(cuenta.keys())\n",
    "sortedkeys.sort()\n",
    "sortedkeys.remove(\"numeros\")\n",
    "sortedkeys.append(\"numeros\")\n",
    "sortedkeys.remove(\"otros\")\n",
    "sortedkeys.append(\"otros\")\n",
    "print(\"El resultado de contabilidad es: \")\n",
    "for letra in sortedkeys:\n",
    "    print(f\"{letra} se encontro {cuenta.get(letra)} veces\")"
   ]
  },
  {
   "cell_type": "markdown",
   "id": "749f8c0c",
   "metadata": {},
   "source": [
    "### 10. Escribir un programa que guarde en una variable el diccionario {'Euro':'€', 'Dollar':'$', 'Yen':'¥'}, pregunte al usuario por una divisa y muestre su símbolo o un mensaje de aviso si la divisa no está en el diccionario."
   ]
  },
  {
   "cell_type": "code",
   "execution_count": 93,
   "id": "ee1d79c8",
   "metadata": {},
   "outputs": [
    {
     "name": "stdout",
     "output_type": "stream",
     "text": [
      "Ingrese el nombre de una divisa: dolar\n",
      "El simbolo del Dolar es $\n"
     ]
    }
   ],
   "source": [
    "divisas = {'euro':'€', 'dolar':'$', 'yen':'¥'}\n",
    "indivisa = input(\"Ingrese el nombre de una divisa: \").lower()\n",
    "if indivisa in divisas.keys():\n",
    "    print(f\"El simbolo del {indivisa.capitalize()} es {divisas.get(indivisa)}\")\n",
    "else:\n",
    "    print(f\"No tengo el simbolo de {indivisa.capitalize()}\")"
   ]
  },
  {
   "cell_type": "markdown",
   "id": "f70a5cb0",
   "metadata": {},
   "source": [
    "### 12. Crear un programa donde el usuario ingrese números, constantemente, hasta que ingrese un 0. Cuando esto ocurra, el sistema debe devolver la moda del conjunto de números (moda: el número que más se repite)."
   ]
  },
  {
   "cell_type": "code",
   "execution_count": 6,
   "id": "8f2ef4b1",
   "metadata": {},
   "outputs": [
    {
     "name": "stdout",
     "output_type": "stream",
     "text": [
      "Ingrese 0 para salir o un numero entero para consirerar: \n",
      "no ingreso un numero, intentelo denueve\n",
      "Ingrese 0 para salir o un numero entero para consirerar: as\n",
      "no ingreso un numero, intentelo denueve\n",
      "Ingrese 0 para salir o un numero entero para consirerar: 20\n",
      "Ingrese 0 para salir o un numero entero para consirerar: 60\n",
      "Ingrese 0 para salir o un numero entero para consirerar: 90\n",
      "Ingrese 0 para salir o un numero entero para consirerar: 5\n",
      "Ingrese 0 para salir o un numero entero para consirerar: 5\n",
      "Ingrese 0 para salir o un numero entero para consirerar: 5\n",
      "Ingrese 0 para salir o un numero entero para consirerar: 5\n",
      "Ingrese 0 para salir o un numero entero para consirerar: 5\n",
      "Ingrese 0 para salir o un numero entero para consirerar: 3\n",
      "Ingrese 0 para salir o un numero entero para consirerar: 0\n",
      "0 detectado\n",
      "El numero que mas ingreso(moda) es 5 con 5 ingresos\n"
     ]
    }
   ],
   "source": [
    "numberList = []\n",
    "\n",
    "while True:\n",
    "    numero = input(\"Ingrese 0 para salir o un numero entero para consirerar: \")\n",
    "    if not numero.isdigit():\n",
    "        print(\"no ingreso un numero, intentelo denueve\")\n",
    "        pass\n",
    "    elif int(numero) == 0:\n",
    "        print(\"0 detectado\")\n",
    "        break\n",
    "    else:\n",
    "        numberList.append(int(numero))\n",
    "        pass\n",
    "       \n",
    "\n",
    "numbercount = {}\n",
    "for num in numberList:\n",
    "    if num in numbercount.keys():\n",
    "        numbercount.update({num: numbercount.get(num) + 1})\n",
    "    else:\n",
    "        numbercount.update({num: 1})\n",
    "                          \n",
    "moda = 0\n",
    "for num in numbercount.keys():\n",
    "    if moda in numbercount.keys():\n",
    "        if numbercount.get(moda) < numbercount.get(num):\n",
    "            moda = num\n",
    "    else:\n",
    "        moda = num\n",
    "print(f\"El numero que mas ingreso(moda) es {moda} con {numbercount.get(moda)} ingresos\")"
   ]
  },
  {
   "cell_type": "markdown",
   "id": "25f7d52c",
   "metadata": {},
   "source": [
    "### 13. Pedir al usuario que ingrese una lista de números, positivos y negativos separados por “,” (coma). Guardarlos en una lista, y pedir al usuario si quiere ver sólo los valores positivos o sólo los negativos."
   ]
  },
  {
   "cell_type": "code",
   "execution_count": 10,
   "id": "f3df6450",
   "metadata": {},
   "outputs": [
    {
     "name": "stdout",
     "output_type": "stream",
     "text": [
      "Ingrese una lista de numeros separadas por coma:\n",
      "ejemplo: 1,2,5,32,100\n",
      "Por favor respetar el formato:5,10,60,90,-0,20,-30\n",
      "ingrese P si quiere ver los numeros positivos o N si prefiere ver los negativosn\n",
      "Los numero negativos son: ['-30']\n"
     ]
    }
   ],
   "source": [
    "numberString = input(\"Ingrese una lista de numeros separadas por coma:\\nejemplo: 1,2,5,32,100\\nPor favor respetar el formato:\")\n",
    "\n",
    "numberList = numberString.split(\",\")\n",
    "\n",
    "numerosPositivos = [x for x in numberList if int(x) >= 0]\n",
    "numerosNegativos = [x for x in numberList if int(x) < 0]\n",
    "\n",
    "decision = input(\"ingrese P si quiere ver los numeros positivos o N si prefiere ver los negativos\")\n",
    "mensajeError = \"Opcion invalida intentelo denuevo\\ningrese P si quiere ver los numeros positivos o N si prefiere ver los negativos\"\n",
    "while True:\n",
    "    if decision.isdigit():\n",
    "        decision = input(mensajeError)\n",
    "        pass\n",
    "    elif decision.lower() == \"p\":\n",
    "        print(f\"Los numero positivos son: {numerosPositivos}\")\n",
    "        break\n",
    "    elif decision.lower() == \"n\":\n",
    "        print(f\"Los numero negativos son: {numerosNegativos}\")\n",
    "        break\n",
    "    else:\n",
    "        decision = input(mensajeError)\n",
    "        pass\n"
   ]
  }
 ],
 "metadata": {
  "kernelspec": {
   "display_name": "Python 3 (ipykernel)",
   "language": "python",
   "name": "python3"
  },
  "language_info": {
   "codemirror_mode": {
    "name": "ipython",
    "version": 3
   },
   "file_extension": ".py",
   "mimetype": "text/x-python",
   "name": "python",
   "nbconvert_exporter": "python",
   "pygments_lexer": "ipython3",
   "version": "3.11.5"
  }
 },
 "nbformat": 4,
 "nbformat_minor": 5
}
