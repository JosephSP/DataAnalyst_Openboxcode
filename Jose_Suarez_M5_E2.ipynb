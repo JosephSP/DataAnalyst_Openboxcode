{
 "cells": [
  {
   "cell_type": "markdown",
   "id": "580925f5",
   "metadata": {},
   "source": [
    "# Modulo 5: Ejercicio 2\n",
    "## Alumno: Jose Suarez"
   ]
  },
  {
   "cell_type": "markdown",
   "id": "d46d5add",
   "metadata": {},
   "source": [
    "### Ejercicio 1:\n",
    "Variable Aleatoria en Distribución normal.\n",
    "\n",
    "Si X es una variable aleatoria de una distribución.\n",
    "\n",
    "    N(u, o)\n",
    "hallar:\n",
    "\n",
    "    P(u-3o <= X <= u + 3o)"
   ]
  },
  {
   "cell_type": "code",
   "execution_count": 1,
   "id": "816b9d50",
   "metadata": {},
   "outputs": [
    {
     "name": "stdout",
     "output_type": "stream",
     "text": [
      "Dada la condicion de que X este dentro del rango [-3,3] desviaciones estandar de la media\n",
      "y asumienod que N(u,o) = N(0,1)\n",
      "la probabilidad de caer en ese rango es de 99.72999999999999\n"
     ]
    }
   ],
   "source": [
    "import numpy as np\n",
    "\n",
    "from scipy import stats\n",
    "\n",
    "# Por ejemplo, para encontrar la probabilidad de que Z sea menor que 1.96 en una distribución normal estándar: 0.975\n",
    "probabilidad = np.round(stats.norm.cdf(3) -  stats.norm.cdf(-3), 4) * 100\n",
    "\n",
    "print(f\"Dada la condicion de que X este dentro del rango [-3,3] desviaciones estandar de la media\")\n",
    "print(f\"y asumienod que N(u,o) = N(0,1)\")\n",
    "print(f\"la probabilidad de caer en ese rango es de {probabilidad}\")"
   ]
  },
  {
   "cell_type": "markdown",
   "id": "d843a4ec",
   "metadata": {},
   "source": [
    "### Ejercicio 2: Distribución normal, media y desviación típica\n",
    "En una distribución normal de media 4 y desviación típica 2, calcular el valor de a para que:\n",
    "\n",
    "    P(4-a <=X<= 4+a) = 0.5934 ==> considerando distribusion normal ==> P(-a <= x <= +a) = 0.5934"
   ]
  },
  {
   "cell_type": "code",
   "execution_count": 2,
   "id": "059b8c14",
   "metadata": {},
   "outputs": [
    {
     "name": "stdout",
     "output_type": "stream",
     "text": [
      "Dado que se trata de una distribucion normal, podemos restar la media a nuestro rango de distribucion\n",
      "Por lo que tendriamos: P(- a <= x <= a) = 0.5934\n",
      "Con esto podemos encontrar las cotas del rango normal en 0 con lo que se podra inferir el valor de a\n",
      "el valor de a para la distribucion es de 1.6598\n"
     ]
    }
   ],
   "source": [
    "print(f\"Dado que se trata de una distribucion normal, podemos restar la media a nuestro rango de distribucion\")\n",
    "\n",
    "a = 0.0\n",
    "mu = 4\n",
    "\n",
    "probDentroRango = 0.5934\n",
    "\n",
    "print(\"Por lo que tendriamos: P(- a <= x <= a) = 0.5934\")\n",
    "print(\"Con esto podemos encontrar las cotas del rango normal en 0 con lo que se podra inferir el valor de a\")\n",
    "\n",
    "probFueraRango = 1-probDentroRango\n",
    "\n",
    "cotaSupProb = (probFueraRango/2) + probDentroRango\n",
    "# print(cotaSupProb)\n",
    "cotaInfRango = (probFueraRango/2)\n",
    "# print(cotaInfRango)\n",
    "valorCotaSup = stats.norm.ppf(cotaSupProb, scale = 2)\n",
    "# print(valorCotaSup)\n",
    "\n",
    "valorCotaInf = stats.norm.ppf(cotaInfRango, scale = 2) \n",
    "# print(valorCotaInf)\n",
    "\n",
    "a = np.round(valorCotaSup , 4)\n",
    "# print(a)\n",
    "# a = -valorCotaInf\n",
    "# print(a)\n",
    "print(f\"el valor de a para la distribucion es de {a}\")\n"
   ]
  },
  {
   "cell_type": "markdown",
   "id": "6ee6ff73",
   "metadata": {},
   "source": [
    "### Ejercicio 3: Distribución Normal\n",
    "Dada una variable aleatoria continua Z, con distribución normal estándar, es decir, N(0;1), encuentre las siguientes probabilidades, usando la tabla."
   ]
  },
  {
   "cell_type": "markdown",
   "id": "d19694b1",
   "metadata": {},
   "source": [
    "#### 3.a) P(0 ≤ Z ≤ 1,25)"
   ]
  },
  {
   "cell_type": "code",
   "execution_count": 3,
   "id": "1b84ae42",
   "metadata": {},
   "outputs": [
    {
     "name": "stdout",
     "output_type": "stream",
     "text": [
      "3.a)P(0 ≤ Z ≤ 1,25) = 39.434999999999995%\n"
     ]
    }
   ],
   "source": [
    "cotaSuperior = stats.norm.cdf(1.25)\n",
    "cotaInferior = stats.norm.cdf(0)\n",
    "\n",
    "Prob0Z1_25 = np.round(cotaSuperior - cotaInferior, 5)*100\n",
    "\n",
    "print(f\"3.a)P(0 ≤ Z ≤ 1,25) = {Prob0Z1_25}%\")"
   ]
  },
  {
   "cell_type": "markdown",
   "id": "3fda596d",
   "metadata": {},
   "source": [
    "#### 3.b) P(Z ≥ 1,25)"
   ]
  },
  {
   "cell_type": "code",
   "execution_count": 4,
   "id": "59b038ff",
   "metadata": {},
   "outputs": [
    {
     "name": "stdout",
     "output_type": "stream",
     "text": [
      "3.b) P(Z ≥ 1,25) = 10.565%\n"
     ]
    }
   ],
   "source": [
    "cotaSuperior = stats.norm.cdf(1000)\n",
    "cotaInferior = stats.norm.cdf(1.25)\n",
    "\n",
    "Prob1_25Zinf = np.round(cotaSuperior - cotaInferior, 5)*100\n",
    "\n",
    "print(f\"3.b) P(Z ≥ 1,25) = {Prob1_25Zinf}%\")\n"
   ]
  },
  {
   "cell_type": "markdown",
   "id": "73abc86c",
   "metadata": {},
   "source": [
    "#### 3.c)P(Z ≤ −1,25)"
   ]
  },
  {
   "cell_type": "code",
   "execution_count": 5,
   "id": "4d257b07",
   "metadata": {},
   "outputs": [
    {
     "name": "stdout",
     "output_type": "stream",
     "text": [
      "3.c)P(Z ≤ −1,25) = 10.565%\n"
     ]
    }
   ],
   "source": [
    "cotaSuperior = stats.norm.cdf(-1.25)\n",
    "cotaInferior = stats.norm.cdf(-1000)\n",
    "\n",
    "ProbNegInfZNeg1_25 = np.round(cotaSuperior - cotaInferior, 5)*100\n",
    "\n",
    "print(f\"3.c)P(Z ≤ −1,25) = {ProbNegInfZNeg1_25}%\")\n"
   ]
  },
  {
   "cell_type": "markdown",
   "id": "046c7b46",
   "metadata": {},
   "source": [
    "#### 3.d)P(0 ≤ Z ≤ 1,33)"
   ]
  },
  {
   "cell_type": "code",
   "execution_count": 6,
   "id": "2868e622",
   "metadata": {},
   "outputs": [
    {
     "name": "stdout",
     "output_type": "stream",
     "text": [
      "3.d)P(0 ≤ Z ≤ 1,33) = 39.434999999999995%\n"
     ]
    }
   ],
   "source": [
    "cotaSuperior = stats.norm.cdf(1.33)\n",
    "cotaInferior = stats.norm.cdf(0)\n",
    "\n",
    "Prob0Z1_33 = np.round(cotaSuperior - cotaInferior, 5)*100\n",
    "\n",
    "print(f\"3.d)P(0 ≤ Z ≤ 1,33) = {Prob0Z1_25}%\")\n"
   ]
  },
  {
   "cell_type": "markdown",
   "id": "d906423d",
   "metadata": {},
   "source": [
    "#### 3.e)P(Z ≥ 1,33)"
   ]
  },
  {
   "cell_type": "code",
   "execution_count": 7,
   "id": "71e88eb2",
   "metadata": {},
   "outputs": [
    {
     "name": "stdout",
     "output_type": "stream",
     "text": [
      "3.e)P(Z ≥ 1,33) = 9.176%\n"
     ]
    }
   ],
   "source": [
    "cotaSuperior = stats.norm.cdf(1000)\n",
    "cotaInferior = stats.norm.cdf(1.33)\n",
    "\n",
    "Prob1_33Zinf = np.round(cotaSuperior - cotaInferior, 5)*100\n",
    "\n",
    "print(f\"3.e)P(Z ≥ 1,33) = {Prob1_33Zinf}%\")\n"
   ]
  },
  {
   "cell_type": "markdown",
   "id": "642349ba",
   "metadata": {},
   "source": [
    "#### 3.f) P(−1,33 ≤ Z ≤ 0)"
   ]
  },
  {
   "cell_type": "code",
   "execution_count": 8,
   "id": "4df45688",
   "metadata": {},
   "outputs": [
    {
     "name": "stdout",
     "output_type": "stream",
     "text": [
      "3.f) P(−1,33 ≤ Z ≤ 0) = 40.824%\n"
     ]
    }
   ],
   "source": [
    "cotaSuperior = stats.norm.cdf(0)\n",
    "cotaInferior = stats.norm.cdf(-1.33)\n",
    "\n",
    "ProbNeg1_33Z0 = np.round(cotaSuperior - cotaInferior, 5)*100\n",
    "\n",
    "print(f\"3.f) P(−1,33 ≤ Z ≤ 0) = {ProbNeg1_33Z0}%\")\n"
   ]
  },
  {
   "cell_type": "markdown",
   "id": "dbd02b85",
   "metadata": {},
   "source": [
    "### Ejercicio 4: Distribución Normal para la aplicación de exámenes.\n",
    "Se supone que los resultados de un examen siguen una distribución normal con media 78 y desviación típica 36.\n",
    "\n",
    "Se pide:"
   ]
  },
  {
   "cell_type": "markdown",
   "id": "3010b708",
   "metadata": {},
   "source": [
    "#### 4.a) ¿Cuál es la probabilidad de que una persona que se presenta el examen obtenga una calificación superior a 72?\n",
    "P(72 <= X)"
   ]
  },
  {
   "cell_type": "code",
   "execution_count": 9,
   "id": "9353c6af",
   "metadata": {},
   "outputs": [
    {
     "name": "stdout",
     "output_type": "stream",
     "text": [
      "4.a) Dado los datos N(78,36).\n",
      "se tendria que la probabilidad de que una persona tenga calificacion sobre 72 es de 56.618%\n"
     ]
    }
   ],
   "source": [
    "cotaSuperior = stats.norm.cdf(1000, loc = 78, scale = 36)\n",
    "cotaInferior = stats.norm.cdf(72, loc = 78, scale = 36)\n",
    "\n",
    "Prob72Xinf = np.round(cotaSuperior - cotaInferior, 5)*100\n",
    "\n",
    "print(f\"4.a) Dado los datos N(78,36).\")\n",
    "print(f\"se tendria que la probabilidad de que una persona tenga calificacion sobre 72 es de {Prob72Xinf}%\")"
   ]
  },
  {
   "cell_type": "markdown",
   "id": "792ef307",
   "metadata": {},
   "source": [
    "#### 4.b) Calcular la proporción de estudiantes que tienen puntuaciones que exceden por lo menos en cinco puntos de la puntuación que marca la frontera entre el Apto y el No-Apto (son declarados No-Aptos el 25% de los estudiantes que obtuvieron las puntuaciones más bajas)."
   ]
  },
  {
   "cell_type": "code",
   "execution_count": 10,
   "id": "1865e81e",
   "metadata": {},
   "outputs": [
    {
     "name": "stdout",
     "output_type": "stream",
     "text": [
      "4.b) Dado los datos se tendria que los estudiantes bajo el puntaje 53.71837 son no aptos.\n",
      "Por lo tanto la proporcion de estudiantes sobre 5 puntos de los no aptos es 0.70388%\n"
     ]
    }
   ],
   "source": [
    "# Primero calculamos la cota donde comienzan a ser no aptos los estudiantes, luego se le suma 5 y calcula la proporcion por sobre esa cota\n",
    "\n",
    "cotaEstudiantesNoAptos = np.round(stats.norm.ppf(0.25, loc = 78, scale = 36), 5)\n",
    "\n",
    "print(f\"4.b) Dado los datos se tendria que los estudiantes bajo el puntaje {cotaEstudiantesNoAptos} son no aptos.\")\n",
    "\n",
    "cotaInferior = cotaEstudiantesNoAptos + 5\n",
    "\n",
    "prob5PuntosSobreNoAptos = np.round(1 - stats.norm.cdf(cotaInferior, loc=78, scale=36), 5)\n",
    "\n",
    "print(f\"Por lo tanto la proporcion de estudiantes sobre 5 puntos de los no aptos es {prob5PuntosSobreNoAptos}%\")\n"
   ]
  },
  {
   "cell_type": "markdown",
   "id": "447110bc",
   "metadata": {},
   "source": [
    "#### 4.c) Si se sabe que la calificación de un estudiante es mayor que 72, ¿cuál es la probabilidad de que su calificación sea, de hecho, superior a 84?\n",
    "\n",
    "P(sobre84|sobre72) = P(sobre72 y Sobre84) / P(sobre84)\n",
    "\n",
    "P(H|E) = P(H)*P(E|H) / P(E)"
   ]
  },
  {
   "cell_type": "code",
   "execution_count": 11,
   "id": "b2bc1989",
   "metadata": {},
   "outputs": [
    {
     "name": "stdout",
     "output_type": "stream",
     "text": [
      "La probabilidad de que la calificacion sea superior a 84 sabiendo que el estudiante obtuvo sobre 72 es de 58.7079%\n"
     ]
    }
   ],
   "source": [
    "probSobre72 = 1 - stats.norm.cdf(72, loc=78, scale=36)\n",
    "\n",
    "probSobre84 = 1 - stats.norm.cdf(84, loc=78, scale=36)\n",
    "\n",
    "probSobre72y84 =  1-(probSobre72 - probSobre84)/probSobre72\n",
    "\n",
    "probSobre84sabiendoSobre72 = np.round(probSobre72y84 * probSobre84 / probSobre72, 6) * 100\n",
    "\n",
    "print(f\"La probabilidad de que la calificacion sea superior a 84 sabiendo que el estudiante obtuvo sobre 72 es de {probSobre84sabiendoSobre72}%\")"
   ]
  },
  {
   "cell_type": "markdown",
   "id": "2b30075e",
   "metadata": {},
   "source": [
    "### Ejercicio 5: Distribución Binomial.\n",
    "\n",
    "Uno de los ítems de una prueba sorpresa consta de 12 preguntas de verdadero o falso. Suponiendo que los estudiantes no saben contestar a ninguna de ellas y, contestan al azar, hallar la probabilidad de obtener seis aciertos."
   ]
  },
  {
   "cell_type": "code",
   "execution_count": 12,
   "id": "11d76990",
   "metadata": {},
   "outputs": [
    {
     "name": "stdout",
     "output_type": "stream",
     "text": [
      "La probabilidad de obterner 6 aciertos es de 22.559%\n"
     ]
    }
   ],
   "source": [
    "from scipy.stats import binom\n",
    "\n",
    "# Definir los parámetros\n",
    "n = 12  # preguntas\n",
    "p = 0.5  # probabilidad de estar correcto\n",
    "k = 6   # número aciertos a estimar\n",
    "\n",
    "# Calcular la probabilidad usando scipy.stats.binom\n",
    "probabilidad = np.round(binom.pmf(k, n, p),5)*100\n",
    "\n",
    "print(f\"La probabilidad de obterner 6 aciertos es de {probabilidad}%\")"
   ]
  },
  {
   "attachments": {
    "image-2.png": {
     "image/png": "[encoded data removed]"
    },
    "image.png": {
     "image/png": "[encoded data removed]"
    }
   },
   "cell_type": "markdown",
   "id": "f7a18424",
   "metadata": {},
   "source": [
    "### Ejercicio 6: NO HACER SEGUN PROF JOAO\n",
    "Un quiosco de revistas ordena 4 ejemplares de una nueva revista. Sea X la variable aleatoria que denota la demanda semanal, por parte de los clientes de este quiosco, de esta revista. Se encontró que la distribución de probabilidades para X es:\n",
    "![image.png](attachment:image.png)\n",
    "que podemos escribir como:\n",
    "![image-2.png](attachment:image-2.png)\n",
    "Suponga que el ingreso de este kiosco está relacionado con la demanda por la nueva revista mediante la función\n",
    "Y = 200X + 300000\n",
    "Determine la esperanza y la varianza del ingreso que obtiene el dueño del quiosco."
   ]
  },
  {
   "cell_type": "code",
   "execution_count": null,
   "id": "e7851cb4",
   "metadata": {},
   "outputs": [],
   "source": []
  },
  {
   "cell_type": "markdown",
   "id": "b01f4be8",
   "metadata": {},
   "source": [
    "### Ejercicio 7\n",
    "Las especificaciones con la que se fabrican los tornillos de acero de sección transversal circular requieren que sus longitudes se encuentren entre 8.45 y 8.65 cm y sus diámetros entre 1.55 y 1.60cm. Los tornillos producidos por una maquina tienen longitudes que siguen una distribución normal con media de 8.55 cm y con desviación estándar de 0.05cm y diámetros que siguen otra distribución normal independiente con media igual a 1.58 cm y desviación estándar de 0.01 cm.\n",
    "\n",
    "Requerimiento: cotas longitud [8.45,8.65], cotas diametro [1.55,1.6]\n",
    "\n",
    "Distribucion longitud: N[8.55,0.05]\n",
    "\n",
    "Distribucion diametro: N[1.58,0.01]"
   ]
  },
  {
   "cell_type": "markdown",
   "id": "3a65e22b",
   "metadata": {},
   "source": [
    "#### 7.a) Suponiendo que las medidas de longitud y diámetro son independientes. ¿Cuál es la probabilidad de que las medidas de longitud y diámetro, en conjunto, cumplan con las especificaciones requeridas?"
   ]
  },
  {
   "cell_type": "code",
   "execution_count": 13,
   "id": "37156281",
   "metadata": {},
   "outputs": [
    {
     "name": "stdout",
     "output_type": "stream",
     "text": [
      "7.a)La probabilidad de que ambas medidas cumplan con lo requerido es de 93.15%\n"
     ]
    }
   ],
   "source": [
    "def ProbabilidadEntreCotasNormal(cotaInferior,cotaSuperior, mu, desv):\n",
    "    cotaSuperior = stats.norm.cdf(cotaSuperior, loc = mu, scale = desv)\n",
    "    cotaInferior = stats.norm.cdf(cotaInferior, loc = mu, scale = desv)\n",
    "    return cotaSuperior - cotaInferior\n",
    "\n",
    "muLong = 8.55\n",
    "desvLong = 0.05\n",
    "cotInfLong = 8.45\n",
    "cotSupLong = 8.65\n",
    "probDentroLong = ProbabilidadEntreCotasNormal(cotInfLong, cotSupLong, muLong, desvLong)\n",
    "\n",
    "\n",
    "muDiam = 1.58\n",
    "desvDiam = 0.01\n",
    "cotaInfDiam = 1.55\n",
    "cotaSupDiam = 1.6\n",
    "probDentroDiam = ProbabilidadEntreCotasNormal(cotaInfDiam, cotaSupDiam, muDiam, desvDiam)\n",
    "\n",
    "probabilidadCumple = probDentroLong * probDentroDiam\n",
    "probabilidadCumpleRound =  np.round(probabilidadCumple, 5)*100\n",
    "print(f\"7.a)La probabilidad de que ambas medidas cumplan con lo requerido es de {probabilidadCumpleRound}%\")\n"
   ]
  },
  {
   "cell_type": "markdown",
   "id": "01266c96",
   "metadata": {},
   "source": [
    "#### 7.b) Se seleccionan 6 tornillos al azar producidos por esta máquina. ¿Cuál es la probabilidad que a lo más 2 de ellos cumplan con especificaciones requeridas de longitud?"
   ]
  },
  {
   "cell_type": "code",
   "execution_count": 14,
   "id": "8e1747e7",
   "metadata": {},
   "outputs": [
    {
     "name": "stdout",
     "output_type": "stream",
     "text": [
      "7.b)La probabilidad de que a lo mas 2 de los 6  cumplan con las especificaciones es de 0.02952%\n"
     ]
    }
   ],
   "source": [
    "probabilidad = np.round(binom.cdf(2, 6, probabilidadCumple),7)*100\n",
    "\n",
    "print(f\"7.b)La probabilidad de que a lo mas 2 de los 6  cumplan con las especificaciones es de {probabilidad}%\")"
   ]
  },
  {
   "cell_type": "markdown",
   "id": "4726fe16",
   "metadata": {},
   "source": [
    "#### 7.c) ¿Cuantos tornillos esperaría seleccionar para encontrar el primer tornillo que no cumple con las especificaciones de diámetro señaladas"
   ]
  },
  {
   "cell_type": "code",
   "execution_count": 47,
   "id": "806bbee6",
   "metadata": {},
   "outputs": [
    {
     "name": "stdout",
     "output_type": "stream",
     "text": [
      "7.c)Para tener un 99.99% de probabilidad de encontar 1 tornillo que no cumple con las especificaciones\n",
      "Se estima que debemos seleccionar a lo menos 130.0 tornillos\n"
     ]
    }
   ],
   "source": [
    "from scipy.stats import geom\n",
    "\n",
    "prob = geom.ppf(0.9999, 1-probabilidadCumple)\n",
    "print(f\"7.c)Para tener un 99.99% de probabilidad de encontar 1 tornillo que no cumple con las especificaciones\")\n",
    "print(f\"Se estima que debemos seleccionar a lo menos {prob} tornillos\")"
   ]
  },
  {
   "cell_type": "markdown",
   "id": "4f2d15be",
   "metadata": {},
   "source": [
    "### Ejercicio 8:\n",
    "La duración de un láser semiconductor a potencia constante tiene una distribución normal con media 7.000 horas y desviación típica de 600 horas.\n",
    "#### 8.a) ¿Cuál es la probabilidad de que el láser falle antes de 5.000 horas?"
   ]
  },
  {
   "cell_type": "code",
   "execution_count": 57,
   "id": "569cbf51",
   "metadata": {},
   "outputs": [
    {
     "name": "stdout",
     "output_type": "stream",
     "text": [
      "8.a)La probabilidad de que falle antes de las 5000 horas es de 0.043%\n"
     ]
    }
   ],
   "source": [
    "probFalle5000 = np.round(stats.norm.cdf(5000, loc = 7000, scale = 600), 5) * 100\n",
    "\n",
    "print(f\"8.a)La probabilidad de que falle antes de las 5000 horas es de {probFalle5000}%\")"
   ]
  },
  {
   "cell_type": "markdown",
   "id": "600ed82d",
   "metadata": {},
   "source": [
    "#### 8.b) ¿Cuál es la duración en horas que no es excedida por el 95 % de los láseres?"
   ]
  },
  {
   "cell_type": "code",
   "execution_count": 67,
   "id": "2f83bd31",
   "metadata": {},
   "outputs": [
    {
     "name": "stdout",
     "output_type": "stream",
     "text": [
      "8.a)La duracion no excedida por el 95% de los laseres es de 7986.9 horas\n"
     ]
    }
   ],
   "source": [
    "hora95per = np.round(stats.norm.ppf(0.95, loc = 7000, scale = 600), 1)\n",
    "print(f\"8.a)La duracion no excedida por el 95% de los laseres es de {hora95per} horas\")"
   ]
  },
  {
   "cell_type": "markdown",
   "id": "22c37cb4",
   "metadata": {},
   "source": [
    "#### 8.c) Si se hace uso de tres láseres en un producto y se supone que fallan de manera independiente. ¿Cuál es la probabilidad de que tres sigan funcionando después de 7.000 horas?"
   ]
  },
  {
   "cell_type": "code",
   "execution_count": 75,
   "id": "d0f27cb7",
   "metadata": {},
   "outputs": [
    {
     "name": "stdout",
     "output_type": "stream",
     "text": [
      "8.c)La probabilidad de que 3 laser fallen funcionando por sobre 7000 horas es de 12.5%\n"
     ]
    }
   ],
   "source": [
    "probFalle7000 = np.round(stats.norm.cdf(7000, loc = 7000, scale = 600), 5)\n",
    "probFalle7000x3 = probFalle7000**3*100\n",
    "\n",
    "probFalle7000x3\n",
    "print(f\"8.c)La probabilidad de que 3 laser fallen funcionando por sobre 7000 horas es de {probFalle7000x3}%\")"
   ]
  }
 ],
 "metadata": {
  "kernelspec": {
   "display_name": "Python 3 (ipykernel)",
   "language": "python",
   "name": "python3"
  },
  "language_info": {
   "codemirror_mode": {
    "name": "ipython",
    "version": 3
   },
   "file_extension": ".py",
   "mimetype": "text/x-python",
   "name": "python",
   "nbconvert_exporter": "python",
   "pygments_lexer": "ipython3",
   "version": "3.11.5"
  }
 },
 "nbformat": 4,
 "nbformat_minor": 5
}
