{
 "cells": [
  {
   "cell_type": "markdown",
   "id": "345bdd75",
   "metadata": {},
   "source": [
    "# Modulo 5: Ejercicio 3\n",
    "## Alumno: Jose Suarez"
   ]
  },
  {
   "cell_type": "markdown",
   "id": "55fe0436",
   "metadata": {},
   "source": [
    "### Ejercicio 1: Muestreo estratificado con afijación proporcional\n",
    "Se desea tomar una muestra aleatoria estratificada de las personas mayores de edad de un municipio, cuyos estratos son los siguientes intervalos de edades, en años: de 18 a 30, de 31 a 45, de 46 a 60 y mayores de 60. En el primer intervalo hay 7500 personas, en el segundo hay 8400, en el tercero 5700 y en el cuarto 3000.\n",
    "\n",
    "Calcule el tamaño de la muestra total y su composición, sabiendo que el muestreo se hace con afijación proporcional y se han elegido al azar 375 personas del primer estrato.\n",
    "\n",
    "estratos: [18,30][31,45][46,60][60,inf]\n",
    "personas por intervalo 7500,8400,5700,3000\n",
    "se elijen 375 personas del primer estrato, calcular tamaño muestra."
   ]
  },
  {
   "cell_type": "code",
   "execution_count": 2,
   "id": "7acf9bc3",
   "metadata": {},
   "outputs": [
    {
     "name": "stdout",
     "output_type": "stream",
     "text": [
      "1)El tamaño de la muestra total es de 1230.0 su distribucion esta dada en el siguiente dataframe:\n",
      "  intervalos  poblacionIntervalo  proporcionPoblacion  muestraEstrato\n",
      "0   [18, 30]                7500             0.304878           375.0\n",
      "1   [31, 45]                8400             0.341463           420.0\n",
      "2   [46, 60]                5700             0.231707           285.0\n",
      "3  [60, 120]                3000             0.121951           150.0\n"
     ]
    }
   ],
   "source": [
    "import pandas as pd\n",
    "import numpy as np\n",
    "from scipy.stats import norm\n",
    "from scipy.stats import binom\n",
    "from scipy.stats import geom\n",
    "from scipy.stats import t\n",
    "\n",
    "\n",
    "\n",
    "intervalos = [[18,30],[31,45],[46,60],[60,120]]\n",
    "poblacionIntervalos = [7500,8400,5700,3000]\n",
    "muestra1Estrato = 375\n",
    "\n",
    "poblacionDF = pd.DataFrame({\"intervalos\": intervalos,\"poblacionIntervalo\":poblacionIntervalos})\n",
    "poblacionDF[\"proporcionPoblacion\"] = poblacionDF[\"poblacionIntervalo\"] / poblacionDF[\"poblacionIntervalo\"].sum()\n",
    "poblacionDF[\"muestraEstrato\"] = poblacionDF[\"poblacionIntervalo\"] * (muestra1Estrato/poblacionIntervalos[0])\n",
    "\n",
    "print(\"1)El tamaño de la muestra total es de\", poblacionDF[\"muestraEstrato\"].sum(), \"su distribucion esta dada en el siguiente dataframe:\")\n",
    "print(poblacionDF)"
   ]
  },
  {
   "cell_type": "markdown",
   "id": "3bdc2743",
   "metadata": {},
   "source": [
    "### Ejercicio 2\n",
    "En un instituto hay 110 alumnos de 1º ESO, 99 de 2º ESO, 77 de 3º ESO y 66 de 4º ESO. Se toma una muestra para hacer una encuesta, usando muestreo estratificado con afijación proporcional. Se sabe que en la muestra había 20 alumnos de 1º ESO. ¿Cuántos alumnos hay en la muestra de los demás cursos y cuál es el tamaño de la muestra?"
   ]
  },
  {
   "cell_type": "code",
   "execution_count": 64,
   "id": "8138a32c",
   "metadata": {},
   "outputs": [
    {
     "name": "stdout",
     "output_type": "stream",
     "text": [
      "2)En la muestra habrian 64.0 , los alumnos por muestra estan en el siguiente data frame\n",
      "  Curso  Alumnos  muestraEstrato\n",
      "0  1eso      110            20.0\n",
      "1  2eso       99            18.0\n",
      "2  3eso       77            14.0\n",
      "3  4eso       66            12.0\n"
     ]
    }
   ],
   "source": [
    "nroAlumnos = [110,99,77,66]\n",
    "curso = [\"1eso\",\"2eso\",\"3eso\",\"4eso\"]\n",
    "muestra1eso = 20\n",
    "\n",
    "poblacionDF = pd.DataFrame({\"Curso\":curso,\"Alumnos\":nroAlumnos})\n",
    "poblacionDF[\"muestraEstrato\"] = poblacionDF[\"Alumnos\"] * (muestra1eso/nroAlumnos[0])\n",
    "\n",
    "print(\"2)En la muestra habrian\", poblacionDF[\"muestraEstrato\"].sum(), \", los alumnos por muestra estan en el siguiente data frame\")\n",
    "print(poblacionDF)"
   ]
  },
  {
   "cell_type": "markdown",
   "id": "d33d4837",
   "metadata": {},
   "source": [
    "### Ejercicio 3\n",
    "Si el contenido en gr. de un determinado medicamento X sigue una distribución N (7.5,0.3), calcular la probabilidad de que para una muestra de tamaño n=5, se obtenga medio menor que 7, Pr ( X ≤ 7)."
   ]
  },
  {
   "cell_type": "code",
   "execution_count": 65,
   "id": "cdfe16c3",
   "metadata": {},
   "outputs": [
    {
     "name": "stdout",
     "output_type": "stream",
     "text": [
      "3)La probabilidad de obtener una media muestral menor que 7 para una muestra de tamaño 5 es de 1.018%\n"
     ]
    }
   ],
   "source": [
    "sigmaN5 = 0.3/(5**0.5)\n",
    "probMediaMenor7 = np.round(t.cdf(7, 4, loc=7.5, scale=sigmaN5),5) * 100\n",
    "\n",
    "print(f\"3)La probabilidad de obtener una media muestral menor que 7 para una muestra de tamaño 5 es de {probMediaMenor7}%\")"
   ]
  },
  {
   "cell_type": "markdown",
   "id": "2ef4081d",
   "metadata": {},
   "source": [
    "### Ejercicio 4\n",
    "Estamos estudiando el tiempo promedio que los estudiantes de una escuela pasan en el transporte para llegar a la escuela. Sabemos por datos previos que el tiempo promedio que un estudiante pasa en el transporte sigue una distribución sesgada a la derecha con una media de 35 minutos y una desviación estándar de 10 minutos.\n",
    "\n",
    "Queremos estudiar la distribución del tiempo promedio que pasan en el transporte para grupos de estudiantes, donde cada grupo está formado por 50 estudiantes.\n",
    "\n",
    "#### 4.a) Utilizando el Teorema del Límite Central, ¿cuál es la media y la desviación estándar de la distribución de la media muestral del tiempo que pasan en el transporte para estos grupos de 50 estudiantes?"
   ]
  },
  {
   "cell_type": "code",
   "execution_count": 66,
   "id": "e5a2c486",
   "metadata": {},
   "outputs": [
    {
     "name": "stdout",
     "output_type": "stream",
     "text": [
      "4.a)La media de la distribución es: 35 minutos\n",
      "La desviación estándar de la distribución de la media muestral es: 1.414 minutos\n"
     ]
    }
   ],
   "source": [
    "mu = 35\n",
    "sigma = 10\n",
    "tamañoMuestra = 50\n",
    "\n",
    "sigma50muestras = np.round(sigma/(tamañoMuestra**0.5),3)\n",
    "\n",
    "print(\"4.a)La media de la distribución es:\", mu, \"minutos\")\n",
    "print(\"La desviación estándar de la distribución de la media muestral es:\", sigma50muestras, \"minutos\")"
   ]
  },
  {
   "cell_type": "markdown",
   "id": "2b076ea1",
   "metadata": {},
   "source": [
    "#### 4.b) Si tomamos muestras de 50 estudiantes y calculamos la media del tiempo que pasan en el transporte para cada muestra, ¿cuál es la probabilidad de que la media muestral esté por debajo de 33 minutos?"
   ]
  },
  {
   "cell_type": "code",
   "execution_count": 67,
   "id": "8f8bfe31",
   "metadata": {},
   "outputs": [
    {
     "name": "stdout",
     "output_type": "stream",
     "text": [
      "4.b)La probabilidad de que la media muestral esté por debajo de 33 minutos 8.18%\n"
     ]
    }
   ],
   "source": [
    "probMedia33m = np.round(t.cdf(33, 49, loc=mu, scale=sigma50muestras),4)*100\n",
    "print(f\"4.b)La probabilidad de que la media muestral esté por debajo de 33 minutos {probMedia33m}%\")"
   ]
  },
  {
   "cell_type": "markdown",
   "id": "cc401fa5",
   "metadata": {},
   "source": [
    "### Ejercicio 5:\n",
    "Supongamos que se quiere comparar el rendimiento promedio en matemáticas entre dos grupos de estudiantes: uno de una escuela A y otro de una escuela B. Se toma una muestra aleatoria de 30 estudiantes de la escuela A y otra muestra aleatoria de 35 estudiantes de la escuela B.\n",
    "\n",
    "Los resultados obtenidos son:\n",
    "\n",
    "Para la muestra de la escuela A: la media del rendimiento en matemáticas es de 75 con una desviación estándar de 8.\n",
    "\n",
    "Para la muestra de la escuela B: la media del rendimiento en matemáticas es de 72 con una desviación estándar de 6.\n",
    "\n",
    "#### 5.a) Calcula la diferencia de medias muestrales entre ambos grupos."
   ]
  },
  {
   "cell_type": "code",
   "execution_count": 72,
   "id": "c39ee586",
   "metadata": {},
   "outputs": [
    {
     "name": "stdout",
     "output_type": "stream",
     "text": [
      "5.a)La diferencia entre medias muestrales es de 3 puntos\n"
     ]
    }
   ],
   "source": [
    "mu_A = 75\n",
    "sigma_A = 8\n",
    "tamañoMuestra_A = 30\n",
    "sigma30muestras_A = sigma_A/(tamañoMuestra_A**0.5)\n",
    "\n",
    "mu_B = 72\n",
    "sigma_B = 6\n",
    "tamañoMuestra_B = 35\n",
    "sigma30muestras_B = sigma_B/(tamañoMuestra_B**0.5)\n",
    "\n",
    "\n",
    "difMu = mu_A - mu_B\n",
    "print(f\"5.a)La diferencia entre medias muestrales es de {difMu} puntos\")"
   ]
  },
  {
   "cell_type": "markdown",
   "id": "0b69719a",
   "metadata": {},
   "source": [
    "#### 5.b) Determina la media y la desviación estándar de la distribución muestral de la diferencia entre las medias muestrales de estos dos grupos.\n",
    "\n",
    "(a/b)**0.5 = (a**0.5)/(b**0.5) "
   ]
  },
  {
   "cell_type": "code",
   "execution_count": 84,
   "id": "2d246252",
   "metadata": {},
   "outputs": [
    {
     "name": "stdout",
     "output_type": "stream",
     "text": [
      "5.b) la media muestral es de 3 puntos y la desviación estándar es de 1.7782\n"
     ]
    }
   ],
   "source": [
    "difSigma = np.round((((sigma_A**2)/tamañoMuestra_A) + ((sigma_B**2)/tamañoMuestra_B)) ** 0.5, 4)\n",
    "\n",
    "print(f\"5.b) la media muestral es de {difMu} puntos y la desviación estándar es de {difSigma}\")"
   ]
  },
  {
   "cell_type": "markdown",
   "id": "028ab553",
   "metadata": {},
   "source": [
    "#### 5.c) ¿Cuál es la probabilidad de que la diferencia entre las medias muestrales sea mayor a 2?"
   ]
  },
  {
   "cell_type": "code",
   "execution_count": 90,
   "id": "4bc6e4e1",
   "metadata": {},
   "outputs": [
    {
     "name": "stdout",
     "output_type": "stream",
     "text": [
      "5.c)La probabilidad de que la diferencia entre las medias muestrales sea mayor a 2 es de 2.491%\n"
     ]
    }
   ],
   "source": [
    "gradosLibertad = n_A + n_B - 2\n",
    "\n",
    "# Calcular la probabilidad de que el estadístico t sea mayor a 2\n",
    "probMayor2 = np.round(t.sf(2, gradosLibertad), 5)*100\n",
    "\n",
    "print(f\"5.c)La probabilidad de que la diferencia entre las medias muestrales sea mayor a 2 es de {probMayor2}%\")"
   ]
  },
  {
   "cell_type": "markdown",
   "id": "c1004173",
   "metadata": {},
   "source": [
    "### Ejercicio 6:\n",
    "Una empresa de mensajería que opera en la ciudad tarda una media de 35 minutos en llevar un paquete, con una desviación típica de 8 minutos. Supongamos que durante el día de hoy han repartido 200 paquetes.\n",
    "#### 6.a) ¿Cuál es la probabilidad de que la media de los tiempos de entrega de hoy esté entre 30 y 35 minutos?"
   ]
  },
  {
   "cell_type": "code",
   "execution_count": 9,
   "id": "6cefddb4",
   "metadata": {},
   "outputs": [
    {
     "name": "stdout",
     "output_type": "stream",
     "text": [
      "6.a)La probabilidad de que la media de los tiempos de entrega esté entre 30 y 35 minutos es de 50.0%\n"
     ]
    },
    {
     "data": {
      "text/plain": [
       "0.2"
      ]
     },
     "execution_count": 9,
     "metadata": {},
     "output_type": "execute_result"
    }
   ],
   "source": [
    "pauqtesDia = 200\n",
    "sigmaPaquete = 8\n",
    "sigmaDia = (sigmaPaquete/pauqtesDia)**0.5\n",
    "\n",
    "probRango30_35 = np.round(norm.cdf(35, loc=35, scale=sigmaDia) - norm.cdf(30, loc=35, scale=sigmaDia), 5) * 100\n",
    "\n",
    "print(f\"6.a)La probabilidad de que la media de los tiempos de entrega esté entre 30 y 35 minutos es de {probRango30_35}%\")\n",
    "sigmaDia"
   ]
  },
  {
   "cell_type": "markdown",
   "id": "a382794e",
   "metadata": {},
   "source": [
    "#### 6.b) ¿Cuál es la probabilidad de que, en total, para los doscientos paquetes hayan estado más de 115 horas?"
   ]
  },
  {
   "cell_type": "code",
   "execution_count": 101,
   "id": "06b4986a",
   "metadata": {},
   "outputs": [
    {
     "name": "stdout",
     "output_type": "stream",
     "text": [
      "La probabilidad de que, en total, para los doscientos paquetes hayan estado más de 115 horas es de 50.59%\n"
     ]
    }
   ],
   "source": [
    "tiempoTotalHoras = (200 * 35) / 60\n",
    "sigmaAcumulado = (200 * (8**2))**0.5\n",
    "\n",
    "\n",
    "prob200En115 = np.round(1 - norm.cdf(115, loc=tiempoTotalHoras, scale=sigmaAcumulado), 4)*100\n",
    "print(f\"6.b)La probabilidad de que, en total, para los doscientos paquetes hayan estado más de 115 horas es de {prob200En115}%\")"
   ]
  }
 ],
 "metadata": {
  "kernelspec": {
   "display_name": "Python 3 (ipykernel)",
   "language": "python",
   "name": "python3"
  },
  "language_info": {
   "codemirror_mode": {
    "name": "ipython",
    "version": 3
   },
   "file_extension": ".py",
   "mimetype": "text/x-python",
   "name": "python",
   "nbconvert_exporter": "python",
   "pygments_lexer": "ipython3",
   "version": "3.11.5"
  }
 },
 "nbformat": 4,
 "nbformat_minor": 5
}
